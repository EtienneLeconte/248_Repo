{
 "cells": [
  {
   "cell_type": "markdown",
   "metadata": {},
   "source": [
    "# Samples "
   ]
  },
  {
   "cell_type": "markdown",
   "metadata": {},
   "source": [
    "* Can be big or small\n",
    "* Can be biased or representative\n",
    "* Can be probabilistic or not \n",
    "* Can be random or not \n",
    "* Can follow some rules or not "
   ]
  },
  {
   "cell_type": "markdown",
   "metadata": {},
   "source": [
    "Different types of samples: \n",
    "1. Probabilistic samples\n",
    "    * Simple random sample - doesnt exist\n",
    "    * Mechanic (systematic) sample - can brinf biases due to absence of willingness or motivation \n",
    "    * Stratified sample \n",
    "    * Cluster sample \n",
    "1. Non-probabilistic samples \n",
    "    * Quote sample \n",
    "    * Snowball sample \n",
    "    * Chaotic sample"
   ]
  },
  {
   "cell_type": "code",
   "execution_count": 1,
   "metadata": {},
   "outputs": [
    {
     "name": "stdout",
     "output_type": "stream",
     "text": [
      "Requirement already satisfied: kaggle in /usr/local/Cellar/jupyterlab/2.2.0/libexec/lib/python3.8/site-packages (1.5.8)\n",
      "Requirement already satisfied: slugify in /usr/local/Cellar/jupyterlab/2.2.0/libexec/lib/python3.8/site-packages (from kaggle) (0.0.1)\n",
      "Requirement already satisfied: tqdm in /usr/local/Cellar/jupyterlab/2.2.0/libexec/lib/python3.8/site-packages (from kaggle) (4.49.0)\n",
      "Requirement already satisfied: certifi in /usr/local/Cellar/jupyterlab/2.2.0/libexec/lib/python3.8/site-packages (from kaggle) (2020.6.20)\n",
      "Requirement already satisfied: six>=1.10 in /usr/local/Cellar/jupyterlab/2.2.0/libexec/lib/python3.8/site-packages (from kaggle) (1.15.0)\n",
      "Requirement already satisfied: urllib3<1.25,>=1.21.1 in /usr/local/Cellar/jupyterlab/2.2.0/libexec/lib/python3.8/site-packages (from kaggle) (1.24.3)\n",
      "Requirement already satisfied: python-slugify in /usr/local/Cellar/jupyterlab/2.2.0/libexec/lib/python3.8/site-packages (from kaggle) (4.0.1)\n",
      "Requirement already satisfied: requests in /usr/local/Cellar/jupyterlab/2.2.0/libexec/lib/python3.8/site-packages (from kaggle) (2.24.0)\n",
      "Requirement already satisfied: python-dateutil in /usr/local/Cellar/jupyterlab/2.2.0/libexec/lib/python3.8/site-packages (from kaggle) (2.8.1)\n",
      "Requirement already satisfied: text-unidecode>=1.3 in /usr/local/Cellar/jupyterlab/2.2.0/libexec/lib/python3.8/site-packages (from python-slugify->kaggle) (1.3)\n",
      "Requirement already satisfied: chardet<4,>=3.0.2 in /usr/local/Cellar/jupyterlab/2.2.0/libexec/lib/python3.8/site-packages (from requests->kaggle) (3.0.4)\n",
      "Requirement already satisfied: idna<3,>=2.5 in /usr/local/Cellar/jupyterlab/2.2.0/libexec/lib/python3.8/site-packages (from requests->kaggle) (2.10)\n",
      "\u001b[33mWARNING: You are using pip version 20.1.1; however, version 20.2.3 is available.\n",
      "You should consider upgrading via the '/usr/local/Cellar/jupyterlab/2.2.0/libexec/bin/python3.8 -m pip install --upgrade pip' command.\u001b[0m\n",
      "Note: you may need to restart the kernel to use updated packages.\n"
     ]
    }
   ],
   "source": [
    "pip install kaggle"
   ]
  },
  {
   "cell_type": "code",
   "execution_count": 2,
   "metadata": {
    "collapsed": true
   },
   "outputs": [
    {
     "ename": "OSError",
     "evalue": "Could not find kaggle.json. Make sure it's located in /Users/etienneleconte/.kaggle. Or use the environment method.",
     "output_type": "error",
     "traceback": [
      "\u001b[0;31m---------------------------------------------------------------------------\u001b[0m",
      "\u001b[0;31mOSError\u001b[0m                                   Traceback (most recent call last)",
      "\u001b[0;32m<ipython-input-2-b7ef0df8da55>\u001b[0m in \u001b[0;36m<module>\u001b[0;34m\u001b[0m\n\u001b[0;32m----> 1\u001b[0;31m \u001b[0;32mimport\u001b[0m \u001b[0mkaggle\u001b[0m\u001b[0;34m\u001b[0m\u001b[0;34m\u001b[0m\u001b[0m\n\u001b[0m\u001b[1;32m      2\u001b[0m \u001b[0mkaggle\u001b[0m\u001b[0;34m.\u001b[0m\u001b[0mapi\u001b[0m\u001b[0;34m.\u001b[0m\u001b[0mdataset_download_files\u001b[0m\u001b[0;34m(\u001b[0m\u001b[0;34m'rtatman/chocolate-bar-ratings'\u001b[0m\u001b[0;34m)\u001b[0m\u001b[0;34m\u001b[0m\u001b[0;34m\u001b[0m\u001b[0m\n\u001b[1;32m      3\u001b[0m \u001b[0;32mimport\u001b[0m \u001b[0mzipfile\u001b[0m\u001b[0;34m\u001b[0m\u001b[0;34m\u001b[0m\u001b[0m\n\u001b[1;32m      4\u001b[0m \u001b[0mname\u001b[0m\u001b[0;34m=\u001b[0m\u001b[0mzipfile\u001b[0m\u001b[0;34m.\u001b[0m\u001b[0mZipFile\u001b[0m\u001b[0;34m(\u001b[0m\u001b[0;34m'./chocolate-bar-ratings.zip'\u001b[0m\u001b[0;34m)\u001b[0m\u001b[0;34m.\u001b[0m\u001b[0mfilelist\u001b[0m\u001b[0;34m[\u001b[0m\u001b[0;36m0\u001b[0m\u001b[0;34m]\u001b[0m\u001b[0;34m.\u001b[0m\u001b[0mfilename\u001b[0m\u001b[0;34m\u001b[0m\u001b[0;34m\u001b[0m\u001b[0m\n\u001b[1;32m      5\u001b[0m \u001b[0;32mimport\u001b[0m \u001b[0mpandas\u001b[0m \u001b[0;32mas\u001b[0m \u001b[0mpd\u001b[0m\u001b[0;34m\u001b[0m\u001b[0;34m\u001b[0m\u001b[0m\n",
      "\u001b[0;32m/usr/local/Cellar/jupyterlab/2.2.0/libexec/lib/python3.8/site-packages/kaggle/__init__.py\u001b[0m in \u001b[0;36m<module>\u001b[0;34m\u001b[0m\n\u001b[1;32m     21\u001b[0m \u001b[0;34m\u001b[0m\u001b[0m\n\u001b[1;32m     22\u001b[0m \u001b[0mapi\u001b[0m \u001b[0;34m=\u001b[0m \u001b[0mKaggleApi\u001b[0m\u001b[0;34m(\u001b[0m\u001b[0mApiClient\u001b[0m\u001b[0;34m(\u001b[0m\u001b[0;34m)\u001b[0m\u001b[0;34m)\u001b[0m\u001b[0;34m\u001b[0m\u001b[0;34m\u001b[0m\u001b[0m\n\u001b[0;32m---> 23\u001b[0;31m \u001b[0mapi\u001b[0m\u001b[0;34m.\u001b[0m\u001b[0mauthenticate\u001b[0m\u001b[0;34m(\u001b[0m\u001b[0;34m)\u001b[0m\u001b[0;34m\u001b[0m\u001b[0;34m\u001b[0m\u001b[0m\n\u001b[0m",
      "\u001b[0;32m/usr/local/Cellar/jupyterlab/2.2.0/libexec/lib/python3.8/site-packages/kaggle/api/kaggle_api_extended.py\u001b[0m in \u001b[0;36mauthenticate\u001b[0;34m(self)\u001b[0m\n\u001b[1;32m    162\u001b[0m                 \u001b[0mconfig_data\u001b[0m \u001b[0;34m=\u001b[0m \u001b[0mself\u001b[0m\u001b[0;34m.\u001b[0m\u001b[0mread_config_file\u001b[0m\u001b[0;34m(\u001b[0m\u001b[0mconfig_data\u001b[0m\u001b[0;34m)\u001b[0m\u001b[0;34m\u001b[0m\u001b[0;34m\u001b[0m\u001b[0m\n\u001b[1;32m    163\u001b[0m             \u001b[0;32melse\u001b[0m\u001b[0;34m:\u001b[0m\u001b[0;34m\u001b[0m\u001b[0;34m\u001b[0m\u001b[0m\n\u001b[0;32m--> 164\u001b[0;31m                 raise IOError('Could not find {}. Make sure it\\'s located in'\n\u001b[0m\u001b[1;32m    165\u001b[0m                               ' {}. Or use the environment method.'.format(\n\u001b[1;32m    166\u001b[0m                                   self.config_file, self.config_dir))\n",
      "\u001b[0;31mOSError\u001b[0m: Could not find kaggle.json. Make sure it's located in /Users/etienneleconte/.kaggle. Or use the environment method."
     ]
    }
   ],
   "source": [
    "import kaggle\n",
    "kaggle.api.dataset_download_files('rtatman/chocolate-bar-ratings')\n",
    "import zipfile\n",
    "name=zipfile.ZipFile('./chocolate-bar-ratings.zip').filelist[0].filename\n",
    "import pandas as pd\n",
    "df=pd.read_csv(zipfile.ZipFile('./chocolate-bar-ratings.zip').open(name))"
   ]
  },
  {
   "cell_type": "code",
   "execution_count": 10,
   "metadata": {},
   "outputs": [],
   "source": [
    "import pandas as pd \n",
    "df=pd.read_csv('/Users/etienneleconte/Downloads/chocolate-bar-ratings.zip')"
   ]
  },
  {
   "cell_type": "code",
   "execution_count": 15,
   "metadata": {},
   "outputs": [],
   "source": [
    "df.columns=df.columns.str.replace('\\n','_').str.replace(' ','_')"
   ]
  },
  {
   "cell_type": "code",
   "execution_count": 18,
   "metadata": {},
   "outputs": [],
   "source": [
    "mode=df.Cocoa_Percent.mode()[0]"
   ]
  },
  {
   "cell_type": "code",
   "execution_count": 21,
   "metadata": {},
   "outputs": [
    {
     "data": {
      "text/html": [
       "<div>\n",
       "<style scoped>\n",
       "    .dataframe tbody tr th:only-of-type {\n",
       "        vertical-align: middle;\n",
       "    }\n",
       "\n",
       "    .dataframe tbody tr th {\n",
       "        vertical-align: top;\n",
       "    }\n",
       "\n",
       "    .dataframe thead th {\n",
       "        text-align: right;\n",
       "    }\n",
       "</style>\n",
       "<table border=\"1\" class=\"dataframe\">\n",
       "  <thead>\n",
       "    <tr style=\"text-align: right;\">\n",
       "      <th></th>\n",
       "      <th>Company _(Maker-if_known)</th>\n",
       "      <th>Specific_Bean_Origin_or_Bar_Name</th>\n",
       "      <th>REF</th>\n",
       "      <th>Review_Date</th>\n",
       "      <th>Cocoa_Percent</th>\n",
       "      <th>Company_Location</th>\n",
       "      <th>Rating</th>\n",
       "      <th>Bean_Type</th>\n",
       "      <th>Broad_Bean_Origin</th>\n",
       "    </tr>\n",
       "  </thead>\n",
       "  <tbody>\n",
       "    <tr>\n",
       "      <th>1</th>\n",
       "      <td>A. Morin</td>\n",
       "      <td>Kpime</td>\n",
       "      <td>1676</td>\n",
       "      <td>2015</td>\n",
       "      <td>70%</td>\n",
       "      <td>France</td>\n",
       "      <td>2.75</td>\n",
       "      <td></td>\n",
       "      <td>Togo</td>\n",
       "    </tr>\n",
       "    <tr>\n",
       "      <th>2</th>\n",
       "      <td>A. Morin</td>\n",
       "      <td>Atsane</td>\n",
       "      <td>1676</td>\n",
       "      <td>2015</td>\n",
       "      <td>70%</td>\n",
       "      <td>France</td>\n",
       "      <td>3.00</td>\n",
       "      <td></td>\n",
       "      <td>Togo</td>\n",
       "    </tr>\n",
       "    <tr>\n",
       "      <th>3</th>\n",
       "      <td>A. Morin</td>\n",
       "      <td>Akata</td>\n",
       "      <td>1680</td>\n",
       "      <td>2015</td>\n",
       "      <td>70%</td>\n",
       "      <td>France</td>\n",
       "      <td>3.50</td>\n",
       "      <td></td>\n",
       "      <td>Togo</td>\n",
       "    </tr>\n",
       "    <tr>\n",
       "      <th>4</th>\n",
       "      <td>A. Morin</td>\n",
       "      <td>Quilla</td>\n",
       "      <td>1704</td>\n",
       "      <td>2015</td>\n",
       "      <td>70%</td>\n",
       "      <td>France</td>\n",
       "      <td>3.50</td>\n",
       "      <td></td>\n",
       "      <td>Peru</td>\n",
       "    </tr>\n",
       "    <tr>\n",
       "      <th>5</th>\n",
       "      <td>A. Morin</td>\n",
       "      <td>Carenero</td>\n",
       "      <td>1315</td>\n",
       "      <td>2014</td>\n",
       "      <td>70%</td>\n",
       "      <td>France</td>\n",
       "      <td>2.75</td>\n",
       "      <td>Criollo</td>\n",
       "      <td>Venezuela</td>\n",
       "    </tr>\n",
       "    <tr>\n",
       "      <th>...</th>\n",
       "      <td>...</td>\n",
       "      <td>...</td>\n",
       "      <td>...</td>\n",
       "      <td>...</td>\n",
       "      <td>...</td>\n",
       "      <td>...</td>\n",
       "      <td>...</td>\n",
       "      <td>...</td>\n",
       "      <td>...</td>\n",
       "    </tr>\n",
       "    <tr>\n",
       "      <th>1771</th>\n",
       "      <td>Zart Pralinen</td>\n",
       "      <td>Kakao Kamili, Kilombero Valley</td>\n",
       "      <td>1824</td>\n",
       "      <td>2016</td>\n",
       "      <td>70%</td>\n",
       "      <td>Austria</td>\n",
       "      <td>3.50</td>\n",
       "      <td>Criollo, Trinitario</td>\n",
       "      <td>Tanzania</td>\n",
       "    </tr>\n",
       "    <tr>\n",
       "      <th>1781</th>\n",
       "      <td>Zotter</td>\n",
       "      <td>Satipo Pangoa region, 16hr conche</td>\n",
       "      <td>875</td>\n",
       "      <td>2012</td>\n",
       "      <td>70%</td>\n",
       "      <td>Austria</td>\n",
       "      <td>3.00</td>\n",
       "      <td>Criollo (Amarru)</td>\n",
       "      <td>Peru</td>\n",
       "    </tr>\n",
       "    <tr>\n",
       "      <th>1782</th>\n",
       "      <td>Zotter</td>\n",
       "      <td>Satipo Pangoa region, 20hr conche</td>\n",
       "      <td>875</td>\n",
       "      <td>2012</td>\n",
       "      <td>70%</td>\n",
       "      <td>Austria</td>\n",
       "      <td>3.50</td>\n",
       "      <td>Criollo (Amarru)</td>\n",
       "      <td>Peru</td>\n",
       "    </tr>\n",
       "    <tr>\n",
       "      <th>1787</th>\n",
       "      <td>Zotter</td>\n",
       "      <td>Santo Domingo</td>\n",
       "      <td>879</td>\n",
       "      <td>2012</td>\n",
       "      <td>70%</td>\n",
       "      <td>Austria</td>\n",
       "      <td>3.75</td>\n",
       "      <td></td>\n",
       "      <td>Dominican Republic</td>\n",
       "    </tr>\n",
       "    <tr>\n",
       "      <th>1790</th>\n",
       "      <td>Zotter</td>\n",
       "      <td>Peru</td>\n",
       "      <td>647</td>\n",
       "      <td>2011</td>\n",
       "      <td>70%</td>\n",
       "      <td>Austria</td>\n",
       "      <td>3.75</td>\n",
       "      <td></td>\n",
       "      <td>Peru</td>\n",
       "    </tr>\n",
       "  </tbody>\n",
       "</table>\n",
       "<p>672 rows × 9 columns</p>\n",
       "</div>"
      ],
      "text/plain": [
       "     Company _(Maker-if_known)   Specific_Bean_Origin_or_Bar_Name   REF  \\\n",
       "1                     A. Morin                              Kpime  1676   \n",
       "2                     A. Morin                             Atsane  1676   \n",
       "3                     A. Morin                              Akata  1680   \n",
       "4                     A. Morin                             Quilla  1704   \n",
       "5                     A. Morin                           Carenero  1315   \n",
       "...                        ...                                ...   ...   \n",
       "1771             Zart Pralinen     Kakao Kamili, Kilombero Valley  1824   \n",
       "1781                    Zotter  Satipo Pangoa region, 16hr conche   875   \n",
       "1782                    Zotter  Satipo Pangoa region, 20hr conche   875   \n",
       "1787                    Zotter                      Santo Domingo   879   \n",
       "1790                    Zotter                               Peru   647   \n",
       "\n",
       "      Review_Date Cocoa_Percent Company_Location  Rating            Bean_Type  \\\n",
       "1            2015           70%           France    2.75                        \n",
       "2            2015           70%           France    3.00                        \n",
       "3            2015           70%           France    3.50                        \n",
       "4            2015           70%           France    3.50                        \n",
       "5            2014           70%           France    2.75              Criollo   \n",
       "...           ...           ...              ...     ...                  ...   \n",
       "1771         2016           70%          Austria    3.50  Criollo, Trinitario   \n",
       "1781         2012           70%          Austria    3.00     Criollo (Amarru)   \n",
       "1782         2012           70%          Austria    3.50     Criollo (Amarru)   \n",
       "1787         2012           70%          Austria    3.75                        \n",
       "1790         2011           70%          Austria    3.75                        \n",
       "\n",
       "       Broad_Bean_Origin  \n",
       "1                   Togo  \n",
       "2                   Togo  \n",
       "3                   Togo  \n",
       "4                   Peru  \n",
       "5              Venezuela  \n",
       "...                  ...  \n",
       "1771            Tanzania  \n",
       "1781                Peru  \n",
       "1782                Peru  \n",
       "1787  Dominican Republic  \n",
       "1790                Peru  \n",
       "\n",
       "[672 rows x 9 columns]"
      ]
     },
     "execution_count": 21,
     "metadata": {},
     "output_type": "execute_result"
    }
   ],
   "source": [
    "df.loc[df.Cocoa_Percent==mode]\n",
    "\n",
    "df.query('Cocoa_Percent==Cocoa_Percent.mode()[0]')"
   ]
  },
  {
   "cell_type": "code",
   "execution_count": 22,
   "metadata": {},
   "outputs": [],
   "source": [
    "df1=df.loc[df.Cocoa_Percent==mode].copy()"
   ]
  },
  {
   "cell_type": "markdown",
   "metadata": {},
   "source": [
    "```df1``` is my population "
   ]
  },
  {
   "cell_type": "code",
   "execution_count": 23,
   "metadata": {},
   "outputs": [
    {
     "data": {
      "text/plain": [
       "count    672.000000\n",
       "mean       3.276042\n",
       "std        0.452957\n",
       "min        1.000000\n",
       "25%        3.000000\n",
       "50%        3.250000\n",
       "75%        3.500000\n",
       "max        5.000000\n",
       "Name: Rating, dtype: float64"
      ]
     },
     "execution_count": 23,
     "metadata": {},
     "output_type": "execute_result"
    }
   ],
   "source": [
    "df1.Rating.describe()"
   ]
  },
  {
   "cell_type": "markdown",
   "metadata": {},
   "source": [
    "## 2.2 Samples "
   ]
  },
  {
   "cell_type": "code",
   "execution_count": 26,
   "metadata": {},
   "outputs": [],
   "source": [
    "samples=[df1.sample(150) for i in range(250)]"
   ]
  },
  {
   "cell_type": "code",
   "execution_count": 27,
   "metadata": {},
   "outputs": [
    {
     "data": {
      "text/plain": [
       "3.28"
      ]
     },
     "execution_count": 27,
     "metadata": {},
     "output_type": "execute_result"
    }
   ],
   "source": [
    "(lambda x: x.Rating.mean())(samples[1])"
   ]
  },
  {
   "cell_type": "code",
   "execution_count": 30,
   "metadata": {},
   "outputs": [],
   "source": [
    "means=list(map(lambda x: x.Rating.mean(), samples))"
   ]
  },
  {
   "cell_type": "code",
   "execution_count": 32,
   "metadata": {},
   "outputs": [],
   "source": [
    "import matplotlib.pyplot as plt\n",
    "%matplotlib inline"
   ]
  },
  {
   "cell_type": "code",
   "execution_count": 34,
   "metadata": {},
   "outputs": [
    {
     "data": {
      "text/plain": [
       "[<matplotlib.lines.Line2D at 0x11d3e8610>]"
      ]
     },
     "execution_count": 34,
     "metadata": {},
     "output_type": "execute_result"
    },
    {
     "data": {
      "image/png": "[encoded data removed]",
      "text/plain": [
       "<Figure size 432x288 with 1 Axes>"
      ]
     },
     "metadata": {
      "needs_background": "light"
     },
     "output_type": "display_data"
    }
   ],
   "source": [
    "plt.plot(means,'o') # sample averages\n",
    "plt.plot(range(250), [df1.Rating.mean()]*250) #popultaion mean"
   ]
  },
  {
   "cell_type": "code",
   "execution_count": 35,
   "metadata": {},
   "outputs": [
    {
     "data": {
      "text/plain": [
       "(array([ 1.,  2.,  7., 34., 52., 58., 55., 33.,  5.,  3.]),\n",
       " array([3.165     , 3.18566667, 3.20633333, 3.227     , 3.24766667,\n",
       "        3.26833333, 3.289     , 3.30966667, 3.33033333, 3.351     ,\n",
       "        3.37166667]),\n",
       " <BarContainer object of 10 artists>)"
      ]
     },
     "execution_count": 35,
     "metadata": {},
     "output_type": "execute_result"
    },
    {
     "data": {
      "image/png": "[encoded data removed]",
      "text/plain": [
       "<Figure size 432x288 with 1 Axes>"
      ]
     },
     "metadata": {
      "needs_background": "light"
     },
     "output_type": "display_data"
    }
   ],
   "source": [
    "plt.hist(means)"
   ]
  },
  {
   "cell_type": "code",
   "execution_count": 36,
   "metadata": {},
   "outputs": [],
   "source": [
    "import numpy as np"
   ]
  },
  {
   "cell_type": "code",
   "execution_count": 37,
   "metadata": {},
   "outputs": [
    {
     "data": {
      "text/plain": [
       "3.2776666666666667"
      ]
     },
     "execution_count": 37,
     "metadata": {},
     "output_type": "execute_result"
    }
   ],
   "source": [
    "np.mean(means)"
   ]
  },
  {
   "cell_type": "code",
   "execution_count": 38,
   "metadata": {},
   "outputs": [
    {
     "data": {
      "text/plain": [
       "3.2760416666666665"
      ]
     },
     "execution_count": 38,
     "metadata": {},
     "output_type": "execute_result"
    }
   ],
   "source": [
    "df1.Rating.mean()"
   ]
  },
  {
   "cell_type": "code",
   "execution_count": 40,
   "metadata": {},
   "outputs": [
    {
     "data": {
      "text/plain": [
       "{'whiskers': [<matplotlib.lines.Line2D at 0x11d4c61c0>,\n",
       "  <matplotlib.lines.Line2D at 0x11d4c6520>],\n",
       " 'caps': [<matplotlib.lines.Line2D at 0x11d4c68b0>,\n",
       "  <matplotlib.lines.Line2D at 0x11d4c6c10>],\n",
       " 'boxes': [<matplotlib.lines.Line2D at 0x11d4b8e50>],\n",
       " 'medians': [<matplotlib.lines.Line2D at 0x11d4c6f70>],\n",
       " 'fliers': [<matplotlib.lines.Line2D at 0x11d4d0310>],\n",
       " 'means': []}"
      ]
     },
     "execution_count": 40,
     "metadata": {},
     "output_type": "execute_result"
    },
    {
     "data": {
      "image/png": "[encoded data removed]",
      "text/plain": [
       "<Figure size 432x288 with 1 Axes>"
      ]
     },
     "metadata": {
      "needs_background": "light"
     },
     "output_type": "display_data"
    }
   ],
   "source": [
    "plt.boxplot(means)"
   ]
  },
  {
   "cell_type": "markdown",
   "metadata": {},
   "source": [
    "## Confidence Intervals"
   ]
  },
  {
   "cell_type": "code",
   "execution_count": 41,
   "metadata": {},
   "outputs": [],
   "source": [
    "from scipy.stats import norm, t "
   ]
  },
  {
   "cell_type": "code",
   "execution_count": 43,
   "metadata": {},
   "outputs": [
    {
     "data": {
      "text/plain": [
       "(3.265753144565457, 3.3342468554345426)"
      ]
     },
     "execution_count": 43,
     "metadata": {},
     "output_type": "execute_result"
    }
   ],
   "source": [
    "norm.interval(0.95, loc=means[0], scale=df1.Rating.std()/df1.shape[0]**0.5)"
   ]
  },
  {
   "cell_type": "markdown",
   "metadata": {},
   "source": [
    "* Build confidence interval for each sample\n",
    "* Then heck whether population mean is inside the confidence interval of each sample \n",
    "* This tells us how many cases out of 250 are not really useful and will indicate the quality of the approach"
   ]
  },
  {
   "cell_type": "code",
   "execution_count": 45,
   "metadata": {},
   "outputs": [
    {
     "data": {
      "image/png": "[encoded data removed]",
      "text/plain": [
       "<Figure size 1440x576 with 1 Axes>"
      ]
     },
     "metadata": {
      "needs_background": "light"
     },
     "output_type": "display_data"
    }
   ],
   "source": [
    "# case when we dont know the population std\n",
    "def ci_norm(x):\n",
    "    sample_mean = x.Rating.mean()\n",
    "    sample_std = x.Rating.std()\n",
    "    standard_error=sample_std/(x.shape[0])**0.5\n",
    "    return t.interval(0.95,df=x.shape[0]-1, scale=standard_error)\n",
    "\n",
    "dd=pd.DataFrame(map(ci_norm, samples), columns=['lower','upper'])\n",
    "dd['means']=means\n",
    "dd['population_mean']=df1.Rating.mean()\n",
    "dd['inside']=dd.eval('lower<(population_mean-means)<upper')\n",
    "dd.inside.value_counts()\n",
    "\n",
    "plt.figure(figsize=(20,8))\n",
    "for inside,x in dd.groupby('inside'):\n",
    "    plt.errorbar(x.index, x.means, yerr=x.iloc[:,1].T.values, fmt='o', uplims=True, lolims=True)\n",
    "plt.plot(range(len(samples)), dd.population_mean)\n",
    "plt.show()"
   ]
  },
  {
   "cell_type": "code",
   "execution_count": 46,
   "metadata": {},
   "outputs": [
    {
     "data": {
      "image/png": "[encoded data removed]",
      "text/plain": [
       "<Figure size 1440x576 with 1 Axes>"
      ]
     },
     "metadata": {
      "needs_background": "light"
     },
     "output_type": "display_data"
    }
   ],
   "source": [
    "# case when we know the population std\n",
    "ss=np.var(df1.Rating)\n",
    "def ci_norm(x, sigma_squared=ss):\n",
    "    sample_mean = x.Rating.mean()\n",
    "    standard_error=(sigma_squared/x.shape[0])**0.5\n",
    "    return norm.interval(0.95, scale=standard_error)\n",
    "\n",
    "dd=pd.DataFrame(map(ci_norm, samples), columns=['lower','upper'])\n",
    "dd['means']=means\n",
    "dd['population_mean']=df1.Rating.mean()\n",
    "dd['inside']=dd.eval('lower<(population_mean-means)<upper')\n",
    "dd.inside.value_counts()\n",
    "\n",
    "plt.figure(figsize=(20,8))\n",
    "for inside,x in dd.groupby('inside'):\n",
    "    plt.errorbar(x.index, x.means, yerr=x.iloc[:,1].T.values, fmt='o', uplims=True, lolims=True)\n",
    "plt.plot(range(len(samples)), dd.population_mean)\n",
    "plt.show()"
   ]
  },
  {
   "cell_type": "code",
   "execution_count": null,
   "metadata": {},
   "outputs": [],
   "source": []
  }
 ],
 "metadata": {
  "kernelspec": {
   "display_name": "Python 3",
   "language": "python",
   "name": "python3"
  },
  "language_info": {
   "codemirror_mode": {
    "name": "ipython",
    "version": 3
   },
   "file_extension": ".py",
   "mimetype": "text/x-python",
   "name": "python",
   "nbconvert_exporter": "python",
   "pygments_lexer": "ipython3",
   "version": "3.8.5"
  }
 },
 "nbformat": 4,
 "nbformat_minor": 4
}
