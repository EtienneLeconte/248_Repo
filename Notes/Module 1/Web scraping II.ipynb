{
 "cells": [
  {
   "cell_type": "markdown",
   "metadata": {},
   "source": [
    "# Download audio"
   ]
  },
  {
   "cell_type": "code",
   "execution_count": 1,
   "metadata": {},
   "outputs": [],
   "source": [
    "import requests as r"
   ]
  },
  {
   "cell_type": "code",
   "execution_count": 2,
   "metadata": {},
   "outputs": [],
   "source": [
    "response=r.get('https://freesound.org/data/previews/519/519352_11204368-lq.mp3', stream=True)"
   ]
  },
  {
   "cell_type": "code",
   "execution_count": 3,
   "metadata": {},
   "outputs": [],
   "source": [
    "with open('new_audio_bcn.mp3', 'wb') as f:\n",
    "    f.write(response.content)"
   ]
  },
  {
   "cell_type": "code",
   "execution_count": 4,
   "metadata": {},
   "outputs": [
    {
     "name": "stdout",
     "output_type": "stream",
     "text": [
      "Requirement already satisfied: pydub in /usr/local/Cellar/jupyterlab/2.2.0/libexec/lib/python3.8/site-packages (0.24.1)\n",
      "\u001b[33mWARNING: You are using pip version 20.1.1; however, version 20.2.3 is available.\n",
      "You should consider upgrading via the '/usr/local/Cellar/jupyterlab/2.2.0/libexec/bin/python3.8 -m pip install --upgrade pip' command.\u001b[0m\n",
      "Note: you may need to restart the kernel to use updated packages.\n"
     ]
    }
   ],
   "source": [
    "pip install pydub"
   ]
  },
  {
   "cell_type": "code",
   "execution_count": 5,
   "metadata": {},
   "outputs": [
    {
     "name": "stderr",
     "output_type": "stream",
     "text": [
      "/usr/local/Cellar/jupyterlab/2.2.0/libexec/lib/python3.8/site-packages/pydub/utils.py:170: RuntimeWarning: Couldn't find ffmpeg or avconv - defaulting to ffmpeg, but may not work\n",
      "  warn(\"Couldn't find ffmpeg or avconv - defaulting to ffmpeg, but may not work\", RuntimeWarning)\n",
      "/usr/local/Cellar/jupyterlab/2.2.0/libexec/lib/python3.8/site-packages/pydub/utils.py:184: RuntimeWarning: Couldn't find ffplay or avplay - defaulting to ffplay, but may not work\n",
      "  warn(\"Couldn't find ffplay or avplay - defaulting to ffplay, but may not work\", RuntimeWarning)\n"
     ]
    }
   ],
   "source": [
    "from pydub import AudioSegment\n",
    "from pydub.playback import play\n",
    "import io"
   ]
  },
  {
   "cell_type": "code",
   "execution_count": 6,
   "metadata": {},
   "outputs": [
    {
     "name": "stderr",
     "output_type": "stream",
     "text": [
      "/usr/local/Cellar/jupyterlab/2.2.0/libexec/lib/python3.8/site-packages/pydub/utils.py:198: RuntimeWarning: Couldn't find ffprobe or avprobe - defaulting to ffprobe, but may not work\n",
      "  warn(\"Couldn't find ffprobe or avprobe - defaulting to ffprobe, but may not work\", RuntimeWarning)\n"
     ]
    },
    {
     "ename": "FileNotFoundError",
     "evalue": "[Errno 2] No such file or directory: 'ffprobe'",
     "output_type": "error",
     "traceback": [
      "\u001b[0;31m---------------------------------------------------------------------------\u001b[0m",
      "\u001b[0;31mFileNotFoundError\u001b[0m                         Traceback (most recent call last)",
      "\u001b[0;32m<ipython-input-6-158b2ab024b6>\u001b[0m in \u001b[0;36m<module>\u001b[0;34m\u001b[0m\n\u001b[0;32m----> 1\u001b[0;31m \u001b[0msong\u001b[0m\u001b[0;34m=\u001b[0m\u001b[0mAudioSegment\u001b[0m\u001b[0;34m.\u001b[0m\u001b[0mfrom_file\u001b[0m\u001b[0;34m(\u001b[0m\u001b[0mio\u001b[0m\u001b[0;34m.\u001b[0m\u001b[0mBytesIO\u001b[0m\u001b[0;34m(\u001b[0m\u001b[0mresponse\u001b[0m\u001b[0;34m.\u001b[0m\u001b[0mcontent\u001b[0m\u001b[0;34m)\u001b[0m\u001b[0;34m,\u001b[0m \u001b[0mformat\u001b[0m\u001b[0;34m=\u001b[0m\u001b[0;34m'mp3'\u001b[0m\u001b[0;34m)\u001b[0m\u001b[0;34m\u001b[0m\u001b[0;34m\u001b[0m\u001b[0m\n\u001b[0m\u001b[1;32m      2\u001b[0m \u001b[0mplay\u001b[0m\u001b[0;34m(\u001b[0m\u001b[0msong\u001b[0m\u001b[0;34m)\u001b[0m\u001b[0;34m\u001b[0m\u001b[0;34m\u001b[0m\u001b[0m\n",
      "\u001b[0;32m/usr/local/Cellar/jupyterlab/2.2.0/libexec/lib/python3.8/site-packages/pydub/audio_segment.py\u001b[0m in \u001b[0;36mfrom_file\u001b[0;34m(cls, file, format, codec, parameters, **kwargs)\u001b[0m\n\u001b[1;32m    683\u001b[0m             \u001b[0minfo\u001b[0m \u001b[0;34m=\u001b[0m \u001b[0;32mNone\u001b[0m\u001b[0;34m\u001b[0m\u001b[0;34m\u001b[0m\u001b[0m\n\u001b[1;32m    684\u001b[0m         \u001b[0;32melse\u001b[0m\u001b[0;34m:\u001b[0m\u001b[0;34m\u001b[0m\u001b[0;34m\u001b[0m\u001b[0m\n\u001b[0;32m--> 685\u001b[0;31m             \u001b[0minfo\u001b[0m \u001b[0;34m=\u001b[0m \u001b[0mmediainfo_json\u001b[0m\u001b[0;34m(\u001b[0m\u001b[0morig_file\u001b[0m\u001b[0;34m,\u001b[0m \u001b[0mread_ahead_limit\u001b[0m\u001b[0;34m=\u001b[0m\u001b[0mread_ahead_limit\u001b[0m\u001b[0;34m)\u001b[0m\u001b[0;34m\u001b[0m\u001b[0;34m\u001b[0m\u001b[0m\n\u001b[0m\u001b[1;32m    686\u001b[0m         \u001b[0;32mif\u001b[0m \u001b[0minfo\u001b[0m\u001b[0;34m:\u001b[0m\u001b[0;34m\u001b[0m\u001b[0;34m\u001b[0m\u001b[0m\n\u001b[1;32m    687\u001b[0m             audio_streams = [x for x in info['streams']\n",
      "\u001b[0;32m/usr/local/Cellar/jupyterlab/2.2.0/libexec/lib/python3.8/site-packages/pydub/utils.py\u001b[0m in \u001b[0;36mmediainfo_json\u001b[0;34m(filepath, read_ahead_limit)\u001b[0m\n\u001b[1;32m    272\u001b[0m \u001b[0;34m\u001b[0m\u001b[0m\n\u001b[1;32m    273\u001b[0m     \u001b[0mcommand\u001b[0m \u001b[0;34m=\u001b[0m \u001b[0;34m[\u001b[0m\u001b[0mprober\u001b[0m\u001b[0;34m,\u001b[0m \u001b[0;34m'-of'\u001b[0m\u001b[0;34m,\u001b[0m \u001b[0;34m'json'\u001b[0m\u001b[0;34m]\u001b[0m \u001b[0;34m+\u001b[0m \u001b[0mcommand_args\u001b[0m\u001b[0;34m\u001b[0m\u001b[0;34m\u001b[0m\u001b[0m\n\u001b[0;32m--> 274\u001b[0;31m     \u001b[0mres\u001b[0m \u001b[0;34m=\u001b[0m \u001b[0mPopen\u001b[0m\u001b[0;34m(\u001b[0m\u001b[0mcommand\u001b[0m\u001b[0;34m,\u001b[0m \u001b[0mstdin\u001b[0m\u001b[0;34m=\u001b[0m\u001b[0mstdin_parameter\u001b[0m\u001b[0;34m,\u001b[0m \u001b[0mstdout\u001b[0m\u001b[0;34m=\u001b[0m\u001b[0mPIPE\u001b[0m\u001b[0;34m,\u001b[0m \u001b[0mstderr\u001b[0m\u001b[0;34m=\u001b[0m\u001b[0mPIPE\u001b[0m\u001b[0;34m)\u001b[0m\u001b[0;34m\u001b[0m\u001b[0;34m\u001b[0m\u001b[0m\n\u001b[0m\u001b[1;32m    275\u001b[0m     \u001b[0moutput\u001b[0m\u001b[0;34m,\u001b[0m \u001b[0mstderr\u001b[0m \u001b[0;34m=\u001b[0m \u001b[0mres\u001b[0m\u001b[0;34m.\u001b[0m\u001b[0mcommunicate\u001b[0m\u001b[0;34m(\u001b[0m\u001b[0minput\u001b[0m\u001b[0;34m=\u001b[0m\u001b[0mstdin_data\u001b[0m\u001b[0;34m)\u001b[0m\u001b[0;34m\u001b[0m\u001b[0;34m\u001b[0m\u001b[0m\n\u001b[1;32m    276\u001b[0m     \u001b[0moutput\u001b[0m \u001b[0;34m=\u001b[0m \u001b[0moutput\u001b[0m\u001b[0;34m.\u001b[0m\u001b[0mdecode\u001b[0m\u001b[0;34m(\u001b[0m\u001b[0;34m\"utf-8\"\u001b[0m\u001b[0;34m,\u001b[0m \u001b[0;34m'ignore'\u001b[0m\u001b[0;34m)\u001b[0m\u001b[0;34m\u001b[0m\u001b[0;34m\u001b[0m\u001b[0m\n",
      "\u001b[0;32m/usr/local/opt/python@3.8/Frameworks/Python.framework/Versions/3.8/lib/python3.8/subprocess.py\u001b[0m in \u001b[0;36m__init__\u001b[0;34m(self, args, bufsize, executable, stdin, stdout, stderr, preexec_fn, close_fds, shell, cwd, env, universal_newlines, startupinfo, creationflags, restore_signals, start_new_session, pass_fds, encoding, errors, text)\u001b[0m\n\u001b[1;32m    852\u001b[0m                             encoding=encoding, errors=errors)\n\u001b[1;32m    853\u001b[0m \u001b[0;34m\u001b[0m\u001b[0m\n\u001b[0;32m--> 854\u001b[0;31m             self._execute_child(args, executable, preexec_fn, close_fds,\n\u001b[0m\u001b[1;32m    855\u001b[0m                                 \u001b[0mpass_fds\u001b[0m\u001b[0;34m,\u001b[0m \u001b[0mcwd\u001b[0m\u001b[0;34m,\u001b[0m \u001b[0menv\u001b[0m\u001b[0;34m,\u001b[0m\u001b[0;34m\u001b[0m\u001b[0;34m\u001b[0m\u001b[0m\n\u001b[1;32m    856\u001b[0m                                 \u001b[0mstartupinfo\u001b[0m\u001b[0;34m,\u001b[0m \u001b[0mcreationflags\u001b[0m\u001b[0;34m,\u001b[0m \u001b[0mshell\u001b[0m\u001b[0;34m,\u001b[0m\u001b[0;34m\u001b[0m\u001b[0;34m\u001b[0m\u001b[0m\n",
      "\u001b[0;32m/usr/local/opt/python@3.8/Frameworks/Python.framework/Versions/3.8/lib/python3.8/subprocess.py\u001b[0m in \u001b[0;36m_execute_child\u001b[0;34m(self, args, executable, preexec_fn, close_fds, pass_fds, cwd, env, startupinfo, creationflags, shell, p2cread, p2cwrite, c2pread, c2pwrite, errread, errwrite, restore_signals, start_new_session)\u001b[0m\n\u001b[1;32m   1700\u001b[0m                     \u001b[0;32mif\u001b[0m \u001b[0merrno_num\u001b[0m \u001b[0;34m!=\u001b[0m \u001b[0;36m0\u001b[0m\u001b[0;34m:\u001b[0m\u001b[0;34m\u001b[0m\u001b[0;34m\u001b[0m\u001b[0m\n\u001b[1;32m   1701\u001b[0m                         \u001b[0merr_msg\u001b[0m \u001b[0;34m=\u001b[0m \u001b[0mos\u001b[0m\u001b[0;34m.\u001b[0m\u001b[0mstrerror\u001b[0m\u001b[0;34m(\u001b[0m\u001b[0merrno_num\u001b[0m\u001b[0;34m)\u001b[0m\u001b[0;34m\u001b[0m\u001b[0;34m\u001b[0m\u001b[0m\n\u001b[0;32m-> 1702\u001b[0;31m                     \u001b[0;32mraise\u001b[0m \u001b[0mchild_exception_type\u001b[0m\u001b[0;34m(\u001b[0m\u001b[0merrno_num\u001b[0m\u001b[0;34m,\u001b[0m \u001b[0merr_msg\u001b[0m\u001b[0;34m,\u001b[0m \u001b[0merr_filename\u001b[0m\u001b[0;34m)\u001b[0m\u001b[0;34m\u001b[0m\u001b[0;34m\u001b[0m\u001b[0m\n\u001b[0m\u001b[1;32m   1703\u001b[0m                 \u001b[0;32mraise\u001b[0m \u001b[0mchild_exception_type\u001b[0m\u001b[0;34m(\u001b[0m\u001b[0merr_msg\u001b[0m\u001b[0;34m)\u001b[0m\u001b[0;34m\u001b[0m\u001b[0;34m\u001b[0m\u001b[0m\n\u001b[1;32m   1704\u001b[0m \u001b[0;34m\u001b[0m\u001b[0m\n",
      "\u001b[0;31mFileNotFoundError\u001b[0m: [Errno 2] No such file or directory: 'ffprobe'"
     ]
    }
   ],
   "source": [
    "song=AudioSegment.from_file(io.BytesIO(response.content), format='mp3')\n",
    "play(song)"
   ]
  },
  {
   "cell_type": "markdown",
   "metadata": {},
   "source": [
    "# Streaming content"
   ]
  },
  {
   "cell_type": "code",
   "execution_count": 8,
   "metadata": {},
   "outputs": [],
   "source": [
    "resp=r.get('http://radio.garden/api/ara/content/listen/hWZQPdZK/channel.mp3?1599639271306', stream=True)\n",
    "\n",
    "with open('le_Mans_radio', 'wb') as f:\n",
    "    try:\n",
    "        for block in resp.iter_content(1024):\n",
    "            f.write(block)\n",
    "    except KeyboardInterrupt:\n",
    "        pass"
   ]
  },
  {
   "cell_type": "markdown",
   "metadata": {},
   "source": [
    "# Video"
   ]
  },
  {
   "cell_type": "code",
   "execution_count": 9,
   "metadata": {},
   "outputs": [],
   "source": [
    "url='http://data04-cdn.datalock.ru/fi2lm/fa8f4e93e3e57b19341f62c21f08ea32/7f_11.22.63.S01.720p.ViruseProject.a1.17.02.16.mp4'"
   ]
  },
  {
   "cell_type": "code",
   "execution_count": 12,
   "metadata": {},
   "outputs": [],
   "source": [
    "def download_video(url):\n",
    "    local_filename = url.split('/')[-1]\n",
    "    with r.get(url, stream=True) as resp:\n",
    "        resp.raise_for_status()\n",
    "        with open(local_filename, 'wb') as f:\n",
    "            for chunk in resp.iter_content(chunk_size=1024*1024*50):\n",
    "                f.write(chunk)\n",
    "    return local_filename"
   ]
  },
  {
   "cell_type": "code",
   "execution_count": 13,
   "metadata": {},
   "outputs": [
    {
     "data": {
      "text/plain": [
       "'7f_11.22.63.S01.720p.ViruseProject.a1.17.02.16.mp4'"
      ]
     },
     "execution_count": 13,
     "metadata": {},
     "output_type": "execute_result"
    }
   ],
   "source": [
    "download_video(url)"
   ]
  },
  {
   "cell_type": "markdown",
   "metadata": {},
   "source": [
    "# HTML + CSS"
   ]
  },
  {
   "cell_type": "code",
   "execution_count": 19,
   "metadata": {},
   "outputs": [],
   "source": [
    "html=r.get('https://www.reuters.com/article/us-health-coronavirus-usa-food/from-deliveries-in-arizona-to-fish-markets-in-california-coronavirus-changes-how-we-buy-our-food-idUSKBN21Q1AS').content"
   ]
  },
  {
   "cell_type": "code",
   "execution_count": 20,
   "metadata": {},
   "outputs": [
    {
     "data": {
      "text/plain": [
       "b'<!--[if !IE]> This has NOT been served from cache <![endif]-->\\n<!--[if !IE]> Request served from apa'"
      ]
     },
     "execution_count": 20,
     "metadata": {},
     "output_type": "execute_result"
    }
   ],
   "source": [
    "html[:100]"
   ]
  },
  {
   "cell_type": "code",
   "execution_count": 21,
   "metadata": {},
   "outputs": [],
   "source": [
    "import re"
   ]
  },
  {
   "cell_type": "code",
   "execution_count": 22,
   "metadata": {},
   "outputs": [
    {
     "data": {
      "text/plain": [
       "'                From deliveries in Arizona to fish markets in California, coronavirus changes how we buy our food - Reuters'"
      ]
     },
     "execution_count": 22,
     "metadata": {},
     "output_type": "execute_result"
    }
   ],
   "source": [
    "re.findall(r'<title>(.*?)<', str(html))[0].strip(r'\\n')"
   ]
  },
  {
   "cell_type": "code",
   "execution_count": 24,
   "metadata": {},
   "outputs": [
    {
     "name": "stdout",
     "output_type": "stream",
     "text": [
      "Collecting bs4\n",
      "  Downloading bs4-0.0.1.tar.gz (1.1 kB)\n",
      "Collecting beautifulsoup4\n",
      "  Downloading beautifulsoup4-4.9.1-py3-none-any.whl (115 kB)\n",
      "\u001b[K     |████████████████████████████████| 115 kB 2.5 MB/s eta 0:00:01\n",
      "\u001b[?25hCollecting soupsieve>1.2\n",
      "  Downloading soupsieve-2.0.1-py3-none-any.whl (32 kB)\n",
      "Building wheels for collected packages: bs4\n",
      "  Building wheel for bs4 (setup.py) ... \u001b[?25ldone\n",
      "\u001b[?25h  Created wheel for bs4: filename=bs4-0.0.1-py3-none-any.whl size=1272 sha256=7c09454ce9ff9b995d2b7862b32d0641f95c262516ff7f3422250f2286a16a09\n",
      "  Stored in directory: /Users/etienneleconte/Library/Caches/pip/wheels/75/78/21/68b124549c9bdc94f822c02fb9aa3578a669843f9767776bca\n",
      "Successfully built bs4\n",
      "Installing collected packages: soupsieve, beautifulsoup4, bs4\n",
      "Successfully installed beautifulsoup4-4.9.1 bs4-0.0.1 soupsieve-2.0.1\n",
      "\u001b[33mWARNING: You are using pip version 20.1.1; however, version 20.2.3 is available.\n",
      "You should consider upgrading via the '/usr/local/Cellar/jupyterlab/2.2.0/libexec/bin/python3.8 -m pip install --upgrade pip' command.\u001b[0m\n",
      "Note: you may need to restart the kernel to use updated packages.\n"
     ]
    }
   ],
   "source": [
    "pip install bs4"
   ]
  },
  {
   "cell_type": "code",
   "execution_count": 26,
   "metadata": {},
   "outputs": [],
   "source": [
    "from bs4 import BeautifulSoup"
   ]
  },
  {
   "cell_type": "code",
   "execution_count": 27,
   "metadata": {},
   "outputs": [],
   "source": [
    "soup=BeautifulSoup(html)"
   ]
  },
  {
   "cell_type": "code",
   "execution_count": 30,
   "metadata": {},
   "outputs": [
    {
     "data": {
      "text/plain": [
       "'\\n                From deliveries in Arizona to fish markets in California, coronavirus changes how we buy our food - Reuters'"
      ]
     },
     "execution_count": 30,
     "metadata": {},
     "output_type": "execute_result"
    }
   ],
   "source": [
    "soup.select('title')[0].text"
   ]
  },
  {
   "cell_type": "code",
   "execution_count": 39,
   "metadata": {},
   "outputs": [
    {
     "data": {
      "text/plain": [
       "'From deliveries in Arizona to fish markets in California, coronavirus changes how we buy our food'"
      ]
     },
     "execution_count": 39,
     "metadata": {},
     "output_type": "execute_result"
    }
   ],
   "source": [
    "soup.select('h1')[0].text"
   ]
  },
  {
   "cell_type": "code",
   "execution_count": 36,
   "metadata": {},
   "outputs": [
    {
     "data": {
      "text/plain": [
       "['h1', 'h2', 'h3', 'h4', 'h5', 'h6', 'h7', 'p']"
      ]
     },
     "execution_count": 36,
     "metadata": {},
     "output_type": "execute_result"
    }
   ],
   "source": [
    "list_of_tags=[f'h{i}' for i in range(1,8)]+['p']\n",
    "list_of_tags"
   ]
  },
  {
   "cell_type": "code",
   "execution_count": 37,
   "metadata": {},
   "outputs": [
    {
     "data": {
      "text/plain": [
       "[<h1 class=\"ArticleHeader_headline\">From deliveries in Arizona to fish markets in California, coronavirus changes how we buy our food</h1>,\n",
       " <p class=\"BylineBar_reading-time\" style=\"color:undefined\">4 Min Read</p>,\n",
       " <p>(Reuters) - Eric Cohn used to wear a respirator mask, goggles and gloves only to protect against mold and asbestos as he restored homes in Tucson, Arizona. Now he dons the same gear in his new job - shopping for quarantined customers.  </p>,\n",
       " <p>“People ask me where I get this mask every day,” the 34-year-old said. “They say: you look good! I say I’m not trying to look good. I’m trying to be safe.” </p>,\n",
       " <p>With over 90% of the U.S. population under orders to stay home to slow the spread of the coronavirus, Cohn is among a new class of front-line workers delivering food to people’s houses. </p>,\n",
       " <p>These workers risk their own health every time they touch doors to enter supermarkets and restaurants, or approach homes where someone inside could be sick. But - with a record 10 million Americans filing claims for unemployment benefits in the last two weeks of March - many feel they have little choice if they want to pay their bills. </p>,\n",
       " <p>Cohn said he often feels vulnerable in the supermarket checkout line as other customers get closer to him than the recommended 6 feet (1.8 meters). Once safely back in his car, he disinfects his gloved hands, steering wheel, door handles and phone. He often works 14 hours with a goal of making $200 a day. </p>,\n",
       " <p>“If I didn’t have my own PPE, I don’t know if I would be OK with doing this,” he said, referring to personal protective equipment. </p>,\n",
       " <p>Concerns about staff safety led a family in New York’s Brooklyn neighborhood to decide to close their three restaurants. Last week, Ix (pronounced “eesh”) made its last free deliveries of Guatemalan food to police, firefighters, doctors and nurses.  </p>,\n",
       " <p>“This was our baby. It was the dream come true. It’s hard to say goodbye to that,” said Ana Prince, one of the owners of Ix, which opened over three years ago.  </p>,\n",
       " <p>“I feel like I want to cry because you never want to see your business closing,” she said. “But everyone is healthy and we don’t want them to get sick. It could get worse. So for the health of everybody, we made the decision (to close), but it wasn’t easy at all,” said Prince. </p>,\n",
       " <p>With restaurants closing and so many people ordering food from their homes, many Americans have found delivery slots at grocery stores evaporating. </p>,\n",
       " <p>Some providers have tried to get around that by going direct to the consumer. </p>,\n",
       " <p>In Lodi, Ohio, farmers have created a website offering weekly deliveries of vegetables, meats, cheeses and other fresh items. </p>,\n",
       " <p>“It’s nice for us using the online order forms,” said Jimmy Myers, 33, one of the owners of Front 9 Farm. “We know that everything we harvest is going to be sold. There’s very little waste... We sell out of eggs within about two hours of loading the order form.”  </p>,\n",
       " <p>In California, Jordyn Kastlunger, who fishes commercially with her father Martin Kastlunger, sometimes sells the catches at the Tuna Harbor Dockside Market in San Diego. About 300 people recently lined up to buy fish at the market, standing on tape markers 6 feet apart. Police later asked them to increase the spacing to 12 feet.  </p>,\n",
       " <p>“My dad fishes for a variety of things so the only thing that’s really been impacted is crab, since processors don’t have as much bait to give,” Kastlunger said. “We’ve been doing OK. It’s definitely slower and harder.”  </p>,\n",
       " <p class=\"Attribution_content\">Reporting by Cheney Orr in Tucson, Arizona; Bing Gaun in San Diego; Dane Rhys in Akron, Ohio and Anna Watts in New York; Writing by Lisa Shumaker; Editing by Rosalba O'Brien</p>,\n",
       " <p><span>All quotes delayed a minimum of 15 minutes. See </span><a href=\"//www.reuters.com/info/disclaimer\" target=\"_blank\">here for a complete list</a><span> of exchanges and delays.</span></p>,\n",
       " <p><a href=\"//www.thomsonreuters.com/en/policies/copyright.html\" target=\"_blank\"><span>© <!-- -->2020<!-- --> </span><span>Reuters. All Rights Reserved.</span></a></p>]"
      ]
     },
     "execution_count": 37,
     "metadata": {},
     "output_type": "execute_result"
    }
   ],
   "source": [
    "soup.find_all(list_of_tags)"
   ]
  },
  {
   "cell_type": "code",
   "execution_count": 42,
   "metadata": {},
   "outputs": [
    {
     "name": "stdout",
     "output_type": "stream",
     "text": [
      "From deliveries in Arizona to fish markets in California, coronavirus changes how we buy our food\n",
      "4 Min Read\n",
      "(Reuters) - Eric Cohn used to wear a respirator mask, goggles and gloves only to protect against mold and asbestos as he restored homes in Tucson, Arizona. Now he dons the same gear in his new job - shopping for quarantined customers.  \n",
      "“People ask me where I get this mask every day,” the 34-year-old said. “They say: you look good! I say I’m not trying to look good. I’m trying to be safe.” \n",
      "With over 90% of the U.S. population under orders to stay home to slow the spread of the coronavirus, Cohn is among a new class of front-line workers delivering food to people’s houses. \n",
      "These workers risk their own health every time they touch doors to enter supermarkets and restaurants, or approach homes where someone inside could be sick. But - with a record 10 million Americans filing claims for unemployment benefits in the last two weeks of March - many feel they have little choice if they want to pay their bills. \n",
      "Cohn said he often feels vulnerable in the supermarket checkout line as other customers get closer to him than the recommended 6 feet (1.8 meters). Once safely back in his car, he disinfects his gloved hands, steering wheel, door handles and phone. He often works 14 hours with a goal of making $200 a day. \n",
      "“If I didn’t have my own PPE, I don’t know if I would be OK with doing this,” he said, referring to personal protective equipment. \n",
      "Concerns about staff safety led a family in New York’s Brooklyn neighborhood to decide to close their three restaurants. Last week, Ix (pronounced “eesh”) made its last free deliveries of Guatemalan food to police, firefighters, doctors and nurses.  \n",
      "“This was our baby. It was the dream come true. It’s hard to say goodbye to that,” said Ana Prince, one of the owners of Ix, which opened over three years ago.  \n",
      "“I feel like I want to cry because you never want to see your business closing,” she said. “But everyone is healthy and we don’t want them to get sick. It could get worse. So for the health of everybody, we made the decision (to close), but it wasn’t easy at all,” said Prince. \n",
      "With restaurants closing and so many people ordering food from their homes, many Americans have found delivery slots at grocery stores evaporating. \n",
      "Some providers have tried to get around that by going direct to the consumer. \n",
      "In Lodi, Ohio, farmers have created a website offering weekly deliveries of vegetables, meats, cheeses and other fresh items. \n",
      "“It’s nice for us using the online order forms,” said Jimmy Myers, 33, one of the owners of Front 9 Farm. “We know that everything we harvest is going to be sold. There’s very little waste... We sell out of eggs within about two hours of loading the order form.”  \n",
      "In California, Jordyn Kastlunger, who fishes commercially with her father Martin Kastlunger, sometimes sells the catches at the Tuna Harbor Dockside Market in San Diego. About 300 people recently lined up to buy fish at the market, standing on tape markers 6 feet apart. Police later asked them to increase the spacing to 12 feet.  \n",
      "“My dad fishes for a variety of things so the only thing that’s really been impacted is crab, since processors don’t have as much bait to give,” Kastlunger said. “We’ve been doing OK. It’s definitely slower and harder.”  \n",
      "Reporting by Cheney Orr in Tucson, Arizona; Bing Gaun in San Diego; Dane Rhys in Akron, Ohio and Anna Watts in New York; Writing by Lisa Shumaker; Editing by Rosalba O'Brien\n",
      "All quotes delayed a minimum of 15 minutes. See here for a complete list of exchanges and delays.\n",
      "© 2020 Reuters. All Rights Reserved.\n"
     ]
    }
   ],
   "source": [
    "print('\\n'.join([i.text for i in soup.find_all(list_of_tags)]))"
   ]
  },
  {
   "cell_type": "code",
   "execution_count": 66,
   "metadata": {},
   "outputs": [],
   "source": [
    "url='https://en.wikipedia.org/wiki/List_of_European_countries_by_life_expectancy'"
   ]
  },
  {
   "cell_type": "code",
   "execution_count": 48,
   "metadata": {},
   "outputs": [],
   "source": [
    "html=r.get('https://en.wikipedia.org/wiki/List_of_European_countries_by_life_expectancy').content"
   ]
  },
  {
   "cell_type": "code",
   "execution_count": 49,
   "metadata": {},
   "outputs": [],
   "source": [
    "soup=BeautifulSoup(html)"
   ]
  },
  {
   "cell_type": "code",
   "execution_count": 52,
   "metadata": {},
   "outputs": [],
   "source": [
    "table=soup.select('table.wikitable')[0]"
   ]
  },
  {
   "cell_type": "code",
   "execution_count": 59,
   "metadata": {},
   "outputs": [
    {
     "data": {
      "text/plain": [
       "[<tr bgcolor=\"#efefef\">\n",
       " <th>Rank\n",
       " </th>\n",
       " <th>Country</th>\n",
       " <th><a href=\"/wiki/List_of_countries_by_life_expectancy\" title=\"List of countries by life expectancy\">Life expectancy</a><sup class=\"reference\" id=\"cite_ref-:0_1-1\"><a href=\"#cite_note-:0-1\">[1]</a></sup>\n",
       " </th></tr>,\n",
       " <tr>\n",
       " <td>1\n",
       " </td>\n",
       " <td><span class=\"flagicon\"><img alt=\"\" class=\"thumbborder\" data-file-height=\"800\" data-file-width=\"1000\" decoding=\"async\" height=\"15\" src=\"//upload.wikimedia.org/wikipedia/commons/thumb/e/ea/Flag_of_Monaco.svg/19px-Flag_of_Monaco.svg.png\" srcset=\"//upload.wikimedia.org/wikipedia/commons/thumb/e/ea/Flag_of_Monaco.svg/29px-Flag_of_Monaco.svg.png 1.5x, //upload.wikimedia.org/wikipedia/commons/thumb/e/ea/Flag_of_Monaco.svg/38px-Flag_of_Monaco.svg.png 2x\" width=\"19\"/> </span><a href=\"/wiki/Monaco\" title=\"Monaco\">Monaco</a><sup class=\"reference\" id=\"cite_ref-2\"><a href=\"#cite_note-2\">[2]</a></sup>\n",
       " </td>\n",
       " <td>89.4\n",
       " </td></tr>,\n",
       " <tr>\n",
       " <td>2\n",
       " </td>\n",
       " <td><span class=\"flagicon\"><img alt=\"\" class=\"thumbborder\" data-file-height=\"600\" data-file-width=\"800\" decoding=\"async\" height=\"15\" src=\"//upload.wikimedia.org/wikipedia/commons/thumb/b/b1/Flag_of_San_Marino.svg/20px-Flag_of_San_Marino.svg.png\" srcset=\"//upload.wikimedia.org/wikipedia/commons/thumb/b/b1/Flag_of_San_Marino.svg/31px-Flag_of_San_Marino.svg.png 1.5x, //upload.wikimedia.org/wikipedia/commons/thumb/b/b1/Flag_of_San_Marino.svg/40px-Flag_of_San_Marino.svg.png 2x\" width=\"20\"/> </span><a href=\"/wiki/San_Marino\" title=\"San Marino\">San Marino</a><sup class=\"reference\" id=\"cite_ref-3\"><a href=\"#cite_note-3\">[3]</a></sup>\n",
       " </td>\n",
       " <td>83.4\n",
       " </td></tr>,\n",
       " <tr>\n",
       " <td>3\n",
       " </td>\n",
       " <td><span class=\"flagicon\"><img alt=\"\" class=\"thumbborder\" data-file-height=\"512\" data-file-width=\"512\" decoding=\"async\" height=\"16\" src=\"//upload.wikimedia.org/wikipedia/commons/thumb/f/f3/Flag_of_Switzerland.svg/16px-Flag_of_Switzerland.svg.png\" srcset=\"//upload.wikimedia.org/wikipedia/commons/thumb/f/f3/Flag_of_Switzerland.svg/24px-Flag_of_Switzerland.svg.png 1.5x, //upload.wikimedia.org/wikipedia/commons/thumb/f/f3/Flag_of_Switzerland.svg/32px-Flag_of_Switzerland.svg.png 2x\" width=\"16\"/>  </span><a href=\"/wiki/Switzerland\" title=\"Switzerland\">Switzerland</a></td>\n",
       " <td>83.0\n",
       " </td></tr>,\n",
       " <tr>\n",
       " <td>4\n",
       " </td>\n",
       " <td><span class=\"flagicon\"><img alt=\"\" class=\"thumbborder\" data-file-height=\"500\" data-file-width=\"750\" decoding=\"async\" height=\"15\" src=\"//upload.wikimedia.org/wikipedia/en/thumb/9/9a/Flag_of_Spain.svg/23px-Flag_of_Spain.svg.png\" srcset=\"//upload.wikimedia.org/wikipedia/en/thumb/9/9a/Flag_of_Spain.svg/35px-Flag_of_Spain.svg.png 1.5x, //upload.wikimedia.org/wikipedia/en/thumb/9/9a/Flag_of_Spain.svg/45px-Flag_of_Spain.svg.png 2x\" width=\"23\"/> </span><a href=\"/wiki/Spain\" title=\"Spain\">Spain</a></td>\n",
       " <td>82.8\n",
       " </td></tr>,\n",
       " <tr>\n",
       " <td>5\n",
       " </td>\n",
       " <td><span class=\"flagicon\"><img alt=\"\" class=\"thumbborder\" data-file-height=\"600\" data-file-width=\"1000\" decoding=\"async\" height=\"14\" src=\"//upload.wikimedia.org/wikipedia/commons/thumb/4/47/Flag_of_Liechtenstein.svg/23px-Flag_of_Liechtenstein.svg.png\" srcset=\"//upload.wikimedia.org/wikipedia/commons/thumb/4/47/Flag_of_Liechtenstein.svg/35px-Flag_of_Liechtenstein.svg.png 1.5x, //upload.wikimedia.org/wikipedia/commons/thumb/4/47/Flag_of_Liechtenstein.svg/46px-Flag_of_Liechtenstein.svg.png 2x\" width=\"23\"/> </span><a href=\"/wiki/Liechtenstein\" title=\"Liechtenstein\">Liechtenstein</a></td>\n",
       " <td>82.7\n",
       " </td></tr>,\n",
       " <tr>\n",
       " <td>6\n",
       " </td>\n",
       " <td><span class=\"flagicon\"><img alt=\"\" class=\"thumbborder\" data-file-height=\"1000\" data-file-width=\"1500\" decoding=\"async\" height=\"15\" src=\"//upload.wikimedia.org/wikipedia/en/thumb/0/03/Flag_of_Italy.svg/23px-Flag_of_Italy.svg.png\" srcset=\"//upload.wikimedia.org/wikipedia/en/thumb/0/03/Flag_of_Italy.svg/35px-Flag_of_Italy.svg.png 1.5x, //upload.wikimedia.org/wikipedia/en/thumb/0/03/Flag_of_Italy.svg/45px-Flag_of_Italy.svg.png 2x\" width=\"23\"/> </span><a href=\"/wiki/Italy\" title=\"Italy\">Italy</a></td>\n",
       " <td>82.7\n",
       " </td></tr>,\n",
       " <tr>\n",
       " <td>7\n",
       " </td>\n",
       " <td><span class=\"flagicon\"><img alt=\"\" class=\"thumbborder\" data-file-height=\"800\" data-file-width=\"1100\" decoding=\"async\" height=\"15\" src=\"//upload.wikimedia.org/wikipedia/commons/thumb/d/d9/Flag_of_Norway.svg/21px-Flag_of_Norway.svg.png\" srcset=\"//upload.wikimedia.org/wikipedia/commons/thumb/d/d9/Flag_of_Norway.svg/32px-Flag_of_Norway.svg.png 1.5x, //upload.wikimedia.org/wikipedia/commons/thumb/d/d9/Flag_of_Norway.svg/41px-Flag_of_Norway.svg.png 2x\" width=\"21\"/> </span><a href=\"/wiki/Norway\" title=\"Norway\">Norway</a></td>\n",
       " <td>82.5\n",
       " </td></tr>,\n",
       " <tr>\n",
       " <td>8\n",
       " </td>\n",
       " <td><span class=\"flagicon\"><img alt=\"\" class=\"thumbborder\" data-file-height=\"900\" data-file-width=\"1250\" decoding=\"async\" height=\"15\" src=\"//upload.wikimedia.org/wikipedia/commons/thumb/c/ce/Flag_of_Iceland.svg/21px-Flag_of_Iceland.svg.png\" srcset=\"//upload.wikimedia.org/wikipedia/commons/thumb/c/ce/Flag_of_Iceland.svg/32px-Flag_of_Iceland.svg.png 1.5x, //upload.wikimedia.org/wikipedia/commons/thumb/c/ce/Flag_of_Iceland.svg/42px-Flag_of_Iceland.svg.png 2x\" width=\"21\"/> </span><a href=\"/wiki/Iceland\" title=\"Iceland\">Iceland</a></td>\n",
       " <td>82.5\n",
       " </td></tr>,\n",
       " <tr>\n",
       " <td>9\n",
       " </td>\n",
       " <td><span class=\"flagicon\"><img alt=\"\" class=\"thumbborder\" data-file-height=\"600\" data-file-width=\"1000\" decoding=\"async\" height=\"14\" src=\"//upload.wikimedia.org/wikipedia/commons/thumb/d/da/Flag_of_Luxembourg.svg/23px-Flag_of_Luxembourg.svg.png\" srcset=\"//upload.wikimedia.org/wikipedia/commons/thumb/d/da/Flag_of_Luxembourg.svg/35px-Flag_of_Luxembourg.svg.png 1.5x, //upload.wikimedia.org/wikipedia/commons/thumb/d/da/Flag_of_Luxembourg.svg/46px-Flag_of_Luxembourg.svg.png 2x\" width=\"23\"/> </span><a href=\"/wiki/Luxembourg\" title=\"Luxembourg\">Luxembourg</a></td>\n",
       " <td>82.3\n",
       " </td></tr>,\n",
       " <tr>\n",
       " <td>10\n",
       " </td>\n",
       " <td><span class=\"flagicon\"><img alt=\"\" class=\"thumbborder\" data-file-height=\"600\" data-file-width=\"900\" decoding=\"async\" height=\"15\" src=\"//upload.wikimedia.org/wikipedia/en/thumb/c/c3/Flag_of_France.svg/23px-Flag_of_France.svg.png\" srcset=\"//upload.wikimedia.org/wikipedia/en/thumb/c/c3/Flag_of_France.svg/35px-Flag_of_France.svg.png 1.5x, //upload.wikimedia.org/wikipedia/en/thumb/c/c3/Flag_of_France.svg/45px-Flag_of_France.svg.png 2x\" width=\"23\"/> </span><a href=\"/wiki/France\" title=\"France\">France</a></td>\n",
       " <td>82.3\n",
       " </td></tr>,\n",
       " <tr>\n",
       " <td>11\n",
       " </td>\n",
       " <td><span class=\"flagicon\"><img alt=\"\" class=\"thumbborder\" data-file-height=\"1000\" data-file-width=\"1600\" decoding=\"async\" height=\"14\" src=\"//upload.wikimedia.org/wikipedia/en/thumb/4/4c/Flag_of_Sweden.svg/23px-Flag_of_Sweden.svg.png\" srcset=\"//upload.wikimedia.org/wikipedia/en/thumb/4/4c/Flag_of_Sweden.svg/35px-Flag_of_Sweden.svg.png 1.5x, //upload.wikimedia.org/wikipedia/en/thumb/4/4c/Flag_of_Sweden.svg/46px-Flag_of_Sweden.svg.png 2x\" width=\"23\"/> </span><a href=\"/wiki/Sweden\" title=\"Sweden\">Sweden</a></td>\n",
       " <td>82.2\n",
       " </td></tr>,\n",
       " <tr>\n",
       " <td>12\n",
       " </td>\n",
       " <td><span class=\"flagicon\"><img alt=\"\" class=\"thumbborder\" data-file-height=\"600\" data-file-width=\"900\" decoding=\"async\" height=\"15\" src=\"//upload.wikimedia.org/wikipedia/commons/thumb/7/73/Flag_of_Malta.svg/23px-Flag_of_Malta.svg.png\" srcset=\"//upload.wikimedia.org/wikipedia/commons/thumb/7/73/Flag_of_Malta.svg/35px-Flag_of_Malta.svg.png 1.5x, //upload.wikimedia.org/wikipedia/commons/thumb/7/73/Flag_of_Malta.svg/45px-Flag_of_Malta.svg.png 2x\" width=\"23\"/> </span><a href=\"/wiki/Malta\" title=\"Malta\">Malta</a></td>\n",
       " <td>81.8\n",
       " </td></tr>,\n",
       " <tr>\n",
       " <td>13\n",
       " </td>\n",
       " <td><span class=\"flagicon\"><img alt=\"\" class=\"thumbborder\" data-file-height=\"1100\" data-file-width=\"1800\" decoding=\"async\" height=\"14\" src=\"//upload.wikimedia.org/wikipedia/commons/thumb/b/bc/Flag_of_Finland.svg/23px-Flag_of_Finland.svg.png\" srcset=\"//upload.wikimedia.org/wikipedia/commons/thumb/b/bc/Flag_of_Finland.svg/35px-Flag_of_Finland.svg.png 1.5x, //upload.wikimedia.org/wikipedia/commons/thumb/b/bc/Flag_of_Finland.svg/46px-Flag_of_Finland.svg.png 2x\" width=\"23\"/> </span><a href=\"/wiki/Finland\" title=\"Finland\">Finland</a></td>\n",
       " <td>81.8\n",
       " </td></tr>,\n",
       " <tr>\n",
       " <td>14\n",
       " </td>\n",
       " <td><span class=\"flagicon\"><img alt=\"\" class=\"thumbborder\" data-file-height=\"600\" data-file-width=\"1200\" decoding=\"async\" height=\"12\" src=\"//upload.wikimedia.org/wikipedia/commons/thumb/4/45/Flag_of_Ireland.svg/23px-Flag_of_Ireland.svg.png\" srcset=\"//upload.wikimedia.org/wikipedia/commons/thumb/4/45/Flag_of_Ireland.svg/35px-Flag_of_Ireland.svg.png 1.5x, //upload.wikimedia.org/wikipedia/commons/thumb/4/45/Flag_of_Ireland.svg/46px-Flag_of_Ireland.svg.png 2x\" width=\"23\"/> </span><a href=\"/wiki/Republic_of_Ireland\" title=\"Republic of Ireland\">Ireland</a></td>\n",
       " <td>81.6\n",
       " </td></tr>,\n",
       " <tr>\n",
       " <td>15\n",
       " </td>\n",
       " <td><span class=\"flagicon\"><img alt=\"\" class=\"thumbborder\" data-file-height=\"600\" data-file-width=\"900\" decoding=\"async\" height=\"15\" src=\"//upload.wikimedia.org/wikipedia/commons/thumb/2/20/Flag_of_the_Netherlands.svg/23px-Flag_of_the_Netherlands.svg.png\" srcset=\"//upload.wikimedia.org/wikipedia/commons/thumb/2/20/Flag_of_the_Netherlands.svg/35px-Flag_of_the_Netherlands.svg.png 1.5x, //upload.wikimedia.org/wikipedia/commons/thumb/2/20/Flag_of_the_Netherlands.svg/45px-Flag_of_the_Netherlands.svg.png 2x\" width=\"23\"/> </span><a href=\"/wiki/Netherlands\" title=\"Netherlands\">Netherlands</a></td>\n",
       " <td>81.5\n",
       " </td></tr>,\n",
       " <tr>\n",
       " <td>16\n",
       " </td>\n",
       " <td><span class=\"flagicon\"><img alt=\"\" class=\"thumbborder\" data-file-height=\"400\" data-file-width=\"600\" decoding=\"async\" height=\"15\" src=\"//upload.wikimedia.org/wikipedia/commons/thumb/5/5c/Flag_of_Portugal.svg/23px-Flag_of_Portugal.svg.png\" srcset=\"//upload.wikimedia.org/wikipedia/commons/thumb/5/5c/Flag_of_Portugal.svg/35px-Flag_of_Portugal.svg.png 1.5x, //upload.wikimedia.org/wikipedia/commons/thumb/5/5c/Flag_of_Portugal.svg/45px-Flag_of_Portugal.svg.png 2x\" width=\"23\"/> </span><a href=\"/wiki/Portugal\" title=\"Portugal\">Portugal</a></td>\n",
       " <td>81.1\n",
       " </td></tr>,\n",
       " <tr>\n",
       " <td>17\n",
       " </td>\n",
       " <td><span class=\"flagicon\"><img alt=\"\" class=\"thumbborder\" data-file-height=\"400\" data-file-width=\"600\" decoding=\"async\" height=\"15\" src=\"//upload.wikimedia.org/wikipedia/commons/thumb/5/5c/Flag_of_Greece.svg/23px-Flag_of_Greece.svg.png\" srcset=\"//upload.wikimedia.org/wikipedia/commons/thumb/5/5c/Flag_of_Greece.svg/35px-Flag_of_Greece.svg.png 1.5x, //upload.wikimedia.org/wikipedia/commons/thumb/5/5c/Flag_of_Greece.svg/45px-Flag_of_Greece.svg.png 2x\" width=\"23\"/> </span><a href=\"/wiki/Greece\" title=\"Greece\">Greece</a></td>\n",
       " <td>81.0\n",
       " </td></tr>,\n",
       " <tr>\n",
       " <td>18\n",
       " </td>\n",
       " <td><span class=\"flagicon\"><img alt=\"\" class=\"thumbborder\" data-file-height=\"600\" data-file-width=\"1200\" decoding=\"async\" height=\"12\" src=\"//upload.wikimedia.org/wikipedia/en/thumb/a/ae/Flag_of_the_United_Kingdom.svg/23px-Flag_of_the_United_Kingdom.svg.png\" srcset=\"//upload.wikimedia.org/wikipedia/en/thumb/a/ae/Flag_of_the_United_Kingdom.svg/35px-Flag_of_the_United_Kingdom.svg.png 1.5x, //upload.wikimedia.org/wikipedia/en/thumb/a/ae/Flag_of_the_United_Kingdom.svg/46px-Flag_of_the_United_Kingdom.svg.png 2x\" width=\"23\"/> </span><a href=\"/wiki/United_Kingdom\" title=\"United Kingdom\">United Kingdom</a></td>\n",
       " <td>81.0\n",
       " </td></tr>,\n",
       " <tr>\n",
       " <td>19\n",
       " </td>\n",
       " <td><span class=\"flagicon\"><img alt=\"\" class=\"thumbborder\" data-file-height=\"600\" data-file-width=\"900\" decoding=\"async\" height=\"15\" src=\"//upload.wikimedia.org/wikipedia/commons/thumb/9/92/Flag_of_Belgium_%28civil%29.svg/23px-Flag_of_Belgium_%28civil%29.svg.png\" srcset=\"//upload.wikimedia.org/wikipedia/commons/thumb/9/92/Flag_of_Belgium_%28civil%29.svg/35px-Flag_of_Belgium_%28civil%29.svg.png 1.5x, //upload.wikimedia.org/wikipedia/commons/thumb/9/92/Flag_of_Belgium_%28civil%29.svg/45px-Flag_of_Belgium_%28civil%29.svg.png 2x\" width=\"23\"/> </span><a href=\"/wiki/Belgium\" title=\"Belgium\">Belgium</a></td>\n",
       " <td>81.0\n",
       " </td></tr>,\n",
       " <tr>\n",
       " <td>20\n",
       " </td>\n",
       " <td><span class=\"flagicon\"><img alt=\"\" class=\"thumbborder\" data-file-height=\"600\" data-file-width=\"900\" decoding=\"async\" height=\"15\" src=\"//upload.wikimedia.org/wikipedia/commons/thumb/4/41/Flag_of_Austria.svg/23px-Flag_of_Austria.svg.png\" srcset=\"//upload.wikimedia.org/wikipedia/commons/thumb/4/41/Flag_of_Austria.svg/35px-Flag_of_Austria.svg.png 1.5x, //upload.wikimedia.org/wikipedia/commons/thumb/4/41/Flag_of_Austria.svg/45px-Flag_of_Austria.svg.png 2x\" width=\"23\"/> </span><a href=\"/wiki/Austria\" title=\"Austria\">Austria</a></td>\n",
       " <td>80.9\n",
       " </td></tr>,\n",
       " <tr>\n",
       " <td>21\n",
       " </td>\n",
       " <td><span class=\"flagicon\"><img alt=\"\" class=\"thumbborder\" data-file-height=\"600\" data-file-width=\"1200\" decoding=\"async\" height=\"12\" src=\"//upload.wikimedia.org/wikipedia/commons/thumb/f/f0/Flag_of_Slovenia.svg/23px-Flag_of_Slovenia.svg.png\" srcset=\"//upload.wikimedia.org/wikipedia/commons/thumb/f/f0/Flag_of_Slovenia.svg/35px-Flag_of_Slovenia.svg.png 1.5x, //upload.wikimedia.org/wikipedia/commons/thumb/f/f0/Flag_of_Slovenia.svg/46px-Flag_of_Slovenia.svg.png 2x\" width=\"23\"/> </span><a href=\"/wiki/Slovenia\" title=\"Slovenia\">Slovenia</a></td>\n",
       " <td>80.8\n",
       " </td></tr>,\n",
       " <tr>\n",
       " <td>22\n",
       " </td>\n",
       " <td><span class=\"flagicon\"><img alt=\"\" class=\"thumbborder\" data-file-height=\"387\" data-file-width=\"512\" decoding=\"async\" height=\"15\" src=\"//upload.wikimedia.org/wikipedia/commons/thumb/9/9c/Flag_of_Denmark.svg/20px-Flag_of_Denmark.svg.png\" srcset=\"//upload.wikimedia.org/wikipedia/commons/thumb/9/9c/Flag_of_Denmark.svg/31px-Flag_of_Denmark.svg.png 1.5x, //upload.wikimedia.org/wikipedia/commons/thumb/9/9c/Flag_of_Denmark.svg/40px-Flag_of_Denmark.svg.png 2x\" width=\"20\"/> </span><a href=\"/wiki/Denmark\" title=\"Denmark\">Denmark</a></td>\n",
       " <td>80.7\n",
       " </td></tr>,\n",
       " <tr>\n",
       " <td>23\n",
       " </td>\n",
       " <td><span class=\"flagicon\"><img alt=\"\" class=\"thumbborder\" data-file-height=\"600\" data-file-width=\"1000\" decoding=\"async\" height=\"14\" src=\"//upload.wikimedia.org/wikipedia/en/thumb/b/ba/Flag_of_Germany.svg/23px-Flag_of_Germany.svg.png\" srcset=\"//upload.wikimedia.org/wikipedia/en/thumb/b/ba/Flag_of_Germany.svg/35px-Flag_of_Germany.svg.png 1.5x, //upload.wikimedia.org/wikipedia/en/thumb/b/ba/Flag_of_Germany.svg/46px-Flag_of_Germany.svg.png 2x\" width=\"23\"/> </span><a href=\"/wiki/Germany\" title=\"Germany\">Germany</a></td>\n",
       " <td>80.6\n",
       " </td></tr>,\n",
       " <tr>\n",
       " <td>24\n",
       " </td>\n",
       " <td><span class=\"flagicon\"><img alt=\"\" class=\"thumbborder\" data-file-height=\"600\" data-file-width=\"900\" decoding=\"async\" height=\"15\" src=\"//upload.wikimedia.org/wikipedia/commons/thumb/d/d4/Flag_of_Cyprus.svg/23px-Flag_of_Cyprus.svg.png\" srcset=\"//upload.wikimedia.org/wikipedia/commons/thumb/d/d4/Flag_of_Cyprus.svg/35px-Flag_of_Cyprus.svg.png 1.5x, //upload.wikimedia.org/wikipedia/commons/thumb/d/d4/Flag_of_Cyprus.svg/45px-Flag_of_Cyprus.svg.png 2x\" width=\"23\"/> </span><a href=\"/wiki/Cyprus\" title=\"Cyprus\">Cyprus</a></td>\n",
       " <td>80.5\n",
       " </td></tr>,\n",
       " <tr>\n",
       " <td>25\n",
       " </td>\n",
       " <td><span class=\"flagicon\"><img alt=\"\" class=\"thumbborder\" data-file-height=\"700\" data-file-width=\"980\" decoding=\"async\" height=\"15\" src=\"//upload.wikimedia.org/wikipedia/commons/thumb/3/36/Flag_of_Albania.svg/21px-Flag_of_Albania.svg.png\" srcset=\"//upload.wikimedia.org/wikipedia/commons/thumb/3/36/Flag_of_Albania.svg/32px-Flag_of_Albania.svg.png 1.5x, //upload.wikimedia.org/wikipedia/commons/thumb/3/36/Flag_of_Albania.svg/42px-Flag_of_Albania.svg.png 2x\" width=\"21\"/> </span><a href=\"/wiki/Albania\" title=\"Albania\">Albania</a></td>\n",
       " <td>78.3\n",
       " </td></tr>,\n",
       " <tr>\n",
       " <td>26\n",
       " </td>\n",
       " <td><span class=\"flagicon\"><img alt=\"\" class=\"thumbborder\" data-file-height=\"600\" data-file-width=\"900\" decoding=\"async\" height=\"15\" src=\"//upload.wikimedia.org/wikipedia/commons/thumb/c/cb/Flag_of_the_Czech_Republic.svg/23px-Flag_of_the_Czech_Republic.svg.png\" srcset=\"//upload.wikimedia.org/wikipedia/commons/thumb/c/cb/Flag_of_the_Czech_Republic.svg/35px-Flag_of_the_Czech_Republic.svg.png 1.5x, //upload.wikimedia.org/wikipedia/commons/thumb/c/cb/Flag_of_the_Czech_Republic.svg/45px-Flag_of_the_Czech_Republic.svg.png 2x\" width=\"23\"/> </span><a href=\"/wiki/Czech_Republic\" title=\"Czech Republic\">Czech Republic</a></td>\n",
       " <td>78.3\n",
       " </td></tr>,\n",
       " <tr>\n",
       " <td>27\n",
       " </td>\n",
       " <td><span class=\"flagicon\"><img alt=\"\" class=\"thumbborder\" data-file-height=\"600\" data-file-width=\"1200\" decoding=\"async\" height=\"12\" src=\"//upload.wikimedia.org/wikipedia/commons/thumb/1/1b/Flag_of_Croatia.svg/23px-Flag_of_Croatia.svg.png\" srcset=\"//upload.wikimedia.org/wikipedia/commons/thumb/1/1b/Flag_of_Croatia.svg/35px-Flag_of_Croatia.svg.png 1.5x, //upload.wikimedia.org/wikipedia/commons/thumb/1/1b/Flag_of_Croatia.svg/46px-Flag_of_Croatia.svg.png 2x\" width=\"23\"/> </span><a href=\"/wiki/Croatia\" title=\"Croatia\">Croatia</a></td>\n",
       " <td>78.0\n",
       " </td></tr>,\n",
       " <tr>\n",
       " <td>28\n",
       " </td>\n",
       " <td><span class=\"flagicon\"><img alt=\"\" class=\"thumbborder\" data-file-height=\"630\" data-file-width=\"990\" decoding=\"async\" height=\"15\" src=\"//upload.wikimedia.org/wikipedia/commons/thumb/8/8f/Flag_of_Estonia.svg/23px-Flag_of_Estonia.svg.png\" srcset=\"//upload.wikimedia.org/wikipedia/commons/thumb/8/8f/Flag_of_Estonia.svg/35px-Flag_of_Estonia.svg.png 1.5x, //upload.wikimedia.org/wikipedia/commons/thumb/8/8f/Flag_of_Estonia.svg/46px-Flag_of_Estonia.svg.png 2x\" width=\"23\"/> </span><a href=\"/wiki/Estonia\" title=\"Estonia\">Estonia</a></td>\n",
       " <td>77.7\n",
       " </td></tr>,\n",
       " <tr>\n",
       " <td>29\n",
       " </td>\n",
       " <td><span class=\"flagicon\"><img alt=\"\" class=\"thumbborder\" data-file-height=\"800\" data-file-width=\"1280\" decoding=\"async\" height=\"14\" src=\"//upload.wikimedia.org/wikipedia/en/thumb/1/12/Flag_of_Poland.svg/23px-Flag_of_Poland.svg.png\" srcset=\"//upload.wikimedia.org/wikipedia/en/thumb/1/12/Flag_of_Poland.svg/35px-Flag_of_Poland.svg.png 1.5x, //upload.wikimedia.org/wikipedia/en/thumb/1/12/Flag_of_Poland.svg/46px-Flag_of_Poland.svg.png 2x\" width=\"23\"/> </span><a href=\"/wiki/Poland\" title=\"Poland\">Poland</a></td>\n",
       " <td>77.5\n",
       " </td></tr>,\n",
       " <tr>\n",
       " <td>30\n",
       " </td>\n",
       " <td><span class=\"flagicon\"><img alt=\"\" class=\"thumbborder\" data-file-height=\"320\" data-file-width=\"640\" decoding=\"async\" height=\"12\" src=\"//upload.wikimedia.org/wikipedia/commons/thumb/6/64/Flag_of_Montenegro.svg/23px-Flag_of_Montenegro.svg.png\" srcset=\"//upload.wikimedia.org/wikipedia/commons/thumb/6/64/Flag_of_Montenegro.svg/35px-Flag_of_Montenegro.svg.png 1.5x, //upload.wikimedia.org/wikipedia/commons/thumb/6/64/Flag_of_Montenegro.svg/46px-Flag_of_Montenegro.svg.png 2x\" width=\"23\"/> </span><a href=\"/wiki/Montenegro\" title=\"Montenegro\">Montenegro</a></td>\n",
       " <td>77.1\n",
       " </td></tr>,\n",
       " <tr>\n",
       " <td>31\n",
       " </td>\n",
       " <td><span class=\"flagicon\"><img alt=\"\" class=\"thumbborder\" data-file-height=\"400\" data-file-width=\"800\" decoding=\"async\" height=\"12\" src=\"//upload.wikimedia.org/wikipedia/commons/thumb/b/bf/Flag_of_Bosnia_and_Herzegovina.svg/23px-Flag_of_Bosnia_and_Herzegovina.svg.png\" srcset=\"//upload.wikimedia.org/wikipedia/commons/thumb/b/bf/Flag_of_Bosnia_and_Herzegovina.svg/35px-Flag_of_Bosnia_and_Herzegovina.svg.png 1.5x, //upload.wikimedia.org/wikipedia/commons/thumb/b/bf/Flag_of_Bosnia_and_Herzegovina.svg/46px-Flag_of_Bosnia_and_Herzegovina.svg.png 2x\" width=\"23\"/> </span><a href=\"/wiki/Bosnia_and_Herzegovina\" title=\"Bosnia and Herzegovina\">Bosnia and Herzegovina</a></td>\n",
       " <td>76.9\n",
       " </td></tr>,\n",
       " <tr>\n",
       " <td>32\n",
       " </td>\n",
       " <td><span class=\"flagicon\"><img alt=\"\" class=\"thumbborder\" data-file-height=\"341\" data-file-width=\"512\" decoding=\"async\" height=\"15\" src=\"//upload.wikimedia.org/wikipedia/commons/thumb/e/e6/Flag_of_Slovakia.svg/23px-Flag_of_Slovakia.svg.png\" srcset=\"//upload.wikimedia.org/wikipedia/commons/thumb/e/e6/Flag_of_Slovakia.svg/35px-Flag_of_Slovakia.svg.png 1.5x, //upload.wikimedia.org/wikipedia/commons/thumb/e/e6/Flag_of_Slovakia.svg/45px-Flag_of_Slovakia.svg.png 2x\" width=\"23\"/> </span><a href=\"/wiki/Slovakia\" title=\"Slovakia\">Slovakia</a></td>\n",
       " <td>76.6\n",
       " </td></tr>,\n",
       " <tr>\n",
       " <td>33\n",
       " </td>\n",
       " <td><span class=\"flagicon\"><img alt=\"\" class=\"thumbborder\" data-file-height=\"800\" data-file-width=\"1200\" decoding=\"async\" height=\"15\" src=\"//upload.wikimedia.org/wikipedia/commons/thumb/b/b4/Flag_of_Turkey.svg/23px-Flag_of_Turkey.svg.png\" srcset=\"//upload.wikimedia.org/wikipedia/commons/thumb/b/b4/Flag_of_Turkey.svg/35px-Flag_of_Turkey.svg.png 1.5x, //upload.wikimedia.org/wikipedia/commons/thumb/b/b4/Flag_of_Turkey.svg/45px-Flag_of_Turkey.svg.png 2x\" width=\"23\"/> </span><a href=\"/wiki/Turkey\" title=\"Turkey\">Turkey</a></td>\n",
       " <td>75.8\n",
       " </td></tr>,\n",
       " <tr>\n",
       " <td>34\n",
       " </td>\n",
       " <td><span class=\"flagicon\"><img alt=\"\" class=\"thumbborder\" data-file-height=\"600\" data-file-width=\"1200\" decoding=\"async\" height=\"12\" src=\"//upload.wikimedia.org/wikipedia/commons/thumb/7/79/Flag_of_North_Macedonia.svg/23px-Flag_of_North_Macedonia.svg.png\" srcset=\"//upload.wikimedia.org/wikipedia/commons/thumb/7/79/Flag_of_North_Macedonia.svg/35px-Flag_of_North_Macedonia.svg.png 1.5x, //upload.wikimedia.org/wikipedia/commons/thumb/7/79/Flag_of_North_Macedonia.svg/46px-Flag_of_North_Macedonia.svg.png 2x\" width=\"23\"/> </span><a href=\"/wiki/North_Macedonia\" title=\"North Macedonia\">North Macedonia</a></td>\n",
       " <td>75.7\n",
       " </td></tr>,\n",
       " <tr>\n",
       " <td>35\n",
       " </td>\n",
       " <td><span class=\"flagicon\"><img alt=\"\" class=\"thumbborder\" data-file-height=\"600\" data-file-width=\"1200\" decoding=\"async\" height=\"12\" src=\"//upload.wikimedia.org/wikipedia/commons/thumb/c/c1/Flag_of_Hungary.svg/23px-Flag_of_Hungary.svg.png\" srcset=\"//upload.wikimedia.org/wikipedia/commons/thumb/c/c1/Flag_of_Hungary.svg/35px-Flag_of_Hungary.svg.png 1.5x, //upload.wikimedia.org/wikipedia/commons/thumb/c/c1/Flag_of_Hungary.svg/46px-Flag_of_Hungary.svg.png 2x\" width=\"23\"/> </span><a href=\"/wiki/Hungary\" title=\"Hungary\">Hungary</a></td>\n",
       " <td>75.6\n",
       " </td></tr>,\n",
       " <tr>\n",
       " <td>36\n",
       " </td>\n",
       " <td><span class=\"flagicon\"><img alt=\"\" class=\"thumbborder\" data-file-height=\"630\" data-file-width=\"945\" decoding=\"async\" height=\"15\" src=\"//upload.wikimedia.org/wikipedia/commons/thumb/f/ff/Flag_of_Serbia.svg/23px-Flag_of_Serbia.svg.png\" srcset=\"//upload.wikimedia.org/wikipedia/commons/thumb/f/ff/Flag_of_Serbia.svg/35px-Flag_of_Serbia.svg.png 1.5x, //upload.wikimedia.org/wikipedia/commons/thumb/f/ff/Flag_of_Serbia.svg/45px-Flag_of_Serbia.svg.png 2x\" width=\"23\"/> </span><a href=\"/wiki/Serbia\" title=\"Serbia\">Serbia</a></td>\n",
       " <td>75.2\n",
       " </td></tr>,\n",
       " <tr>\n",
       " <td>37\n",
       " </td>\n",
       " <td><span class=\"flagicon\"><img alt=\"\" class=\"thumbborder\" data-file-height=\"400\" data-file-width=\"600\" decoding=\"async\" height=\"15\" src=\"//upload.wikimedia.org/wikipedia/commons/thumb/7/73/Flag_of_Romania.svg/23px-Flag_of_Romania.svg.png\" srcset=\"//upload.wikimedia.org/wikipedia/commons/thumb/7/73/Flag_of_Romania.svg/35px-Flag_of_Romania.svg.png 1.5x, //upload.wikimedia.org/wikipedia/commons/thumb/7/73/Flag_of_Romania.svg/45px-Flag_of_Romania.svg.png 2x\" width=\"23\"/> </span><a href=\"/wiki/Romania\" title=\"Romania\">Romania</a></td>\n",
       " <td>75.0\n",
       " </td></tr>,\n",
       " <tr>\n",
       " <td>38\n",
       " </td>\n",
       " <td><span class=\"flagicon\"><img alt=\"\" class=\"thumbborder\" data-file-height=\"600\" data-file-width=\"1000\" decoding=\"async\" height=\"14\" src=\"//upload.wikimedia.org/wikipedia/commons/thumb/9/9a/Flag_of_Bulgaria.svg/23px-Flag_of_Bulgaria.svg.png\" srcset=\"//upload.wikimedia.org/wikipedia/commons/thumb/9/9a/Flag_of_Bulgaria.svg/35px-Flag_of_Bulgaria.svg.png 1.5x, //upload.wikimedia.org/wikipedia/commons/thumb/9/9a/Flag_of_Bulgaria.svg/46px-Flag_of_Bulgaria.svg.png 2x\" width=\"23\"/> </span><a href=\"/wiki/Bulgaria\" title=\"Bulgaria\">Bulgaria</a></td>\n",
       " <td>74.6\n",
       " </td></tr>,\n",
       " <tr>\n",
       " <td>39\n",
       " </td>\n",
       " <td><span class=\"flagicon\"><img alt=\"\" class=\"thumbborder\" data-file-height=\"600\" data-file-width=\"1200\" decoding=\"async\" height=\"12\" src=\"//upload.wikimedia.org/wikipedia/commons/thumb/8/84/Flag_of_Latvia.svg/23px-Flag_of_Latvia.svg.png\" srcset=\"//upload.wikimedia.org/wikipedia/commons/thumb/8/84/Flag_of_Latvia.svg/35px-Flag_of_Latvia.svg.png 1.5x, //upload.wikimedia.org/wikipedia/commons/thumb/8/84/Flag_of_Latvia.svg/46px-Flag_of_Latvia.svg.png 2x\" width=\"23\"/> </span><a href=\"/wiki/Latvia\" title=\"Latvia\">Latvia</a></td>\n",
       " <td>74.5\n",
       " </td></tr>,\n",
       " <tr>\n",
       " <td>40\n",
       " </td>\n",
       " <td><span class=\"flagicon\"><img alt=\"\" class=\"thumbborder\" data-file-height=\"600\" data-file-width=\"1000\" decoding=\"async\" height=\"14\" src=\"//upload.wikimedia.org/wikipedia/commons/thumb/1/11/Flag_of_Lithuania.svg/23px-Flag_of_Lithuania.svg.png\" srcset=\"//upload.wikimedia.org/wikipedia/commons/thumb/1/11/Flag_of_Lithuania.svg/35px-Flag_of_Lithuania.svg.png 1.5x, //upload.wikimedia.org/wikipedia/commons/thumb/1/11/Flag_of_Lithuania.svg/46px-Flag_of_Lithuania.svg.png 2x\" width=\"23\"/> </span><a href=\"/wiki/Lithuania\" title=\"Lithuania\">Lithuania</a></td>\n",
       " <td>74.3\n",
       " </td></tr>,\n",
       " <tr>\n",
       " <td>41\n",
       " </td>\n",
       " <td><span class=\"flagicon\"><img alt=\"\" class=\"thumbborder\" data-file-height=\"450\" data-file-width=\"900\" decoding=\"async\" height=\"12\" src=\"//upload.wikimedia.org/wikipedia/commons/thumb/8/85/Flag_of_Belarus.svg/23px-Flag_of_Belarus.svg.png\" srcset=\"//upload.wikimedia.org/wikipedia/commons/thumb/8/85/Flag_of_Belarus.svg/35px-Flag_of_Belarus.svg.png 1.5x, //upload.wikimedia.org/wikipedia/commons/thumb/8/85/Flag_of_Belarus.svg/46px-Flag_of_Belarus.svg.png 2x\" width=\"23\"/> </span><a href=\"/wiki/Belarus\" title=\"Belarus\">Belarus</a></td>\n",
       " <td>73.8\n",
       " </td></tr>,\n",
       " <tr>\n",
       " <td>42\n",
       " </td>\n",
       " <td><span class=\"flagicon\"><img alt=\"\" class=\"thumbborder\" data-file-height=\"500\" data-file-width=\"1000\" decoding=\"async\" height=\"12\" src=\"//upload.wikimedia.org/wikipedia/commons/thumb/d/d3/Flag_of_Kazakhstan.svg/23px-Flag_of_Kazakhstan.svg.png\" srcset=\"//upload.wikimedia.org/wikipedia/commons/thumb/d/d3/Flag_of_Kazakhstan.svg/35px-Flag_of_Kazakhstan.svg.png 1.5x, //upload.wikimedia.org/wikipedia/commons/thumb/d/d3/Flag_of_Kazakhstan.svg/46px-Flag_of_Kazakhstan.svg.png 2x\" width=\"23\"/> </span><a href=\"/wiki/Kazakhstan\" title=\"Kazakhstan\">Kazakhstan</a></td>\n",
       " <td>72.3\n",
       " </td></tr>,\n",
       " <tr>\n",
       " <td>43\n",
       " </td>\n",
       " <td><span class=\"flagicon\"><img alt=\"\" class=\"thumbborder\" data-file-height=\"900\" data-file-width=\"1800\" decoding=\"async\" height=\"12\" src=\"//upload.wikimedia.org/wikipedia/commons/thumb/2/27/Flag_of_Moldova.svg/23px-Flag_of_Moldova.svg.png\" srcset=\"//upload.wikimedia.org/wikipedia/commons/thumb/2/27/Flag_of_Moldova.svg/35px-Flag_of_Moldova.svg.png 1.5x, //upload.wikimedia.org/wikipedia/commons/thumb/2/27/Flag_of_Moldova.svg/46px-Flag_of_Moldova.svg.png 2x\" width=\"23\"/> </span><a href=\"/wiki/Moldova\" title=\"Moldova\">Moldova</a></td>\n",
       " <td>71.6\n",
       " </td></tr>,\n",
       " <tr>\n",
       " <td>44\n",
       " </td>\n",
       " <td><span class=\"flagicon\"><img alt=\"\" class=\"thumbborder\" data-file-height=\"600\" data-file-width=\"900\" decoding=\"async\" height=\"15\" src=\"//upload.wikimedia.org/wikipedia/en/thumb/f/f3/Flag_of_Russia.svg/23px-Flag_of_Russia.svg.png\" srcset=\"//upload.wikimedia.org/wikipedia/en/thumb/f/f3/Flag_of_Russia.svg/35px-Flag_of_Russia.svg.png 1.5x, //upload.wikimedia.org/wikipedia/en/thumb/f/f3/Flag_of_Russia.svg/45px-Flag_of_Russia.svg.png 2x\" width=\"23\"/> </span><a href=\"/wiki/Russia\" title=\"Russia\">Russia</a></td>\n",
       " <td>71.6\n",
       " </td></tr>,\n",
       " <tr>\n",
       " <td>45\n",
       " </td>\n",
       " <td><span class=\"flagicon\"><img alt=\"\" class=\"thumbborder\" data-file-height=\"800\" data-file-width=\"1200\" decoding=\"async\" height=\"15\" src=\"//upload.wikimedia.org/wikipedia/commons/thumb/4/49/Flag_of_Ukraine.svg/23px-Flag_of_Ukraine.svg.png\" srcset=\"//upload.wikimedia.org/wikipedia/commons/thumb/4/49/Flag_of_Ukraine.svg/35px-Flag_of_Ukraine.svg.png 1.5x, //upload.wikimedia.org/wikipedia/commons/thumb/4/49/Flag_of_Ukraine.svg/45px-Flag_of_Ukraine.svg.png 2x\" width=\"23\"/> </span><a href=\"/wiki/Ukraine\" title=\"Ukraine\">Ukraine</a></td>\n",
       " <td>71.5\n",
       " </td></tr>]"
      ]
     },
     "execution_count": 59,
     "metadata": {},
     "output_type": "execute_result"
    }
   ],
   "source": [
    "rows=table.find_all('tr')\n",
    "rows"
   ]
  },
  {
   "cell_type": "code",
   "execution_count": 73,
   "metadata": {},
   "outputs": [
    {
     "data": {
      "text/plain": [
       "[['Rank', 'Country', 'Life expectancy[1]'],\n",
       " ['1', 'Monaco[2]', '89.4'],\n",
       " ['2', 'San Marino[3]', '83.4'],\n",
       " ['3', 'Switzerland', '83.0'],\n",
       " ['4', 'Spain', '82.8'],\n",
       " ['5', 'Liechtenstein', '82.7'],\n",
       " ['6', 'Italy', '82.7'],\n",
       " ['7', 'Norway', '82.5'],\n",
       " ['8', 'Iceland', '82.5'],\n",
       " ['9', 'Luxembourg', '82.3'],\n",
       " ['10', 'France', '82.3'],\n",
       " ['11', 'Sweden', '82.2'],\n",
       " ['12', 'Malta', '81.8'],\n",
       " ['13', 'Finland', '81.8'],\n",
       " ['14', 'Ireland', '81.6'],\n",
       " ['15', 'Netherlands', '81.5'],\n",
       " ['16', 'Portugal', '81.1'],\n",
       " ['17', 'Greece', '81.0'],\n",
       " ['18', 'United Kingdom', '81.0'],\n",
       " ['19', 'Belgium', '81.0'],\n",
       " ['20', 'Austria', '80.9'],\n",
       " ['21', 'Slovenia', '80.8'],\n",
       " ['22', 'Denmark', '80.7'],\n",
       " ['23', 'Germany', '80.6'],\n",
       " ['24', 'Cyprus', '80.5'],\n",
       " ['25', 'Albania', '78.3'],\n",
       " ['26', 'Czech Republic', '78.3'],\n",
       " ['27', 'Croatia', '78.0'],\n",
       " ['28', 'Estonia', '77.7'],\n",
       " ['29', 'Poland', '77.5'],\n",
       " ['30', 'Montenegro', '77.1'],\n",
       " ['31', 'Bosnia and Herzegovina', '76.9'],\n",
       " ['32', 'Slovakia', '76.6'],\n",
       " ['33', 'Turkey', '75.8'],\n",
       " ['34', 'North Macedonia', '75.7'],\n",
       " ['35', 'Hungary', '75.6'],\n",
       " ['36', 'Serbia', '75.2'],\n",
       " ['37', 'Romania', '75.0'],\n",
       " ['38', 'Bulgaria', '74.6'],\n",
       " ['39', 'Latvia', '74.5'],\n",
       " ['40', 'Lithuania', '74.3'],\n",
       " ['41', 'Belarus', '73.8'],\n",
       " ['42', 'Kazakhstan', '72.3'],\n",
       " ['43', 'Moldova', '71.6'],\n",
       " ['44', 'Russia', '71.6'],\n",
       " ['45', 'Ukraine', '71.5']]"
      ]
     },
     "execution_count": 73,
     "metadata": {},
     "output_type": "execute_result"
    }
   ],
   "source": [
    "import pandas as pd \n",
    "table=[[cell.strip() for cell in i.text.strip().split('\\n') if cell!=''] for i in rows]\n",
    "pd.DataFrame(table[1:], columns=table[0])"
   ]
  },
  {
   "cell_type": "code",
   "execution_count": 71,
   "metadata": {},
   "outputs": [
    {
     "name": "stdout",
     "output_type": "stream",
     "text": [
      "Requirement already satisfied: lxml in /usr/local/Cellar/jupyterlab/2.2.0/libexec/lib/python3.8/site-packages (4.5.2)\n",
      "\u001b[33mWARNING: You are using pip version 20.1.1; however, version 20.2.3 is available.\n",
      "You should consider upgrading via the '/usr/local/Cellar/jupyterlab/2.2.0/libexec/bin/python3.8 -m pip install --upgrade pip' command.\u001b[0m\n",
      "Note: you may need to restart the kernel to use updated packages.\n"
     ]
    }
   ],
   "source": [
    "pip install lxml"
   ]
  },
  {
   "cell_type": "code",
   "execution_count": 72,
   "metadata": {},
   "outputs": [
    {
     "ename": "ImportError",
     "evalue": "lxml not found, please install it",
     "output_type": "error",
     "traceback": [
      "\u001b[0;31m---------------------------------------------------------------------------\u001b[0m",
      "\u001b[0;31mImportError\u001b[0m                               Traceback (most recent call last)",
      "\u001b[0;32m<ipython-input-72-9ba49a570c8c>\u001b[0m in \u001b[0;36m<module>\u001b[0;34m\u001b[0m\n\u001b[0;32m----> 1\u001b[0;31m \u001b[0mpd\u001b[0m\u001b[0;34m.\u001b[0m\u001b[0mread_html\u001b[0m\u001b[0;34m(\u001b[0m\u001b[0murl\u001b[0m\u001b[0;34m)\u001b[0m\u001b[0;34m[\u001b[0m\u001b[0;36m0\u001b[0m\u001b[0;34m]\u001b[0m\u001b[0;34m\u001b[0m\u001b[0;34m\u001b[0m\u001b[0m\n\u001b[0m",
      "\u001b[0;32m/usr/local/Cellar/jupyterlab/2.2.0/libexec/lib/python3.8/site-packages/pandas/util/_decorators.py\u001b[0m in \u001b[0;36mwrapper\u001b[0;34m(*args, **kwargs)\u001b[0m\n\u001b[1;32m    294\u001b[0m                 )\n\u001b[1;32m    295\u001b[0m                 \u001b[0mwarnings\u001b[0m\u001b[0;34m.\u001b[0m\u001b[0mwarn\u001b[0m\u001b[0;34m(\u001b[0m\u001b[0mmsg\u001b[0m\u001b[0;34m,\u001b[0m \u001b[0mFutureWarning\u001b[0m\u001b[0;34m,\u001b[0m \u001b[0mstacklevel\u001b[0m\u001b[0;34m=\u001b[0m\u001b[0mstacklevel\u001b[0m\u001b[0;34m)\u001b[0m\u001b[0;34m\u001b[0m\u001b[0;34m\u001b[0m\u001b[0m\n\u001b[0;32m--> 296\u001b[0;31m             \u001b[0;32mreturn\u001b[0m \u001b[0mfunc\u001b[0m\u001b[0;34m(\u001b[0m\u001b[0;34m*\u001b[0m\u001b[0margs\u001b[0m\u001b[0;34m,\u001b[0m \u001b[0;34m**\u001b[0m\u001b[0mkwargs\u001b[0m\u001b[0;34m)\u001b[0m\u001b[0;34m\u001b[0m\u001b[0;34m\u001b[0m\u001b[0m\n\u001b[0m\u001b[1;32m    297\u001b[0m \u001b[0;34m\u001b[0m\u001b[0m\n\u001b[1;32m    298\u001b[0m         \u001b[0;32mreturn\u001b[0m \u001b[0mwrapper\u001b[0m\u001b[0;34m\u001b[0m\u001b[0;34m\u001b[0m\u001b[0m\n",
      "\u001b[0;32m/usr/local/Cellar/jupyterlab/2.2.0/libexec/lib/python3.8/site-packages/pandas/io/html.py\u001b[0m in \u001b[0;36mread_html\u001b[0;34m(io, match, flavor, header, index_col, skiprows, attrs, parse_dates, thousands, encoding, decimal, converters, na_values, keep_default_na, displayed_only)\u001b[0m\n\u001b[1;32m   1084\u001b[0m         )\n\u001b[1;32m   1085\u001b[0m     \u001b[0mvalidate_header_arg\u001b[0m\u001b[0;34m(\u001b[0m\u001b[0mheader\u001b[0m\u001b[0;34m)\u001b[0m\u001b[0;34m\u001b[0m\u001b[0;34m\u001b[0m\u001b[0m\n\u001b[0;32m-> 1086\u001b[0;31m     return _parse(\n\u001b[0m\u001b[1;32m   1087\u001b[0m         \u001b[0mflavor\u001b[0m\u001b[0;34m=\u001b[0m\u001b[0mflavor\u001b[0m\u001b[0;34m,\u001b[0m\u001b[0;34m\u001b[0m\u001b[0;34m\u001b[0m\u001b[0m\n\u001b[1;32m   1088\u001b[0m         \u001b[0mio\u001b[0m\u001b[0;34m=\u001b[0m\u001b[0mio\u001b[0m\u001b[0;34m,\u001b[0m\u001b[0;34m\u001b[0m\u001b[0;34m\u001b[0m\u001b[0m\n",
      "\u001b[0;32m/usr/local/Cellar/jupyterlab/2.2.0/libexec/lib/python3.8/site-packages/pandas/io/html.py\u001b[0m in \u001b[0;36m_parse\u001b[0;34m(flavor, io, match, attrs, encoding, displayed_only, **kwargs)\u001b[0m\n\u001b[1;32m    892\u001b[0m     \u001b[0mretained\u001b[0m \u001b[0;34m=\u001b[0m \u001b[0;32mNone\u001b[0m\u001b[0;34m\u001b[0m\u001b[0;34m\u001b[0m\u001b[0m\n\u001b[1;32m    893\u001b[0m     \u001b[0;32mfor\u001b[0m \u001b[0mflav\u001b[0m \u001b[0;32min\u001b[0m \u001b[0mflavor\u001b[0m\u001b[0;34m:\u001b[0m\u001b[0;34m\u001b[0m\u001b[0;34m\u001b[0m\u001b[0m\n\u001b[0;32m--> 894\u001b[0;31m         \u001b[0mparser\u001b[0m \u001b[0;34m=\u001b[0m \u001b[0m_parser_dispatch\u001b[0m\u001b[0;34m(\u001b[0m\u001b[0mflav\u001b[0m\u001b[0;34m)\u001b[0m\u001b[0;34m\u001b[0m\u001b[0;34m\u001b[0m\u001b[0m\n\u001b[0m\u001b[1;32m    895\u001b[0m         \u001b[0mp\u001b[0m \u001b[0;34m=\u001b[0m \u001b[0mparser\u001b[0m\u001b[0;34m(\u001b[0m\u001b[0mio\u001b[0m\u001b[0;34m,\u001b[0m \u001b[0mcompiled_match\u001b[0m\u001b[0;34m,\u001b[0m \u001b[0mattrs\u001b[0m\u001b[0;34m,\u001b[0m \u001b[0mencoding\u001b[0m\u001b[0;34m,\u001b[0m \u001b[0mdisplayed_only\u001b[0m\u001b[0;34m)\u001b[0m\u001b[0;34m\u001b[0m\u001b[0;34m\u001b[0m\u001b[0m\n\u001b[1;32m    896\u001b[0m \u001b[0;34m\u001b[0m\u001b[0m\n",
      "\u001b[0;32m/usr/local/Cellar/jupyterlab/2.2.0/libexec/lib/python3.8/site-packages/pandas/io/html.py\u001b[0m in \u001b[0;36m_parser_dispatch\u001b[0;34m(flavor)\u001b[0m\n\u001b[1;32m    849\u001b[0m     \u001b[0;32melse\u001b[0m\u001b[0;34m:\u001b[0m\u001b[0;34m\u001b[0m\u001b[0;34m\u001b[0m\u001b[0m\n\u001b[1;32m    850\u001b[0m         \u001b[0;32mif\u001b[0m \u001b[0;32mnot\u001b[0m \u001b[0m_HAS_LXML\u001b[0m\u001b[0;34m:\u001b[0m\u001b[0;34m\u001b[0m\u001b[0;34m\u001b[0m\u001b[0m\n\u001b[0;32m--> 851\u001b[0;31m             \u001b[0;32mraise\u001b[0m \u001b[0mImportError\u001b[0m\u001b[0;34m(\u001b[0m\u001b[0;34m\"lxml not found, please install it\"\u001b[0m\u001b[0;34m)\u001b[0m\u001b[0;34m\u001b[0m\u001b[0;34m\u001b[0m\u001b[0m\n\u001b[0m\u001b[1;32m    852\u001b[0m     \u001b[0;32mreturn\u001b[0m \u001b[0m_valid_parsers\u001b[0m\u001b[0;34m[\u001b[0m\u001b[0mflavor\u001b[0m\u001b[0;34m]\u001b[0m\u001b[0;34m\u001b[0m\u001b[0;34m\u001b[0m\u001b[0m\n\u001b[1;32m    853\u001b[0m \u001b[0;34m\u001b[0m\u001b[0m\n",
      "\u001b[0;31mImportError\u001b[0m: lxml not found, please install it"
     ]
    }
   ],
   "source": [
    "pd.read_html(url)[0]"
   ]
  },
  {
   "cell_type": "code",
   "execution_count": null,
   "metadata": {},
   "outputs": [],
   "source": []
  }
 ],
 "metadata": {
  "kernelspec": {
   "display_name": "Python 3",
   "language": "python",
   "name": "python3"
  },
  "language_info": {
   "codemirror_mode": {
    "name": "ipython",
    "version": 3
   },
   "file_extension": ".py",
   "mimetype": "text/x-python",
   "name": "python",
   "nbconvert_exporter": "python",
   "pygments_lexer": "ipython3",
   "version": "3.8.5"
  }
 },
 "nbformat": 4,
 "nbformat_minor": 4
}
