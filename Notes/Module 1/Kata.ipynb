{
 "cells": [
  {
   "cell_type": "code",
   "execution_count": 10,
   "metadata": {},
   "outputs": [],
   "source": [
    " robot_1 = {\n",
    "  \"name\": \"Rocky\",\n",
    "  \"health\": 100,\n",
    "  \"speed\": 20,\n",
    "  \"tactics\": [\"punch\", \"punch\", \"laser\", \"missile\"]\n",
    " }\n",
    " robot_2 = {\n",
    "   \"name\": \"Missile Bob\",\n",
    "   \"health\": 100,\n",
    "   \"speed\": 21,\n",
    "   \"tactics\": [\"missile\", \"missile\", \"missile\", \"missile\"]\n",
    " }\n",
    " tactics = {\n",
    "   \"punch\": 20,\n",
    "   \"laser\": 30,\n",
    "   \"missile\": 35\n",
    " }"
   ]
  },
  {
   "cell_type": "code",
   "execution_count": 11,
   "metadata": {},
   "outputs": [],
   "source": [
    "def fight(robot_1, robot_2, tactics):\n",
    "    # your code\n",
    "    if robot_1['speed']>robot_2['speed']:\n",
    "        speed_robot=robot_1\n",
    "        slow_robot=robot_2\n",
    "    else:\n",
    "        speed_robot=robot_2\n",
    "        slow_robot=robot_1\n",
    "    game=1\n",
    "    while game:\n",
    "        for i in range(4):\n",
    "            slow_robot['health']-=tactics[speed_robot['tactics'][i]]\n",
    "            if slow_robot['health']<=0:\n",
    "                game=0\n",
    "                print(speed_robot['name'],'has won the fight.')\n",
    "            else:\n",
    "                speed_robot['health']-=tactics[slow_robot['tactics'][i]]\n",
    "                if speed_robot['health']<=0:\n",
    "                    game=0\n",
    "                    print(slow_robot['name'],'has won the fight.')\n",
    "                else:\n",
    "                    continue"
   ]
  },
  {
   "cell_type": "code",
   "execution_count": 12,
   "metadata": {},
   "outputs": [
    {
     "name": "stdout",
     "output_type": "stream",
     "text": [
      "Missile Bob has won the fight.\n",
      "Missile Bob has won the fight.\n"
     ]
    }
   ],
   "source": [
    "fight(robot_1, robot_2, tactics)"
   ]
  },
  {
   "cell_type": "code",
   "execution_count": 13,
   "metadata": {},
   "outputs": [
    {
     "data": {
      "text/plain": [
       "-40"
      ]
     },
     "execution_count": 13,
     "metadata": {},
     "output_type": "execute_result"
    }
   ],
   "source": [
    "robot_1['health']"
   ]
  },
  {
   "cell_type": "code",
   "execution_count": null,
   "metadata": {},
   "outputs": [],
   "source": []
  }
 ],
 "metadata": {
  "kernelspec": {
   "display_name": "Python 3",
   "language": "python",
   "name": "python3"
  },
  "language_info": {
   "codemirror_mode": {
    "name": "ipython",
    "version": 3
   },
   "file_extension": ".py",
   "mimetype": "text/x-python",
   "name": "python",
   "nbconvert_exporter": "python",
   "pygments_lexer": "ipython3",
   "version": "3.8.5"
  }
 },
 "nbformat": 4,
 "nbformat_minor": 4
}
