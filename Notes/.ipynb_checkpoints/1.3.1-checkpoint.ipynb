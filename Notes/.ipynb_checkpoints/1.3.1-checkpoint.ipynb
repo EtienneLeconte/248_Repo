{
 "cells": [
  {
   "cell_type": "code",
   "execution_count": 1,
   "metadata": {},
   "outputs": [],
   "source": [
    "import numpy as np"
   ]
  },
  {
   "cell_type": "code",
   "execution_count": 2,
   "metadata": {},
   "outputs": [],
   "source": [
    "# 2 dimensional tensor \n",
    "\n",
    "a=np.random.random((2,2))"
   ]
  },
  {
   "cell_type": "code",
   "execution_count": 3,
   "metadata": {},
   "outputs": [
    {
     "data": {
      "text/plain": [
       "array([[0.46779889, 0.88411548],\n",
       "       [0.86539784, 0.93761879]])"
      ]
     },
     "execution_count": 3,
     "metadata": {},
     "output_type": "execute_result"
    }
   ],
   "source": [
    "a"
   ]
  },
  {
   "cell_type": "code",
   "execution_count": 4,
   "metadata": {},
   "outputs": [
    {
     "data": {
      "text/plain": [
       "0.4677988917234095"
      ]
     },
     "execution_count": 4,
     "metadata": {},
     "output_type": "execute_result"
    }
   ],
   "source": [
    "a[0,0]"
   ]
  },
  {
   "cell_type": "code",
   "execution_count": 5,
   "metadata": {},
   "outputs": [
    {
     "data": {
      "text/plain": [
       "0.8653978377750834"
      ]
     },
     "execution_count": 5,
     "metadata": {},
     "output_type": "execute_result"
    }
   ],
   "source": [
    "a[1,0]"
   ]
  },
  {
   "cell_type": "code",
   "execution_count": 6,
   "metadata": {},
   "outputs": [
    {
     "data": {
      "text/plain": [
       "array([[0.47, 0.88],\n",
       "       [0.87, 0.94]])"
      ]
     },
     "execution_count": 6,
     "metadata": {},
     "output_type": "execute_result"
    }
   ],
   "source": [
    "a.round(2)"
   ]
  },
  {
   "cell_type": "code",
   "execution_count": 7,
   "metadata": {},
   "outputs": [
    {
     "data": {
      "text/plain": [
       "array([0.46779889, 0.88411548])"
      ]
     },
     "execution_count": 7,
     "metadata": {},
     "output_type": "execute_result"
    }
   ],
   "source": [
    "a[0]"
   ]
  },
  {
   "cell_type": "code",
   "execution_count": 8,
   "metadata": {},
   "outputs": [
    {
     "data": {
      "text/plain": [
       "array([0.46779889, 0.86539784])"
      ]
     },
     "execution_count": 8,
     "metadata": {},
     "output_type": "execute_result"
    }
   ],
   "source": [
    "a[:,0]"
   ]
  },
  {
   "cell_type": "code",
   "execution_count": 9,
   "metadata": {},
   "outputs": [],
   "source": [
    "# 3 dimensional tensor \n",
    "\n",
    "b=np.random.random((4,3,2))"
   ]
  },
  {
   "cell_type": "code",
   "execution_count": 10,
   "metadata": {},
   "outputs": [
    {
     "data": {
      "text/plain": [
       "array([[[0.08751509, 0.52990609],\n",
       "        [0.24857782, 0.96455607],\n",
       "        [0.82134724, 0.65819772]],\n",
       "\n",
       "       [[0.42918847, 0.79814294],\n",
       "        [0.27624566, 0.45169912],\n",
       "        [0.91189569, 0.80497013]],\n",
       "\n",
       "       [[0.70168817, 0.0400794 ],\n",
       "        [0.43531947, 0.66134754],\n",
       "        [0.67953092, 0.21393872]],\n",
       "\n",
       "       [[0.46445182, 0.08356699],\n",
       "        [0.62218271, 0.97408588],\n",
       "        [0.91287758, 0.17269024]]])"
      ]
     },
     "execution_count": 10,
     "metadata": {},
     "output_type": "execute_result"
    }
   ],
   "source": [
    "b"
   ]
  },
  {
   "cell_type": "code",
   "execution_count": 11,
   "metadata": {},
   "outputs": [],
   "source": [
    "# 4 dimensional tensor \n",
    "\n",
    "c=np.random.random((5,4,3,2))"
   ]
  },
  {
   "cell_type": "code",
   "execution_count": 13,
   "metadata": {},
   "outputs": [
    {
     "data": {
      "text/plain": [
       "array([[0.08751509, 0.52990609],\n",
       "       [0.24857782, 0.96455607],\n",
       "       [0.82134724, 0.65819772]])"
      ]
     },
     "execution_count": 13,
     "metadata": {},
     "output_type": "execute_result"
    }
   ],
   "source": [
    "b[0]"
   ]
  },
  {
   "cell_type": "code",
   "execution_count": 14,
   "metadata": {},
   "outputs": [
    {
     "data": {
      "text/plain": [
       "array([[0.24857782, 0.96455607],\n",
       "       [0.27624566, 0.45169912],\n",
       "       [0.43531947, 0.66134754],\n",
       "       [0.62218271, 0.97408588]])"
      ]
     },
     "execution_count": 14,
     "metadata": {},
     "output_type": "execute_result"
    }
   ],
   "source": [
    "b[:,1]"
   ]
  },
  {
   "cell_type": "code",
   "execution_count": 15,
   "metadata": {},
   "outputs": [
    {
     "data": {
      "text/plain": [
       "array([[0.52990609, 0.96455607, 0.65819772],\n",
       "       [0.79814294, 0.45169912, 0.80497013],\n",
       "       [0.0400794 , 0.66134754, 0.21393872],\n",
       "       [0.08356699, 0.97408588, 0.17269024]])"
      ]
     },
     "execution_count": 15,
     "metadata": {},
     "output_type": "execute_result"
    }
   ],
   "source": [
    "b[:,:,1]"
   ]
  },
  {
   "cell_type": "markdown",
   "metadata": {},
   "source": [
    "# 2 Lambda functions"
   ]
  },
  {
   "cell_type": "code",
   "execution_count": 17,
   "metadata": {},
   "outputs": [],
   "source": [
    "square=lambda x: x*x"
   ]
  },
  {
   "cell_type": "code",
   "execution_count": 18,
   "metadata": {},
   "outputs": [
    {
     "data": {
      "text/plain": [
       "4"
      ]
     },
     "execution_count": 18,
     "metadata": {},
     "output_type": "execute_result"
    }
   ],
   "source": [
    "square(2)"
   ]
  },
  {
   "cell_type": "code",
   "execution_count": 19,
   "metadata": {},
   "outputs": [],
   "source": [
    "div = lambda x,y: x/y if y!=0 else 0"
   ]
  },
  {
   "cell_type": "code",
   "execution_count": 21,
   "metadata": {},
   "outputs": [
    {
     "data": {
      "text/plain": [
       "0.8333333333333334"
      ]
     },
     "execution_count": 21,
     "metadata": {},
     "output_type": "execute_result"
    }
   ],
   "source": [
    "div(5,6)"
   ]
  },
  {
   "cell_type": "code",
   "execution_count": 22,
   "metadata": {},
   "outputs": [
    {
     "data": {
      "text/plain": [
       "0"
      ]
     },
     "execution_count": 22,
     "metadata": {},
     "output_type": "execute_result"
    }
   ],
   "source": [
    "div(4,0)"
   ]
  },
  {
   "cell_type": "markdown",
   "metadata": {},
   "source": [
    "## create a function that returns a function"
   ]
  },
  {
   "cell_type": "code",
   "execution_count": 23,
   "metadata": {},
   "outputs": [],
   "source": [
    "def generate_range(lower):\n",
    "    return lambda upper: range(lower,upper)"
   ]
  },
  {
   "cell_type": "code",
   "execution_count": 24,
   "metadata": {},
   "outputs": [],
   "source": [
    "custom_range=generate_range(5)"
   ]
  },
  {
   "cell_type": "code",
   "execution_count": 25,
   "metadata": {},
   "outputs": [
    {
     "data": {
      "text/plain": [
       "range(5, 10)"
      ]
     },
     "execution_count": 25,
     "metadata": {},
     "output_type": "execute_result"
    }
   ],
   "source": [
    "custom_range(10)"
   ]
  },
  {
   "cell_type": "markdown",
   "metadata": {},
   "source": [
    "## Lambda + list comprehension "
   ]
  },
  {
   "cell_type": "code",
   "execution_count": 26,
   "metadata": {},
   "outputs": [
    {
     "data": {
      "text/plain": [
       "[0,\n",
       " 1,\n",
       " 4,\n",
       " 9,\n",
       " 16,\n",
       " 25,\n",
       " 36,\n",
       " 49,\n",
       " 64,\n",
       " 81,\n",
       " 100,\n",
       " 121,\n",
       " 144,\n",
       " 169,\n",
       " 196,\n",
       " 225,\n",
       " 256,\n",
       " 289,\n",
       " 324,\n",
       " 361]"
      ]
     },
     "execution_count": 26,
     "metadata": {},
     "output_type": "execute_result"
    }
   ],
   "source": [
    "[square(i) for i in range(20)]"
   ]
  },
  {
   "cell_type": "code",
   "execution_count": 27,
   "metadata": {},
   "outputs": [],
   "source": [
    "topics=['Python','MySQL','Pandas','Web Scraping','Data Viz','Statistics','Machine Learning']"
   ]
  },
  {
   "cell_type": "code",
   "execution_count": 29,
   "metadata": {},
   "outputs": [
    {
     "data": {
      "text/plain": [
       "['python',\n",
       " 'mysql',\n",
       " 'pandas',\n",
       " 'web_scraping',\n",
       " 'data_viz',\n",
       " 'statistics',\n",
       " 'machine_learning']"
      ]
     },
     "execution_count": 29,
     "metadata": {},
     "output_type": "execute_result"
    }
   ],
   "source": [
    "[i.lower().replace(' ','_') for i in topics]"
   ]
  },
  {
   "cell_type": "code",
   "execution_count": 28,
   "metadata": {},
   "outputs": [
    {
     "data": {
      "text/plain": [
       "['python',\n",
       " 'mysql',\n",
       " 'pandas',\n",
       " 'web_scraping',\n",
       " 'data_viz',\n",
       " 'statistics',\n",
       " 'machine_learning']"
      ]
     },
     "execution_count": 28,
     "metadata": {},
     "output_type": "execute_result"
    }
   ],
   "source": [
    "[(lambda x: x.lower().replace(' ','_'))(i) for i in topics]"
   ]
  },
  {
   "cell_type": "code",
   "execution_count": 32,
   "metadata": {},
   "outputs": [
    {
     "data": {
      "text/plain": [
       "['python',\n",
       " 'mysql',\n",
       " 'pandas',\n",
       " 'web_scraping',\n",
       " 'data_viz',\n",
       " 'statistics',\n",
       " 'machine_learning']"
      ]
     },
     "execution_count": 32,
     "metadata": {},
     "output_type": "execute_result"
    }
   ],
   "source": [
    "list(map(lambda x: x.lower().replace(' ','_'),topics))"
   ]
  },
  {
   "cell_type": "code",
   "execution_count": 36,
   "metadata": {},
   "outputs": [],
   "source": [
    "dct={i:len(i) for i in topics}"
   ]
  },
  {
   "cell_type": "code",
   "execution_count": 37,
   "metadata": {},
   "outputs": [
    {
     "data": {
      "text/plain": [
       "{'Machine Learning': 16,\n",
       " 'Web Scraping': 12,\n",
       " 'Statistics': 10,\n",
       " 'Data Viz': 8,\n",
       " 'Python': 6,\n",
       " 'Pandas': 6,\n",
       " 'MySQL': 5}"
      ]
     },
     "execution_count": 37,
     "metadata": {},
     "output_type": "execute_result"
    }
   ],
   "source": [
    "import operator \n",
    "dict(sorted(dct.items(), key=operator.itemgetter(1),reverse=True))"
   ]
  },
  {
   "cell_type": "code",
   "execution_count": 38,
   "metadata": {},
   "outputs": [
    {
     "data": {
      "text/plain": [
       "{'Machine Learning': 16,\n",
       " 'Web Scraping': 12,\n",
       " 'Statistics': 10,\n",
       " 'Data Viz': 8,\n",
       " 'Python': 6,\n",
       " 'Pandas': 6,\n",
       " 'MySQL': 5}"
      ]
     },
     "execution_count": 38,
     "metadata": {},
     "output_type": "execute_result"
    }
   ],
   "source": [
    "dict(sorted(dct.items(), reverse=True, key=lambda x: x[1]))"
   ]
  },
  {
   "cell_type": "markdown",
   "metadata": {},
   "source": [
    "# 3 Map, Filter, Reduce"
   ]
  },
  {
   "cell_type": "markdown",
   "metadata": {},
   "source": [
    "## Map "
   ]
  },
  {
   "cell_type": "code",
   "execution_count": 40,
   "metadata": {},
   "outputs": [],
   "source": [
    "def func(x):\n",
    "    return x%2==0"
   ]
  },
  {
   "cell_type": "code",
   "execution_count": 41,
   "metadata": {},
   "outputs": [],
   "source": [
    "l=[10,23,445,34]"
   ]
  },
  {
   "cell_type": "code",
   "execution_count": 42,
   "metadata": {},
   "outputs": [
    {
     "ename": "TypeError",
     "evalue": "unsupported operand type(s) for %: 'list' and 'int'",
     "output_type": "error",
     "traceback": [
      "\u001b[0;31m---------------------------------------------------------------------------\u001b[0m",
      "\u001b[0;31mTypeError\u001b[0m                                 Traceback (most recent call last)",
      "\u001b[0;32m<ipython-input-42-11b6dfc379be>\u001b[0m in \u001b[0;36m<module>\u001b[0;34m\u001b[0m\n\u001b[0;32m----> 1\u001b[0;31m \u001b[0mfunc\u001b[0m\u001b[0;34m(\u001b[0m\u001b[0ml\u001b[0m\u001b[0;34m)\u001b[0m\u001b[0;34m\u001b[0m\u001b[0;34m\u001b[0m\u001b[0m\n\u001b[0m",
      "\u001b[0;32m<ipython-input-40-99501a6bca9c>\u001b[0m in \u001b[0;36mfunc\u001b[0;34m(x)\u001b[0m\n\u001b[1;32m      1\u001b[0m \u001b[0;32mdef\u001b[0m \u001b[0mfunc\u001b[0m\u001b[0;34m(\u001b[0m\u001b[0mx\u001b[0m\u001b[0;34m)\u001b[0m\u001b[0;34m:\u001b[0m\u001b[0;34m\u001b[0m\u001b[0;34m\u001b[0m\u001b[0m\n\u001b[0;32m----> 2\u001b[0;31m     \u001b[0;32mreturn\u001b[0m \u001b[0mx\u001b[0m\u001b[0;34m%\u001b[0m\u001b[0;36m2\u001b[0m\u001b[0;34m==\u001b[0m\u001b[0;36m0\u001b[0m\u001b[0;34m\u001b[0m\u001b[0;34m\u001b[0m\u001b[0m\n\u001b[0m",
      "\u001b[0;31mTypeError\u001b[0m: unsupported operand type(s) for %: 'list' and 'int'"
     ]
    }
   ],
   "source": [
    "func(l)"
   ]
  },
  {
   "cell_type": "code",
   "execution_count": 43,
   "metadata": {},
   "outputs": [
    {
     "data": {
      "text/plain": [
       "[True, False, False, True]"
      ]
     },
     "execution_count": 43,
     "metadata": {},
     "output_type": "execute_result"
    }
   ],
   "source": [
    "[func(i) for i in l]"
   ]
  },
  {
   "cell_type": "code",
   "execution_count": 44,
   "metadata": {},
   "outputs": [
    {
     "data": {
      "text/plain": [
       "[True, False, False, True]"
      ]
     },
     "execution_count": 44,
     "metadata": {},
     "output_type": "execute_result"
    }
   ],
   "source": [
    "list(map(func,l))"
   ]
  },
  {
   "cell_type": "code",
   "execution_count": 45,
   "metadata": {},
   "outputs": [],
   "source": [
    "import pandas as pd\n",
    "import numpy as np"
   ]
  },
  {
   "cell_type": "code",
   "execution_count": 46,
   "metadata": {},
   "outputs": [],
   "source": [
    "df=pd.DataFrame([[1,2,3],[2,3,np.nan]])"
   ]
  },
  {
   "cell_type": "code",
   "execution_count": 47,
   "metadata": {},
   "outputs": [
    {
     "data": {
      "text/html": [
       "<div>\n",
       "<style scoped>\n",
       "    .dataframe tbody tr th:only-of-type {\n",
       "        vertical-align: middle;\n",
       "    }\n",
       "\n",
       "    .dataframe tbody tr th {\n",
       "        vertical-align: top;\n",
       "    }\n",
       "\n",
       "    .dataframe thead th {\n",
       "        text-align: right;\n",
       "    }\n",
       "</style>\n",
       "<table border=\"1\" class=\"dataframe\">\n",
       "  <thead>\n",
       "    <tr style=\"text-align: right;\">\n",
       "      <th></th>\n",
       "      <th>0</th>\n",
       "      <th>1</th>\n",
       "      <th>2</th>\n",
       "    </tr>\n",
       "  </thead>\n",
       "  <tbody>\n",
       "    <tr>\n",
       "      <th>0</th>\n",
       "      <td>1</td>\n",
       "      <td>2</td>\n",
       "      <td>3.0</td>\n",
       "    </tr>\n",
       "    <tr>\n",
       "      <th>1</th>\n",
       "      <td>2</td>\n",
       "      <td>3</td>\n",
       "      <td>NaN</td>\n",
       "    </tr>\n",
       "  </tbody>\n",
       "</table>\n",
       "</div>"
      ],
      "text/plain": [
       "   0  1    2\n",
       "0  1  2  3.0\n",
       "1  2  3  NaN"
      ]
     },
     "execution_count": 47,
     "metadata": {},
     "output_type": "execute_result"
    }
   ],
   "source": [
    "df"
   ]
  },
  {
   "cell_type": "code",
   "execution_count": 48,
   "metadata": {},
   "outputs": [],
   "source": [
    "def ff(x):\n",
    "    return float(x)"
   ]
  },
  {
   "cell_type": "code",
   "execution_count": 49,
   "metadata": {},
   "outputs": [
    {
     "data": {
      "text/plain": [
       "0    1.0\n",
       "1    2.0\n",
       "Name: 0, dtype: float64"
      ]
     },
     "execution_count": 49,
     "metadata": {},
     "output_type": "execute_result"
    }
   ],
   "source": [
    "df[0].map(ff)"
   ]
  },
  {
   "cell_type": "markdown",
   "metadata": {},
   "source": [
    "**IMPORTANT** `map()` only works with `pd.Series`"
   ]
  },
  {
   "cell_type": "code",
   "execution_count": 50,
   "metadata": {},
   "outputs": [
    {
     "data": {
      "text/plain": [
       "0    4\n",
       "1    9\n",
       "Name: 1, dtype: int64"
      ]
     },
     "execution_count": 50,
     "metadata": {},
     "output_type": "execute_result"
    }
   ],
   "source": [
    "df[1].map(lambda x: x**2)"
   ]
  },
  {
   "cell_type": "code",
   "execution_count": 51,
   "metadata": {},
   "outputs": [],
   "source": [
    "dct={1:'apple',2:'plum'}"
   ]
  },
  {
   "cell_type": "code",
   "execution_count": 52,
   "metadata": {},
   "outputs": [
    {
     "data": {
      "text/plain": [
       "0    apple\n",
       "1     plum\n",
       "Name: 0, dtype: object"
      ]
     },
     "execution_count": 52,
     "metadata": {},
     "output_type": "execute_result"
    }
   ],
   "source": [
    "df[0].map(dct)"
   ]
  },
  {
   "cell_type": "code",
   "execution_count": 53,
   "metadata": {},
   "outputs": [
    {
     "data": {
      "text/plain": [
       "0    plum\n",
       "1     NaN\n",
       "Name: 1, dtype: object"
      ]
     },
     "execution_count": 53,
     "metadata": {},
     "output_type": "execute_result"
    }
   ],
   "source": [
    "df[1].map(dct)"
   ]
  },
  {
   "cell_type": "markdown",
   "metadata": {},
   "source": [
    "## Filter"
   ]
  },
  {
   "cell_type": "code",
   "execution_count": 55,
   "metadata": {},
   "outputs": [
    {
     "data": {
      "text/plain": [
       "[True, False, False, True]"
      ]
     },
     "execution_count": 55,
     "metadata": {},
     "output_type": "execute_result"
    }
   ],
   "source": [
    "list(map(func,l))"
   ]
  },
  {
   "cell_type": "code",
   "execution_count": 57,
   "metadata": {},
   "outputs": [
    {
     "data": {
      "text/plain": [
       "[10, 23, 445, 34]"
      ]
     },
     "execution_count": 57,
     "metadata": {},
     "output_type": "execute_result"
    }
   ],
   "source": [
    "l"
   ]
  },
  {
   "cell_type": "code",
   "execution_count": 56,
   "metadata": {},
   "outputs": [
    {
     "data": {
      "text/plain": [
       "[10, 34]"
      ]
     },
     "execution_count": 56,
     "metadata": {},
     "output_type": "execute_result"
    }
   ],
   "source": [
    "list(filter(func,l))"
   ]
  },
  {
   "cell_type": "code",
   "execution_count": 58,
   "metadata": {},
   "outputs": [
    {
     "data": {
      "text/html": [
       "<div>\n",
       "<style scoped>\n",
       "    .dataframe tbody tr th:only-of-type {\n",
       "        vertical-align: middle;\n",
       "    }\n",
       "\n",
       "    .dataframe tbody tr th {\n",
       "        vertical-align: top;\n",
       "    }\n",
       "\n",
       "    .dataframe thead th {\n",
       "        text-align: right;\n",
       "    }\n",
       "</style>\n",
       "<table border=\"1\" class=\"dataframe\">\n",
       "  <thead>\n",
       "    <tr style=\"text-align: right;\">\n",
       "      <th></th>\n",
       "      <th>0</th>\n",
       "      <th>1</th>\n",
       "      <th>2</th>\n",
       "    </tr>\n",
       "  </thead>\n",
       "  <tbody>\n",
       "    <tr>\n",
       "      <th>0</th>\n",
       "      <td>1</td>\n",
       "      <td>2</td>\n",
       "      <td>3.0</td>\n",
       "    </tr>\n",
       "    <tr>\n",
       "      <th>1</th>\n",
       "      <td>2</td>\n",
       "      <td>3</td>\n",
       "      <td>NaN</td>\n",
       "    </tr>\n",
       "  </tbody>\n",
       "</table>\n",
       "</div>"
      ],
      "text/plain": [
       "   0  1    2\n",
       "0  1  2  3.0\n",
       "1  2  3  NaN"
      ]
     },
     "execution_count": 58,
     "metadata": {},
     "output_type": "execute_result"
    }
   ],
   "source": [
    "df"
   ]
  },
  {
   "cell_type": "code",
   "execution_count": 59,
   "metadata": {},
   "outputs": [],
   "source": [
    "df.index=['mouse','cat']"
   ]
  },
  {
   "cell_type": "code",
   "execution_count": 60,
   "metadata": {},
   "outputs": [
    {
     "data": {
      "text/html": [
       "<div>\n",
       "<style scoped>\n",
       "    .dataframe tbody tr th:only-of-type {\n",
       "        vertical-align: middle;\n",
       "    }\n",
       "\n",
       "    .dataframe tbody tr th {\n",
       "        vertical-align: top;\n",
       "    }\n",
       "\n",
       "    .dataframe thead th {\n",
       "        text-align: right;\n",
       "    }\n",
       "</style>\n",
       "<table border=\"1\" class=\"dataframe\">\n",
       "  <thead>\n",
       "    <tr style=\"text-align: right;\">\n",
       "      <th></th>\n",
       "      <th>0</th>\n",
       "      <th>1</th>\n",
       "      <th>2</th>\n",
       "    </tr>\n",
       "  </thead>\n",
       "  <tbody>\n",
       "    <tr>\n",
       "      <th>mouse</th>\n",
       "      <td>1</td>\n",
       "      <td>2</td>\n",
       "      <td>3.0</td>\n",
       "    </tr>\n",
       "    <tr>\n",
       "      <th>cat</th>\n",
       "      <td>2</td>\n",
       "      <td>3</td>\n",
       "      <td>NaN</td>\n",
       "    </tr>\n",
       "  </tbody>\n",
       "</table>\n",
       "</div>"
      ],
      "text/plain": [
       "       0  1    2\n",
       "mouse  1  2  3.0\n",
       "cat    2  3  NaN"
      ]
     },
     "execution_count": 60,
     "metadata": {},
     "output_type": "execute_result"
    }
   ],
   "source": [
    "df"
   ]
  },
  {
   "cell_type": "code",
   "execution_count": 61,
   "metadata": {},
   "outputs": [
    {
     "data": {
      "text/html": [
       "<div>\n",
       "<style scoped>\n",
       "    .dataframe tbody tr th:only-of-type {\n",
       "        vertical-align: middle;\n",
       "    }\n",
       "\n",
       "    .dataframe tbody tr th {\n",
       "        vertical-align: top;\n",
       "    }\n",
       "\n",
       "    .dataframe thead th {\n",
       "        text-align: right;\n",
       "    }\n",
       "</style>\n",
       "<table border=\"1\" class=\"dataframe\">\n",
       "  <thead>\n",
       "    <tr style=\"text-align: right;\">\n",
       "      <th></th>\n",
       "      <th>0</th>\n",
       "      <th>1</th>\n",
       "      <th>2</th>\n",
       "    </tr>\n",
       "  </thead>\n",
       "  <tbody>\n",
       "    <tr>\n",
       "      <th>mouse</th>\n",
       "      <td>1</td>\n",
       "      <td>2</td>\n",
       "      <td>3.0</td>\n",
       "    </tr>\n",
       "  </tbody>\n",
       "</table>\n",
       "</div>"
      ],
      "text/plain": [
       "       0  1    2\n",
       "mouse  1  2  3.0"
      ]
     },
     "execution_count": 61,
     "metadata": {},
     "output_type": "execute_result"
    }
   ],
   "source": [
    "df.filter(like='ouse', axis=0)"
   ]
  },
  {
   "cell_type": "code",
   "execution_count": 62,
   "metadata": {},
   "outputs": [
    {
     "data": {
      "text/html": [
       "<div>\n",
       "<style scoped>\n",
       "    .dataframe tbody tr th:only-of-type {\n",
       "        vertical-align: middle;\n",
       "    }\n",
       "\n",
       "    .dataframe tbody tr th {\n",
       "        vertical-align: top;\n",
       "    }\n",
       "\n",
       "    .dataframe thead th {\n",
       "        text-align: right;\n",
       "    }\n",
       "</style>\n",
       "<table border=\"1\" class=\"dataframe\">\n",
       "  <thead>\n",
       "    <tr style=\"text-align: right;\">\n",
       "      <th></th>\n",
       "      <th>0</th>\n",
       "      <th>1</th>\n",
       "      <th>2</th>\n",
       "    </tr>\n",
       "  </thead>\n",
       "  <tbody>\n",
       "    <tr>\n",
       "      <th>cat</th>\n",
       "      <td>2</td>\n",
       "      <td>3</td>\n",
       "      <td>NaN</td>\n",
       "    </tr>\n",
       "  </tbody>\n",
       "</table>\n",
       "</div>"
      ],
      "text/plain": [
       "     0  1   2\n",
       "cat  2  3 NaN"
      ]
     },
     "execution_count": 62,
     "metadata": {},
     "output_type": "execute_result"
    }
   ],
   "source": [
    "df.filter(like='a', axis=0)"
   ]
  },
  {
   "cell_type": "code",
   "execution_count": 63,
   "metadata": {},
   "outputs": [
    {
     "data": {
      "text/html": [
       "<div>\n",
       "<style scoped>\n",
       "    .dataframe tbody tr th:only-of-type {\n",
       "        vertical-align: middle;\n",
       "    }\n",
       "\n",
       "    .dataframe tbody tr th {\n",
       "        vertical-align: top;\n",
       "    }\n",
       "\n",
       "    .dataframe thead th {\n",
       "        text-align: right;\n",
       "    }\n",
       "</style>\n",
       "<table border=\"1\" class=\"dataframe\">\n",
       "  <thead>\n",
       "    <tr style=\"text-align: right;\">\n",
       "      <th></th>\n",
       "      <th>0</th>\n",
       "      <th>1</th>\n",
       "      <th>2</th>\n",
       "    </tr>\n",
       "  </thead>\n",
       "  <tbody>\n",
       "    <tr>\n",
       "      <th>mouse</th>\n",
       "      <td>1</td>\n",
       "      <td>2</td>\n",
       "      <td>3.0</td>\n",
       "    </tr>\n",
       "  </tbody>\n",
       "</table>\n",
       "</div>"
      ],
      "text/plain": [
       "       0  1    2\n",
       "mouse  1  2  3.0"
      ]
     },
     "execution_count": 63,
     "metadata": {},
     "output_type": "execute_result"
    }
   ],
   "source": [
    "# Same as : \n",
    "\n",
    "df.loc[df.index.str.contains('ouse')]"
   ]
  },
  {
   "cell_type": "code",
   "execution_count": 64,
   "metadata": {},
   "outputs": [
    {
     "data": {
      "text/html": [
       "<div>\n",
       "<style scoped>\n",
       "    .dataframe tbody tr th:only-of-type {\n",
       "        vertical-align: middle;\n",
       "    }\n",
       "\n",
       "    .dataframe tbody tr th {\n",
       "        vertical-align: top;\n",
       "    }\n",
       "\n",
       "    .dataframe thead th {\n",
       "        text-align: right;\n",
       "    }\n",
       "</style>\n",
       "<table border=\"1\" class=\"dataframe\">\n",
       "  <thead>\n",
       "    <tr style=\"text-align: right;\">\n",
       "      <th></th>\n",
       "      <th>0</th>\n",
       "      <th>2</th>\n",
       "    </tr>\n",
       "  </thead>\n",
       "  <tbody>\n",
       "    <tr>\n",
       "      <th>mouse</th>\n",
       "      <td>1</td>\n",
       "      <td>3.0</td>\n",
       "    </tr>\n",
       "    <tr>\n",
       "      <th>cat</th>\n",
       "      <td>2</td>\n",
       "      <td>NaN</td>\n",
       "    </tr>\n",
       "  </tbody>\n",
       "</table>\n",
       "</div>"
      ],
      "text/plain": [
       "       0    2\n",
       "mouse  1  3.0\n",
       "cat    2  NaN"
      ]
     },
     "execution_count": 64,
     "metadata": {},
     "output_type": "execute_result"
    }
   ],
   "source": [
    "df.filter(items=[0,2])"
   ]
  },
  {
   "cell_type": "markdown",
   "metadata": {},
   "source": [
    "## Reduce"
   ]
  },
  {
   "cell_type": "code",
   "execution_count": 65,
   "metadata": {},
   "outputs": [],
   "source": [
    "def func(a,b): return a+b"
   ]
  },
  {
   "cell_type": "code",
   "execution_count": 66,
   "metadata": {},
   "outputs": [],
   "source": [
    "from functools import reduce"
   ]
  },
  {
   "cell_type": "code",
   "execution_count": 67,
   "metadata": {},
   "outputs": [
    {
     "data": {
      "text/plain": [
       "[10, 23, 445, 34]"
      ]
     },
     "execution_count": 67,
     "metadata": {},
     "output_type": "execute_result"
    }
   ],
   "source": [
    "l"
   ]
  },
  {
   "cell_type": "code",
   "execution_count": 68,
   "metadata": {},
   "outputs": [
    {
     "data": {
      "text/plain": [
       "512"
      ]
     },
     "execution_count": 68,
     "metadata": {},
     "output_type": "execute_result"
    }
   ],
   "source": [
    "reduce(func,l)"
   ]
  },
  {
   "cell_type": "code",
   "execution_count": 69,
   "metadata": {},
   "outputs": [
    {
     "data": {
      "text/plain": [
       "512"
      ]
     },
     "execution_count": 69,
     "metadata": {},
     "output_type": "execute_result"
    }
   ],
   "source": [
    "sum(l)"
   ]
  },
  {
   "cell_type": "code",
   "execution_count": 70,
   "metadata": {},
   "outputs": [],
   "source": [
    "def func(a,b):\n",
    "    return a if a>b else b"
   ]
  },
  {
   "cell_type": "code",
   "execution_count": 71,
   "metadata": {},
   "outputs": [
    {
     "data": {
      "text/plain": [
       "445"
      ]
     },
     "execution_count": 71,
     "metadata": {},
     "output_type": "execute_result"
    }
   ],
   "source": [
    "reduce(func,l)"
   ]
  },
  {
   "cell_type": "markdown",
   "metadata": {},
   "source": [
    "# 4 MAAM - Map, Apply, ApplyMap"
   ]
  },
  {
   "cell_type": "code",
   "execution_count": 73,
   "metadata": {},
   "outputs": [],
   "source": [
    "df=pd.read_csv('https://ironhack.school/asset-v1:IRONHACK+DAFT+201910_PAR+type@asset+block@IMDB-Movie-Data.csv')"
   ]
  },
  {
   "cell_type": "code",
   "execution_count": 74,
   "metadata": {},
   "outputs": [
    {
     "data": {
      "text/html": [
       "<div>\n",
       "<style scoped>\n",
       "    .dataframe tbody tr th:only-of-type {\n",
       "        vertical-align: middle;\n",
       "    }\n",
       "\n",
       "    .dataframe tbody tr th {\n",
       "        vertical-align: top;\n",
       "    }\n",
       "\n",
       "    .dataframe thead th {\n",
       "        text-align: right;\n",
       "    }\n",
       "</style>\n",
       "<table border=\"1\" class=\"dataframe\">\n",
       "  <thead>\n",
       "    <tr style=\"text-align: right;\">\n",
       "      <th></th>\n",
       "      <th>Rank</th>\n",
       "      <th>Title</th>\n",
       "      <th>Genre</th>\n",
       "      <th>Description</th>\n",
       "      <th>Director</th>\n",
       "      <th>Actors</th>\n",
       "      <th>Year</th>\n",
       "      <th>Runtime (Minutes)</th>\n",
       "      <th>Rating</th>\n",
       "      <th>Votes</th>\n",
       "      <th>Revenue (Millions)</th>\n",
       "      <th>Metascore</th>\n",
       "    </tr>\n",
       "  </thead>\n",
       "  <tbody>\n",
       "    <tr>\n",
       "      <th>0</th>\n",
       "      <td>1</td>\n",
       "      <td>Guardians of the Galaxy</td>\n",
       "      <td>Action,Adventure,Sci-Fi</td>\n",
       "      <td>A group of intergalactic criminals are forced ...</td>\n",
       "      <td>James Gunn</td>\n",
       "      <td>Chris Pratt, Vin Diesel, Bradley Cooper, Zoe S...</td>\n",
       "      <td>2014</td>\n",
       "      <td>121</td>\n",
       "      <td>8.1</td>\n",
       "      <td>757074</td>\n",
       "      <td>333.13</td>\n",
       "      <td>76.0</td>\n",
       "    </tr>\n",
       "    <tr>\n",
       "      <th>1</th>\n",
       "      <td>2</td>\n",
       "      <td>Prometheus</td>\n",
       "      <td>Adventure,Mystery,Sci-Fi</td>\n",
       "      <td>Following clues to the origin of mankind, a te...</td>\n",
       "      <td>Ridley Scott</td>\n",
       "      <td>Noomi Rapace, Logan Marshall-Green, Michael Fa...</td>\n",
       "      <td>2012</td>\n",
       "      <td>124</td>\n",
       "      <td>7.0</td>\n",
       "      <td>485820</td>\n",
       "      <td>126.46</td>\n",
       "      <td>65.0</td>\n",
       "    </tr>\n",
       "    <tr>\n",
       "      <th>2</th>\n",
       "      <td>3</td>\n",
       "      <td>Split</td>\n",
       "      <td>Horror,Thriller</td>\n",
       "      <td>Three girls are kidnapped by a man with a diag...</td>\n",
       "      <td>M. Night Shyamalan</td>\n",
       "      <td>James McAvoy, Anya Taylor-Joy, Haley Lu Richar...</td>\n",
       "      <td>2016</td>\n",
       "      <td>117</td>\n",
       "      <td>7.3</td>\n",
       "      <td>157606</td>\n",
       "      <td>138.12</td>\n",
       "      <td>62.0</td>\n",
       "    </tr>\n",
       "    <tr>\n",
       "      <th>3</th>\n",
       "      <td>4</td>\n",
       "      <td>Sing</td>\n",
       "      <td>Animation,Comedy,Family</td>\n",
       "      <td>In a city of humanoid animals, a hustling thea...</td>\n",
       "      <td>Christophe Lourdelet</td>\n",
       "      <td>Matthew McConaughey,Reese Witherspoon, Seth Ma...</td>\n",
       "      <td>2016</td>\n",
       "      <td>108</td>\n",
       "      <td>7.2</td>\n",
       "      <td>60545</td>\n",
       "      <td>270.32</td>\n",
       "      <td>59.0</td>\n",
       "    </tr>\n",
       "    <tr>\n",
       "      <th>4</th>\n",
       "      <td>5</td>\n",
       "      <td>Suicide Squad</td>\n",
       "      <td>Action,Adventure,Fantasy</td>\n",
       "      <td>A secret government agency recruits some of th...</td>\n",
       "      <td>David Ayer</td>\n",
       "      <td>Will Smith, Jared Leto, Margot Robbie, Viola D...</td>\n",
       "      <td>2016</td>\n",
       "      <td>123</td>\n",
       "      <td>6.2</td>\n",
       "      <td>393727</td>\n",
       "      <td>325.02</td>\n",
       "      <td>40.0</td>\n",
       "    </tr>\n",
       "    <tr>\n",
       "      <th>...</th>\n",
       "      <td>...</td>\n",
       "      <td>...</td>\n",
       "      <td>...</td>\n",
       "      <td>...</td>\n",
       "      <td>...</td>\n",
       "      <td>...</td>\n",
       "      <td>...</td>\n",
       "      <td>...</td>\n",
       "      <td>...</td>\n",
       "      <td>...</td>\n",
       "      <td>...</td>\n",
       "      <td>...</td>\n",
       "    </tr>\n",
       "    <tr>\n",
       "      <th>995</th>\n",
       "      <td>996</td>\n",
       "      <td>Secret in Their Eyes</td>\n",
       "      <td>Crime,Drama,Mystery</td>\n",
       "      <td>A tight-knit team of rising investigators, alo...</td>\n",
       "      <td>Billy Ray</td>\n",
       "      <td>Chiwetel Ejiofor, Nicole Kidman, Julia Roberts...</td>\n",
       "      <td>2015</td>\n",
       "      <td>111</td>\n",
       "      <td>6.2</td>\n",
       "      <td>27585</td>\n",
       "      <td>NaN</td>\n",
       "      <td>45.0</td>\n",
       "    </tr>\n",
       "    <tr>\n",
       "      <th>996</th>\n",
       "      <td>997</td>\n",
       "      <td>Hostel: Part II</td>\n",
       "      <td>Horror</td>\n",
       "      <td>Three American college students studying abroa...</td>\n",
       "      <td>Eli Roth</td>\n",
       "      <td>Lauren German, Heather Matarazzo, Bijou Philli...</td>\n",
       "      <td>2007</td>\n",
       "      <td>94</td>\n",
       "      <td>5.5</td>\n",
       "      <td>73152</td>\n",
       "      <td>17.54</td>\n",
       "      <td>46.0</td>\n",
       "    </tr>\n",
       "    <tr>\n",
       "      <th>997</th>\n",
       "      <td>998</td>\n",
       "      <td>Step Up 2: The Streets</td>\n",
       "      <td>Drama,Music,Romance</td>\n",
       "      <td>Romantic sparks occur between two dance studen...</td>\n",
       "      <td>Jon M. Chu</td>\n",
       "      <td>Robert Hoffman, Briana Evigan, Cassie Ventura,...</td>\n",
       "      <td>2008</td>\n",
       "      <td>98</td>\n",
       "      <td>6.2</td>\n",
       "      <td>70699</td>\n",
       "      <td>58.01</td>\n",
       "      <td>50.0</td>\n",
       "    </tr>\n",
       "    <tr>\n",
       "      <th>998</th>\n",
       "      <td>999</td>\n",
       "      <td>Search Party</td>\n",
       "      <td>Adventure,Comedy</td>\n",
       "      <td>A pair of friends embark on a mission to reuni...</td>\n",
       "      <td>Scot Armstrong</td>\n",
       "      <td>Adam Pally, T.J. Miller, Thomas Middleditch,Sh...</td>\n",
       "      <td>2014</td>\n",
       "      <td>93</td>\n",
       "      <td>5.6</td>\n",
       "      <td>4881</td>\n",
       "      <td>NaN</td>\n",
       "      <td>22.0</td>\n",
       "    </tr>\n",
       "    <tr>\n",
       "      <th>999</th>\n",
       "      <td>1000</td>\n",
       "      <td>Nine Lives</td>\n",
       "      <td>Comedy,Family,Fantasy</td>\n",
       "      <td>A stuffy businessman finds himself trapped ins...</td>\n",
       "      <td>Barry Sonnenfeld</td>\n",
       "      <td>Kevin Spacey, Jennifer Garner, Robbie Amell,Ch...</td>\n",
       "      <td>2016</td>\n",
       "      <td>87</td>\n",
       "      <td>5.3</td>\n",
       "      <td>12435</td>\n",
       "      <td>19.64</td>\n",
       "      <td>11.0</td>\n",
       "    </tr>\n",
       "  </tbody>\n",
       "</table>\n",
       "<p>1000 rows × 12 columns</p>\n",
       "</div>"
      ],
      "text/plain": [
       "     Rank                    Title                     Genre  \\\n",
       "0       1  Guardians of the Galaxy   Action,Adventure,Sci-Fi   \n",
       "1       2               Prometheus  Adventure,Mystery,Sci-Fi   \n",
       "2       3                    Split           Horror,Thriller   \n",
       "3       4                     Sing   Animation,Comedy,Family   \n",
       "4       5            Suicide Squad  Action,Adventure,Fantasy   \n",
       "..    ...                      ...                       ...   \n",
       "995   996     Secret in Their Eyes       Crime,Drama,Mystery   \n",
       "996   997          Hostel: Part II                    Horror   \n",
       "997   998   Step Up 2: The Streets       Drama,Music,Romance   \n",
       "998   999             Search Party          Adventure,Comedy   \n",
       "999  1000               Nine Lives     Comedy,Family,Fantasy   \n",
       "\n",
       "                                           Description              Director  \\\n",
       "0    A group of intergalactic criminals are forced ...            James Gunn   \n",
       "1    Following clues to the origin of mankind, a te...          Ridley Scott   \n",
       "2    Three girls are kidnapped by a man with a diag...    M. Night Shyamalan   \n",
       "3    In a city of humanoid animals, a hustling thea...  Christophe Lourdelet   \n",
       "4    A secret government agency recruits some of th...            David Ayer   \n",
       "..                                                 ...                   ...   \n",
       "995  A tight-knit team of rising investigators, alo...             Billy Ray   \n",
       "996  Three American college students studying abroa...              Eli Roth   \n",
       "997  Romantic sparks occur between two dance studen...            Jon M. Chu   \n",
       "998  A pair of friends embark on a mission to reuni...        Scot Armstrong   \n",
       "999  A stuffy businessman finds himself trapped ins...      Barry Sonnenfeld   \n",
       "\n",
       "                                                Actors  Year  \\\n",
       "0    Chris Pratt, Vin Diesel, Bradley Cooper, Zoe S...  2014   \n",
       "1    Noomi Rapace, Logan Marshall-Green, Michael Fa...  2012   \n",
       "2    James McAvoy, Anya Taylor-Joy, Haley Lu Richar...  2016   \n",
       "3    Matthew McConaughey,Reese Witherspoon, Seth Ma...  2016   \n",
       "4    Will Smith, Jared Leto, Margot Robbie, Viola D...  2016   \n",
       "..                                                 ...   ...   \n",
       "995  Chiwetel Ejiofor, Nicole Kidman, Julia Roberts...  2015   \n",
       "996  Lauren German, Heather Matarazzo, Bijou Philli...  2007   \n",
       "997  Robert Hoffman, Briana Evigan, Cassie Ventura,...  2008   \n",
       "998  Adam Pally, T.J. Miller, Thomas Middleditch,Sh...  2014   \n",
       "999  Kevin Spacey, Jennifer Garner, Robbie Amell,Ch...  2016   \n",
       "\n",
       "     Runtime (Minutes)  Rating   Votes  Revenue (Millions)  Metascore  \n",
       "0                  121     8.1  757074              333.13       76.0  \n",
       "1                  124     7.0  485820              126.46       65.0  \n",
       "2                  117     7.3  157606              138.12       62.0  \n",
       "3                  108     7.2   60545              270.32       59.0  \n",
       "4                  123     6.2  393727              325.02       40.0  \n",
       "..                 ...     ...     ...                 ...        ...  \n",
       "995                111     6.2   27585                 NaN       45.0  \n",
       "996                 94     5.5   73152               17.54       46.0  \n",
       "997                 98     6.2   70699               58.01       50.0  \n",
       "998                 93     5.6    4881                 NaN       22.0  \n",
       "999                 87     5.3   12435               19.64       11.0  \n",
       "\n",
       "[1000 rows x 12 columns]"
      ]
     },
     "execution_count": 74,
     "metadata": {},
     "output_type": "execute_result"
    }
   ],
   "source": [
    "df"
   ]
  },
  {
   "cell_type": "code",
   "execution_count": 75,
   "metadata": {},
   "outputs": [
    {
     "data": {
      "text/plain": [
       "9.0"
      ]
     },
     "execution_count": 75,
     "metadata": {},
     "output_type": "execute_result"
    }
   ],
   "source": [
    "df.Rating.max()"
   ]
  },
  {
   "cell_type": "code",
   "execution_count": 76,
   "metadata": {},
   "outputs": [
    {
     "data": {
      "text/plain": [
       "1.9"
      ]
     },
     "execution_count": 76,
     "metadata": {},
     "output_type": "execute_result"
    }
   ],
   "source": [
    "df.Rating.min()"
   ]
  },
  {
   "cell_type": "code",
   "execution_count": 77,
   "metadata": {},
   "outputs": [
    {
     "data": {
      "text/plain": [
       "0      4.05\n",
       "1      3.50\n",
       "2      3.65\n",
       "3      3.60\n",
       "4      3.10\n",
       "       ... \n",
       "995    3.10\n",
       "996    2.75\n",
       "997    3.10\n",
       "998    2.80\n",
       "999    2.65\n",
       "Name: Rating, Length: 1000, dtype: float64"
      ]
     },
     "execution_count": 77,
     "metadata": {},
     "output_type": "execute_result"
    }
   ],
   "source": [
    "df.Rating/2"
   ]
  },
  {
   "cell_type": "code",
   "execution_count": 78,
   "metadata": {},
   "outputs": [
    {
     "data": {
      "text/plain": [
       "0      4.05\n",
       "1      3.50\n",
       "2      3.65\n",
       "3      3.60\n",
       "4      3.10\n",
       "       ... \n",
       "995    3.10\n",
       "996    2.75\n",
       "997    3.10\n",
       "998    2.80\n",
       "999    2.65\n",
       "Name: Rating, Length: 1000, dtype: float64"
      ]
     },
     "execution_count": 78,
     "metadata": {},
     "output_type": "execute_result"
    }
   ],
   "source": [
    "df.Rating.map(lambda x: x/2)"
   ]
  },
  {
   "cell_type": "code",
   "execution_count": 79,
   "metadata": {},
   "outputs": [],
   "source": [
    "def column_range(x):\n",
    "    return x.max()-x.min()"
   ]
  },
  {
   "cell_type": "code",
   "execution_count": 80,
   "metadata": {},
   "outputs": [
    {
     "ename": "AttributeError",
     "evalue": "'float' object has no attribute 'max'",
     "output_type": "error",
     "traceback": [
      "\u001b[0;31m---------------------------------------------------------------------------\u001b[0m",
      "\u001b[0;31mAttributeError\u001b[0m                            Traceback (most recent call last)",
      "\u001b[0;32m<ipython-input-80-9c93995c4a7d>\u001b[0m in \u001b[0;36m<module>\u001b[0;34m\u001b[0m\n\u001b[0;32m----> 1\u001b[0;31m \u001b[0mdf\u001b[0m\u001b[0;34m.\u001b[0m\u001b[0mRating\u001b[0m\u001b[0;34m.\u001b[0m\u001b[0mmap\u001b[0m\u001b[0;34m(\u001b[0m\u001b[0mcolumn_range\u001b[0m\u001b[0;34m)\u001b[0m\u001b[0;34m\u001b[0m\u001b[0;34m\u001b[0m\u001b[0m\n\u001b[0m",
      "\u001b[0;32m/usr/local/Cellar/jupyterlab/2.2.0/libexec/lib/python3.8/site-packages/pandas/core/series.py\u001b[0m in \u001b[0;36mmap\u001b[0;34m(self, arg, na_action)\u001b[0m\n\u001b[1;32m   3968\u001b[0m         \u001b[0mdtype\u001b[0m\u001b[0;34m:\u001b[0m \u001b[0mobject\u001b[0m\u001b[0;34m\u001b[0m\u001b[0;34m\u001b[0m\u001b[0m\n\u001b[1;32m   3969\u001b[0m         \"\"\"\n\u001b[0;32m-> 3970\u001b[0;31m         \u001b[0mnew_values\u001b[0m \u001b[0;34m=\u001b[0m \u001b[0msuper\u001b[0m\u001b[0;34m(\u001b[0m\u001b[0;34m)\u001b[0m\u001b[0;34m.\u001b[0m\u001b[0m_map_values\u001b[0m\u001b[0;34m(\u001b[0m\u001b[0marg\u001b[0m\u001b[0;34m,\u001b[0m \u001b[0mna_action\u001b[0m\u001b[0;34m=\u001b[0m\u001b[0mna_action\u001b[0m\u001b[0;34m)\u001b[0m\u001b[0;34m\u001b[0m\u001b[0;34m\u001b[0m\u001b[0m\n\u001b[0m\u001b[1;32m   3971\u001b[0m         return self._constructor(new_values, index=self.index).__finalize__(\n\u001b[1;32m   3972\u001b[0m             \u001b[0mself\u001b[0m\u001b[0;34m,\u001b[0m \u001b[0mmethod\u001b[0m\u001b[0;34m=\u001b[0m\u001b[0;34m\"map\"\u001b[0m\u001b[0;34m\u001b[0m\u001b[0;34m\u001b[0m\u001b[0m\n",
      "\u001b[0;32m/usr/local/Cellar/jupyterlab/2.2.0/libexec/lib/python3.8/site-packages/pandas/core/base.py\u001b[0m in \u001b[0;36m_map_values\u001b[0;34m(self, mapper, na_action)\u001b[0m\n\u001b[1;32m   1158\u001b[0m \u001b[0;34m\u001b[0m\u001b[0m\n\u001b[1;32m   1159\u001b[0m         \u001b[0;31m# mapper is a function\u001b[0m\u001b[0;34m\u001b[0m\u001b[0;34m\u001b[0m\u001b[0;34m\u001b[0m\u001b[0m\n\u001b[0;32m-> 1160\u001b[0;31m         \u001b[0mnew_values\u001b[0m \u001b[0;34m=\u001b[0m \u001b[0mmap_f\u001b[0m\u001b[0;34m(\u001b[0m\u001b[0mvalues\u001b[0m\u001b[0;34m,\u001b[0m \u001b[0mmapper\u001b[0m\u001b[0;34m)\u001b[0m\u001b[0;34m\u001b[0m\u001b[0;34m\u001b[0m\u001b[0m\n\u001b[0m\u001b[1;32m   1161\u001b[0m \u001b[0;34m\u001b[0m\u001b[0m\n\u001b[1;32m   1162\u001b[0m         \u001b[0;32mreturn\u001b[0m \u001b[0mnew_values\u001b[0m\u001b[0;34m\u001b[0m\u001b[0;34m\u001b[0m\u001b[0m\n",
      "\u001b[0;32mpandas/_libs/lib.pyx\u001b[0m in \u001b[0;36mpandas._libs.lib.map_infer\u001b[0;34m()\u001b[0m\n",
      "\u001b[0;32m<ipython-input-79-ed08c0a0d72d>\u001b[0m in \u001b[0;36mcolumn_range\u001b[0;34m(x)\u001b[0m\n\u001b[1;32m      1\u001b[0m \u001b[0;32mdef\u001b[0m \u001b[0mcolumn_range\u001b[0m\u001b[0;34m(\u001b[0m\u001b[0mx\u001b[0m\u001b[0;34m)\u001b[0m\u001b[0;34m:\u001b[0m\u001b[0;34m\u001b[0m\u001b[0;34m\u001b[0m\u001b[0m\n\u001b[0;32m----> 2\u001b[0;31m     \u001b[0;32mreturn\u001b[0m \u001b[0mx\u001b[0m\u001b[0;34m.\u001b[0m\u001b[0mmax\u001b[0m\u001b[0;34m(\u001b[0m\u001b[0;34m)\u001b[0m\u001b[0;34m-\u001b[0m\u001b[0mx\u001b[0m\u001b[0;34m.\u001b[0m\u001b[0mmin\u001b[0m\u001b[0;34m(\u001b[0m\u001b[0;34m)\u001b[0m\u001b[0;34m\u001b[0m\u001b[0;34m\u001b[0m\u001b[0m\n\u001b[0m",
      "\u001b[0;31mAttributeError\u001b[0m: 'float' object has no attribute 'max'"
     ]
    }
   ],
   "source": [
    "df.Rating.map(column_range)"
   ]
  },
  {
   "cell_type": "code",
   "execution_count": 81,
   "metadata": {},
   "outputs": [
    {
     "data": {
      "text/plain": [
       "Rating    7.1\n",
       "dtype: float64"
      ]
     },
     "execution_count": 81,
     "metadata": {},
     "output_type": "execute_result"
    }
   ],
   "source": [
    "df[['Rating']].apply(column_range)"
   ]
  },
  {
   "cell_type": "code",
   "execution_count": 84,
   "metadata": {},
   "outputs": [
    {
     "data": {
      "text/plain": [
       "Rating                 7.1\n",
       "Runtime (Minutes)    125.0\n",
       "dtype: float64"
      ]
     },
     "execution_count": 84,
     "metadata": {},
     "output_type": "execute_result"
    }
   ],
   "source": [
    "df[['Rating','Runtime (Minutes)']].apply(column_range)"
   ]
  },
  {
   "cell_type": "code",
   "execution_count": 89,
   "metadata": {},
   "outputs": [],
   "source": [
    "def column_range(x):\n",
    "    return x.max()-x.min() if type(x[0]) in (int,float) else len(x)"
   ]
  },
  {
   "cell_type": "code",
   "execution_count": 90,
   "metadata": {},
   "outputs": [
    {
     "data": {
      "text/plain": [
       "Rank                  1000\n",
       "Title                 1000\n",
       "Genre                 1000\n",
       "Description           1000\n",
       "Director              1000\n",
       "Actors                1000\n",
       "Year                  1000\n",
       "Runtime (Minutes)     1000\n",
       "Rating                1000\n",
       "Votes                 1000\n",
       "Revenue (Millions)    1000\n",
       "Metascore             1000\n",
       "dtype: int64"
      ]
     },
     "execution_count": 90,
     "metadata": {},
     "output_type": "execute_result"
    }
   ],
   "source": [
    "df.apply(column_range)"
   ]
  },
  {
   "cell_type": "markdown",
   "metadata": {},
   "source": [
    "# All above + lambda"
   ]
  },
  {
   "cell_type": "code",
   "execution_count": 92,
   "metadata": {},
   "outputs": [
    {
     "data": {
      "text/html": [
       "<div>\n",
       "<style scoped>\n",
       "    .dataframe tbody tr th:only-of-type {\n",
       "        vertical-align: middle;\n",
       "    }\n",
       "\n",
       "    .dataframe tbody tr th {\n",
       "        vertical-align: top;\n",
       "    }\n",
       "\n",
       "    .dataframe thead th {\n",
       "        text-align: right;\n",
       "    }\n",
       "</style>\n",
       "<table border=\"1\" class=\"dataframe\">\n",
       "  <thead>\n",
       "    <tr style=\"text-align: right;\">\n",
       "      <th></th>\n",
       "      <th>Rank</th>\n",
       "      <th>Title</th>\n",
       "      <th>Genre</th>\n",
       "      <th>Description</th>\n",
       "      <th>Director</th>\n",
       "      <th>Actors</th>\n",
       "      <th>Year</th>\n",
       "      <th>Runtime (Minutes)</th>\n",
       "      <th>Rating</th>\n",
       "      <th>Votes</th>\n",
       "      <th>Revenue (Millions)</th>\n",
       "      <th>Metascore</th>\n",
       "    </tr>\n",
       "  </thead>\n",
       "  <tbody>\n",
       "    <tr>\n",
       "      <th>0</th>\n",
       "      <td>1</td>\n",
       "      <td>Guardians of the Galaxy</td>\n",
       "      <td>Action,Adventure,Sci-Fi</td>\n",
       "      <td>A group of intergalactic criminals are forced ...</td>\n",
       "      <td>James Gunn</td>\n",
       "      <td>Chris Pratt, Vin Diesel, Bradley Cooper, Zoe S...</td>\n",
       "      <td>2014</td>\n",
       "      <td>121</td>\n",
       "      <td>8.1</td>\n",
       "      <td>757074</td>\n",
       "      <td>333.13</td>\n",
       "      <td>76.0</td>\n",
       "    </tr>\n",
       "    <tr>\n",
       "      <th>4</th>\n",
       "      <td>5</td>\n",
       "      <td>Suicide Squad</td>\n",
       "      <td>Action,Adventure,Fantasy</td>\n",
       "      <td>A secret government agency recruits some of th...</td>\n",
       "      <td>David Ayer</td>\n",
       "      <td>Will Smith, Jared Leto, Margot Robbie, Viola D...</td>\n",
       "      <td>2016</td>\n",
       "      <td>123</td>\n",
       "      <td>6.2</td>\n",
       "      <td>393727</td>\n",
       "      <td>325.02</td>\n",
       "      <td>40.0</td>\n",
       "    </tr>\n",
       "    <tr>\n",
       "      <th>5</th>\n",
       "      <td>6</td>\n",
       "      <td>The Great Wall</td>\n",
       "      <td>Action,Adventure,Fantasy</td>\n",
       "      <td>European mercenaries searching for black powde...</td>\n",
       "      <td>Yimou Zhang</td>\n",
       "      <td>Matt Damon, Tian Jing, Willem Dafoe, Andy Lau</td>\n",
       "      <td>2016</td>\n",
       "      <td>103</td>\n",
       "      <td>6.1</td>\n",
       "      <td>56036</td>\n",
       "      <td>45.13</td>\n",
       "      <td>42.0</td>\n",
       "    </tr>\n",
       "    <tr>\n",
       "      <th>8</th>\n",
       "      <td>9</td>\n",
       "      <td>The Lost City of Z</td>\n",
       "      <td>Action,Adventure,Biography</td>\n",
       "      <td>A true-life drama, centering on British explor...</td>\n",
       "      <td>James Gray</td>\n",
       "      <td>Charlie Hunnam, Robert Pattinson, Sienna Mille...</td>\n",
       "      <td>2016</td>\n",
       "      <td>141</td>\n",
       "      <td>7.1</td>\n",
       "      <td>7188</td>\n",
       "      <td>8.01</td>\n",
       "      <td>78.0</td>\n",
       "    </tr>\n",
       "    <tr>\n",
       "      <th>12</th>\n",
       "      <td>13</td>\n",
       "      <td>Rogue One</td>\n",
       "      <td>Action,Adventure,Sci-Fi</td>\n",
       "      <td>The Rebel Alliance makes a risky move to steal...</td>\n",
       "      <td>Gareth Edwards</td>\n",
       "      <td>Felicity Jones, Diego Luna, Alan Tudyk, Donnie...</td>\n",
       "      <td>2016</td>\n",
       "      <td>133</td>\n",
       "      <td>7.9</td>\n",
       "      <td>323118</td>\n",
       "      <td>532.17</td>\n",
       "      <td>65.0</td>\n",
       "    </tr>\n",
       "  </tbody>\n",
       "</table>\n",
       "</div>"
      ],
      "text/plain": [
       "    Rank                    Title                       Genre  \\\n",
       "0      1  Guardians of the Galaxy     Action,Adventure,Sci-Fi   \n",
       "4      5            Suicide Squad    Action,Adventure,Fantasy   \n",
       "5      6           The Great Wall    Action,Adventure,Fantasy   \n",
       "8      9       The Lost City of Z  Action,Adventure,Biography   \n",
       "12    13                Rogue One     Action,Adventure,Sci-Fi   \n",
       "\n",
       "                                          Description        Director  \\\n",
       "0   A group of intergalactic criminals are forced ...      James Gunn   \n",
       "4   A secret government agency recruits some of th...      David Ayer   \n",
       "5   European mercenaries searching for black powde...     Yimou Zhang   \n",
       "8   A true-life drama, centering on British explor...      James Gray   \n",
       "12  The Rebel Alliance makes a risky move to steal...  Gareth Edwards   \n",
       "\n",
       "                                               Actors  Year  \\\n",
       "0   Chris Pratt, Vin Diesel, Bradley Cooper, Zoe S...  2014   \n",
       "4   Will Smith, Jared Leto, Margot Robbie, Viola D...  2016   \n",
       "5       Matt Damon, Tian Jing, Willem Dafoe, Andy Lau  2016   \n",
       "8   Charlie Hunnam, Robert Pattinson, Sienna Mille...  2016   \n",
       "12  Felicity Jones, Diego Luna, Alan Tudyk, Donnie...  2016   \n",
       "\n",
       "    Runtime (Minutes)  Rating   Votes  Revenue (Millions)  Metascore  \n",
       "0                 121     8.1  757074              333.13       76.0  \n",
       "4                 123     6.2  393727              325.02       40.0  \n",
       "5                 103     6.1   56036               45.13       42.0  \n",
       "8                 141     7.1    7188                8.01       78.0  \n",
       "12                133     7.9  323118              532.17       65.0  "
      ]
     },
     "execution_count": 92,
     "metadata": {},
     "output_type": "execute_result"
    }
   ],
   "source": [
    "df[df.Genre.str.lower().str.contains('action')].head()"
   ]
  },
  {
   "cell_type": "code",
   "execution_count": 93,
   "metadata": {},
   "outputs": [
    {
     "data": {
      "text/html": [
       "<div>\n",
       "<style scoped>\n",
       "    .dataframe tbody tr th:only-of-type {\n",
       "        vertical-align: middle;\n",
       "    }\n",
       "\n",
       "    .dataframe tbody tr th {\n",
       "        vertical-align: top;\n",
       "    }\n",
       "\n",
       "    .dataframe thead th {\n",
       "        text-align: right;\n",
       "    }\n",
       "</style>\n",
       "<table border=\"1\" class=\"dataframe\">\n",
       "  <thead>\n",
       "    <tr style=\"text-align: right;\">\n",
       "      <th></th>\n",
       "      <th>Rank</th>\n",
       "      <th>Title</th>\n",
       "      <th>Genre</th>\n",
       "      <th>Description</th>\n",
       "      <th>Director</th>\n",
       "      <th>Actors</th>\n",
       "      <th>Year</th>\n",
       "      <th>Runtime (Minutes)</th>\n",
       "      <th>Rating</th>\n",
       "      <th>Votes</th>\n",
       "      <th>Revenue (Millions)</th>\n",
       "      <th>Metascore</th>\n",
       "    </tr>\n",
       "  </thead>\n",
       "  <tbody>\n",
       "    <tr>\n",
       "      <th>0</th>\n",
       "      <td>1</td>\n",
       "      <td>Guardians of the Galaxy</td>\n",
       "      <td>Action,Adventure,Sci-Fi</td>\n",
       "      <td>A group of intergalactic criminals are forced ...</td>\n",
       "      <td>James Gunn</td>\n",
       "      <td>Chris Pratt, Vin Diesel, Bradley Cooper, Zoe S...</td>\n",
       "      <td>2014</td>\n",
       "      <td>121</td>\n",
       "      <td>8.1</td>\n",
       "      <td>757074</td>\n",
       "      <td>333.13</td>\n",
       "      <td>76.0</td>\n",
       "    </tr>\n",
       "    <tr>\n",
       "      <th>8</th>\n",
       "      <td>9</td>\n",
       "      <td>The Lost City of Z</td>\n",
       "      <td>Action,Adventure,Biography</td>\n",
       "      <td>A true-life drama, centering on British explor...</td>\n",
       "      <td>James Gray</td>\n",
       "      <td>Charlie Hunnam, Robert Pattinson, Sienna Mille...</td>\n",
       "      <td>2016</td>\n",
       "      <td>141</td>\n",
       "      <td>7.1</td>\n",
       "      <td>7188</td>\n",
       "      <td>8.01</td>\n",
       "      <td>78.0</td>\n",
       "    </tr>\n",
       "    <tr>\n",
       "      <th>12</th>\n",
       "      <td>13</td>\n",
       "      <td>Rogue One</td>\n",
       "      <td>Action,Adventure,Sci-Fi</td>\n",
       "      <td>The Rebel Alliance makes a risky move to steal...</td>\n",
       "      <td>Gareth Edwards</td>\n",
       "      <td>Felicity Jones, Diego Luna, Alan Tudyk, Donnie...</td>\n",
       "      <td>2016</td>\n",
       "      <td>133</td>\n",
       "      <td>7.9</td>\n",
       "      <td>323118</td>\n",
       "      <td>532.17</td>\n",
       "      <td>65.0</td>\n",
       "    </tr>\n",
       "    <tr>\n",
       "      <th>14</th>\n",
       "      <td>15</td>\n",
       "      <td>Colossal</td>\n",
       "      <td>Action,Comedy,Drama</td>\n",
       "      <td>Gloria is an out-of-work party girl forced to ...</td>\n",
       "      <td>Nacho Vigalondo</td>\n",
       "      <td>Anne Hathaway, Jason Sudeikis, Austin Stowell,...</td>\n",
       "      <td>2016</td>\n",
       "      <td>109</td>\n",
       "      <td>6.4</td>\n",
       "      <td>8612</td>\n",
       "      <td>2.87</td>\n",
       "      <td>70.0</td>\n",
       "    </tr>\n",
       "    <tr>\n",
       "      <th>17</th>\n",
       "      <td>18</td>\n",
       "      <td>Jason Bourne</td>\n",
       "      <td>Action,Thriller</td>\n",
       "      <td>The CIA's most dangerous former operative is d...</td>\n",
       "      <td>Paul Greengrass</td>\n",
       "      <td>Matt Damon, Tommy Lee Jones, Alicia Vikander,V...</td>\n",
       "      <td>2016</td>\n",
       "      <td>123</td>\n",
       "      <td>6.7</td>\n",
       "      <td>150823</td>\n",
       "      <td>162.16</td>\n",
       "      <td>58.0</td>\n",
       "    </tr>\n",
       "    <tr>\n",
       "      <th>...</th>\n",
       "      <td>...</td>\n",
       "      <td>...</td>\n",
       "      <td>...</td>\n",
       "      <td>...</td>\n",
       "      <td>...</td>\n",
       "      <td>...</td>\n",
       "      <td>...</td>\n",
       "      <td>...</td>\n",
       "      <td>...</td>\n",
       "      <td>...</td>\n",
       "      <td>...</td>\n",
       "      <td>...</td>\n",
       "    </tr>\n",
       "    <tr>\n",
       "      <th>954</th>\n",
       "      <td>955</td>\n",
       "      <td>Death Race</td>\n",
       "      <td>Action,Sci-Fi,Thriller</td>\n",
       "      <td>Ex-con Jensen Ames is forced by the warden of ...</td>\n",
       "      <td>Paul W.S. Anderson</td>\n",
       "      <td>Jason Statham, Joan Allen, Tyrese Gibson, Ian ...</td>\n",
       "      <td>2008</td>\n",
       "      <td>105</td>\n",
       "      <td>6.4</td>\n",
       "      <td>173731</td>\n",
       "      <td>36.06</td>\n",
       "      <td>43.0</td>\n",
       "    </tr>\n",
       "    <tr>\n",
       "      <th>958</th>\n",
       "      <td>959</td>\n",
       "      <td>3 Days to Kill</td>\n",
       "      <td>Action,Drama,Thriller</td>\n",
       "      <td>A dying CIA agent trying to reconnect with his...</td>\n",
       "      <td>McG</td>\n",
       "      <td>Kevin Costner, Hailee Steinfeld, Connie Nielse...</td>\n",
       "      <td>2014</td>\n",
       "      <td>117</td>\n",
       "      <td>6.2</td>\n",
       "      <td>73567</td>\n",
       "      <td>30.69</td>\n",
       "      <td>40.0</td>\n",
       "    </tr>\n",
       "    <tr>\n",
       "      <th>968</th>\n",
       "      <td>969</td>\n",
       "      <td>Wrecker</td>\n",
       "      <td>Action,Horror,Thriller</td>\n",
       "      <td>Best friends Emily and Lesley go on a road tri...</td>\n",
       "      <td>Micheal Bafaro</td>\n",
       "      <td>Anna Hutchison, Andrea Whitburn, Jennifer Koen...</td>\n",
       "      <td>2015</td>\n",
       "      <td>83</td>\n",
       "      <td>3.5</td>\n",
       "      <td>1210</td>\n",
       "      <td>NaN</td>\n",
       "      <td>37.0</td>\n",
       "    </tr>\n",
       "    <tr>\n",
       "      <th>969</th>\n",
       "      <td>970</td>\n",
       "      <td>The Lone Ranger</td>\n",
       "      <td>Action,Adventure,Western</td>\n",
       "      <td>Native American warrior Tonto recounts the unt...</td>\n",
       "      <td>Gore Verbinski</td>\n",
       "      <td>Johnny Depp, Armie Hammer, William Fichtner,To...</td>\n",
       "      <td>2013</td>\n",
       "      <td>150</td>\n",
       "      <td>6.5</td>\n",
       "      <td>190855</td>\n",
       "      <td>89.29</td>\n",
       "      <td>NaN</td>\n",
       "    </tr>\n",
       "    <tr>\n",
       "      <th>993</th>\n",
       "      <td>994</td>\n",
       "      <td>Resident Evil: Afterlife</td>\n",
       "      <td>Action,Adventure,Horror</td>\n",
       "      <td>While still out to destroy the evil Umbrella C...</td>\n",
       "      <td>Paul W.S. Anderson</td>\n",
       "      <td>Milla Jovovich, Ali Larter, Wentworth Miller,K...</td>\n",
       "      <td>2010</td>\n",
       "      <td>97</td>\n",
       "      <td>5.9</td>\n",
       "      <td>140900</td>\n",
       "      <td>60.13</td>\n",
       "      <td>37.0</td>\n",
       "    </tr>\n",
       "  </tbody>\n",
       "</table>\n",
       "<p>263 rows × 12 columns</p>\n",
       "</div>"
      ],
      "text/plain": [
       "     Rank                     Title                       Genre  \\\n",
       "0       1   Guardians of the Galaxy     Action,Adventure,Sci-Fi   \n",
       "8       9        The Lost City of Z  Action,Adventure,Biography   \n",
       "12     13                 Rogue One     Action,Adventure,Sci-Fi   \n",
       "14     15                  Colossal         Action,Comedy,Drama   \n",
       "17     18              Jason Bourne             Action,Thriller   \n",
       "..    ...                       ...                         ...   \n",
       "954   955                Death Race      Action,Sci-Fi,Thriller   \n",
       "958   959            3 Days to Kill       Action,Drama,Thriller   \n",
       "968   969                   Wrecker      Action,Horror,Thriller   \n",
       "969   970           The Lone Ranger    Action,Adventure,Western   \n",
       "993   994  Resident Evil: Afterlife     Action,Adventure,Horror   \n",
       "\n",
       "                                           Description            Director  \\\n",
       "0    A group of intergalactic criminals are forced ...          James Gunn   \n",
       "8    A true-life drama, centering on British explor...          James Gray   \n",
       "12   The Rebel Alliance makes a risky move to steal...      Gareth Edwards   \n",
       "14   Gloria is an out-of-work party girl forced to ...     Nacho Vigalondo   \n",
       "17   The CIA's most dangerous former operative is d...     Paul Greengrass   \n",
       "..                                                 ...                 ...   \n",
       "954  Ex-con Jensen Ames is forced by the warden of ...  Paul W.S. Anderson   \n",
       "958  A dying CIA agent trying to reconnect with his...                 McG   \n",
       "968  Best friends Emily and Lesley go on a road tri...      Micheal Bafaro   \n",
       "969  Native American warrior Tonto recounts the unt...      Gore Verbinski   \n",
       "993  While still out to destroy the evil Umbrella C...  Paul W.S. Anderson   \n",
       "\n",
       "                                                Actors  Year  \\\n",
       "0    Chris Pratt, Vin Diesel, Bradley Cooper, Zoe S...  2014   \n",
       "8    Charlie Hunnam, Robert Pattinson, Sienna Mille...  2016   \n",
       "12   Felicity Jones, Diego Luna, Alan Tudyk, Donnie...  2016   \n",
       "14   Anne Hathaway, Jason Sudeikis, Austin Stowell,...  2016   \n",
       "17   Matt Damon, Tommy Lee Jones, Alicia Vikander,V...  2016   \n",
       "..                                                 ...   ...   \n",
       "954  Jason Statham, Joan Allen, Tyrese Gibson, Ian ...  2008   \n",
       "958  Kevin Costner, Hailee Steinfeld, Connie Nielse...  2014   \n",
       "968  Anna Hutchison, Andrea Whitburn, Jennifer Koen...  2015   \n",
       "969  Johnny Depp, Armie Hammer, William Fichtner,To...  2013   \n",
       "993  Milla Jovovich, Ali Larter, Wentworth Miller,K...  2010   \n",
       "\n",
       "     Runtime (Minutes)  Rating   Votes  Revenue (Millions)  Metascore  \n",
       "0                  121     8.1  757074              333.13       76.0  \n",
       "8                  141     7.1    7188                8.01       78.0  \n",
       "12                 133     7.9  323118              532.17       65.0  \n",
       "14                 109     6.4    8612                2.87       70.0  \n",
       "17                 123     6.7  150823              162.16       58.0  \n",
       "..                 ...     ...     ...                 ...        ...  \n",
       "954                105     6.4  173731               36.06       43.0  \n",
       "958                117     6.2   73567               30.69       40.0  \n",
       "968                 83     3.5    1210                 NaN       37.0  \n",
       "969                150     6.5  190855               89.29        NaN  \n",
       "993                 97     5.9  140900               60.13       37.0  \n",
       "\n",
       "[263 rows x 12 columns]"
      ]
     },
     "execution_count": 93,
     "metadata": {},
     "output_type": "execute_result"
    }
   ],
   "source": [
    "df[(df.Genre.str.lower().str.contains('action'))&(~df.Genre.str.lower().str.contains('fantasy'))]"
   ]
  },
  {
   "cell_type": "code",
   "execution_count": null,
   "metadata": {},
   "outputs": [],
   "source": [
    "df[df.Genre.str.split(',').map(lambda x: len(x)<3)] # 2 genres max\n",
    "df[df.Genre.str.lower().str.contains('action')] # contains action"
   ]
  },
  {
   "cell_type": "code",
   "execution_count": 96,
   "metadata": {
    "collapsed": true
   },
   "outputs": [
    {
     "data": {
      "text/html": [
       "<div>\n",
       "<style scoped>\n",
       "    .dataframe tbody tr th:only-of-type {\n",
       "        vertical-align: middle;\n",
       "    }\n",
       "\n",
       "    .dataframe tbody tr th {\n",
       "        vertical-align: top;\n",
       "    }\n",
       "\n",
       "    .dataframe thead th {\n",
       "        text-align: right;\n",
       "    }\n",
       "</style>\n",
       "<table border=\"1\" class=\"dataframe\">\n",
       "  <thead>\n",
       "    <tr style=\"text-align: right;\">\n",
       "      <th></th>\n",
       "      <th>Rank</th>\n",
       "      <th>Title</th>\n",
       "      <th>Genre</th>\n",
       "      <th>Description</th>\n",
       "      <th>Director</th>\n",
       "      <th>Actors</th>\n",
       "      <th>Year</th>\n",
       "      <th>Runtime (Minutes)</th>\n",
       "      <th>Rating</th>\n",
       "      <th>Votes</th>\n",
       "      <th>Revenue (Millions)</th>\n",
       "      <th>Metascore</th>\n",
       "    </tr>\n",
       "  </thead>\n",
       "  <tbody>\n",
       "    <tr>\n",
       "      <th>17</th>\n",
       "      <td>18</td>\n",
       "      <td>Jason Bourne</td>\n",
       "      <td>Action,Thriller</td>\n",
       "      <td>The CIA's most dangerous former operative is d...</td>\n",
       "      <td>Paul Greengrass</td>\n",
       "      <td>Matt Damon, Tommy Lee Jones, Alicia Vikander,V...</td>\n",
       "      <td>2016</td>\n",
       "      <td>123</td>\n",
       "      <td>6.7</td>\n",
       "      <td>150823</td>\n",
       "      <td>162.16</td>\n",
       "      <td>58.0</td>\n",
       "    </tr>\n",
       "    <tr>\n",
       "      <th>123</th>\n",
       "      <td>124</td>\n",
       "      <td>Boyka: Undisputed IV</td>\n",
       "      <td>Action</td>\n",
       "      <td>In the fourth installment of the fighting fran...</td>\n",
       "      <td>Todor Chapkanov</td>\n",
       "      <td>Scott Adkins, Teodora Duhovnikova, Alon Aboutb...</td>\n",
       "      <td>2016</td>\n",
       "      <td>86</td>\n",
       "      <td>7.4</td>\n",
       "      <td>10428</td>\n",
       "      <td>NaN</td>\n",
       "      <td>NaN</td>\n",
       "    </tr>\n",
       "    <tr>\n",
       "      <th>124</th>\n",
       "      <td>125</td>\n",
       "      <td>The Dark Knight Rises</td>\n",
       "      <td>Action,Thriller</td>\n",
       "      <td>Eight years after the Joker's reign of anarchy...</td>\n",
       "      <td>Christopher Nolan</td>\n",
       "      <td>Christian Bale, Tom Hardy, Anne Hathaway,Gary ...</td>\n",
       "      <td>2012</td>\n",
       "      <td>164</td>\n",
       "      <td>8.5</td>\n",
       "      <td>1222645</td>\n",
       "      <td>448.13</td>\n",
       "      <td>78.0</td>\n",
       "    </tr>\n",
       "    <tr>\n",
       "      <th>164</th>\n",
       "      <td>165</td>\n",
       "      <td>Casino Royale</td>\n",
       "      <td>Action,Adventure,Thriller</td>\n",
       "      <td>Armed with a licence to kill, Secret Agent Jam...</td>\n",
       "      <td>Martin Campbell</td>\n",
       "      <td>Daniel Craig, Eva Green, Judi Dench, Jeffrey W...</td>\n",
       "      <td>2006</td>\n",
       "      <td>144</td>\n",
       "      <td>8.0</td>\n",
       "      <td>495106</td>\n",
       "      <td>167.01</td>\n",
       "      <td>80.0</td>\n",
       "    </tr>\n",
       "    <tr>\n",
       "      <th>169</th>\n",
       "      <td>170</td>\n",
       "      <td>Spectre</td>\n",
       "      <td>Action,Adventure,Thriller</td>\n",
       "      <td>A cryptic message from Bond's past sends him o...</td>\n",
       "      <td>Sam Mendes</td>\n",
       "      <td>Daniel Craig, Christoph Waltz, Léa Seydoux, Ra...</td>\n",
       "      <td>2015</td>\n",
       "      <td>148</td>\n",
       "      <td>6.8</td>\n",
       "      <td>308981</td>\n",
       "      <td>200.07</td>\n",
       "      <td>60.0</td>\n",
       "    </tr>\n",
       "    <tr>\n",
       "      <th>233</th>\n",
       "      <td>234</td>\n",
       "      <td>Mission: Impossible - Rogue Nation</td>\n",
       "      <td>Action,Adventure,Thriller</td>\n",
       "      <td>Ethan and team take on their most impossible m...</td>\n",
       "      <td>Christopher McQuarrie</td>\n",
       "      <td>Tom Cruise, Rebecca Ferguson, Jeremy Renner, S...</td>\n",
       "      <td>2015</td>\n",
       "      <td>131</td>\n",
       "      <td>7.4</td>\n",
       "      <td>257472</td>\n",
       "      <td>195.00</td>\n",
       "      <td>75.0</td>\n",
       "    </tr>\n",
       "    <tr>\n",
       "      <th>270</th>\n",
       "      <td>271</td>\n",
       "      <td>Skyfall</td>\n",
       "      <td>Action,Adventure,Thriller</td>\n",
       "      <td>Bond's loyalty to M is tested when her past co...</td>\n",
       "      <td>Sam Mendes</td>\n",
       "      <td>Daniel Craig, Javier Bardem, Naomie Harris, Ju...</td>\n",
       "      <td>2012</td>\n",
       "      <td>143</td>\n",
       "      <td>7.8</td>\n",
       "      <td>547386</td>\n",
       "      <td>304.36</td>\n",
       "      <td>81.0</td>\n",
       "    </tr>\n",
       "    <tr>\n",
       "      <th>282</th>\n",
       "      <td>283</td>\n",
       "      <td>Death Proof</td>\n",
       "      <td>Thriller</td>\n",
       "      <td>Two separate sets of voluptuous women are stal...</td>\n",
       "      <td>Quentin Tarantino</td>\n",
       "      <td>Kurt Russell, Zoë Bell, Rosario Dawson, Vaness...</td>\n",
       "      <td>2007</td>\n",
       "      <td>113</td>\n",
       "      <td>7.1</td>\n",
       "      <td>220236</td>\n",
       "      <td>NaN</td>\n",
       "      <td>NaN</td>\n",
       "    </tr>\n",
       "    <tr>\n",
       "      <th>284</th>\n",
       "      <td>285</td>\n",
       "      <td>Hercules</td>\n",
       "      <td>Action,Adventure</td>\n",
       "      <td>Having endured his legendary twelve labors, He...</td>\n",
       "      <td>Brett Ratner</td>\n",
       "      <td>Dwayne Johnson, John Hurt, Ian McShane, Joseph...</td>\n",
       "      <td>2014</td>\n",
       "      <td>98</td>\n",
       "      <td>6.0</td>\n",
       "      <td>122838</td>\n",
       "      <td>72.66</td>\n",
       "      <td>47.0</td>\n",
       "    </tr>\n",
       "    <tr>\n",
       "      <th>289</th>\n",
       "      <td>290</td>\n",
       "      <td>Iris</td>\n",
       "      <td>Thriller</td>\n",
       "      <td>Iris, young wife of a businessman, disappears ...</td>\n",
       "      <td>Jalil Lespert</td>\n",
       "      <td>Romain Duris, Charlotte Le Bon, Jalil Lespert,...</td>\n",
       "      <td>2016</td>\n",
       "      <td>99</td>\n",
       "      <td>6.1</td>\n",
       "      <td>726</td>\n",
       "      <td>NaN</td>\n",
       "      <td>NaN</td>\n",
       "    </tr>\n",
       "    <tr>\n",
       "      <th>344</th>\n",
       "      <td>345</td>\n",
       "      <td>Spider-Man 3</td>\n",
       "      <td>Action,Adventure</td>\n",
       "      <td>A strange black entity from another world bond...</td>\n",
       "      <td>Sam Raimi</td>\n",
       "      <td>Tobey Maguire, Kirsten Dunst, Topher Grace, Th...</td>\n",
       "      <td>2007</td>\n",
       "      <td>139</td>\n",
       "      <td>6.2</td>\n",
       "      <td>406219</td>\n",
       "      <td>336.53</td>\n",
       "      <td>59.0</td>\n",
       "    </tr>\n",
       "    <tr>\n",
       "      <th>368</th>\n",
       "      <td>369</td>\n",
       "      <td>The Amazing Spider-Man</td>\n",
       "      <td>Action,Adventure</td>\n",
       "      <td>After Peter Parker is bitten by a genetically ...</td>\n",
       "      <td>Marc Webb</td>\n",
       "      <td>Andrew Garfield, Emma Stone, Rhys Ifans, Irrfa...</td>\n",
       "      <td>2012</td>\n",
       "      <td>136</td>\n",
       "      <td>7.0</td>\n",
       "      <td>474320</td>\n",
       "      <td>262.03</td>\n",
       "      <td>66.0</td>\n",
       "    </tr>\n",
       "    <tr>\n",
       "      <th>379</th>\n",
       "      <td>380</td>\n",
       "      <td>The Expendables 3</td>\n",
       "      <td>Action,Adventure,Thriller</td>\n",
       "      <td>Barney augments his team with new blood for a ...</td>\n",
       "      <td>Patrick Hughes</td>\n",
       "      <td>Sylvester Stallone, Jason Statham, Jet Li, Ant...</td>\n",
       "      <td>2014</td>\n",
       "      <td>126</td>\n",
       "      <td>6.1</td>\n",
       "      <td>137568</td>\n",
       "      <td>39.29</td>\n",
       "      <td>35.0</td>\n",
       "    </tr>\n",
       "    <tr>\n",
       "      <th>410</th>\n",
       "      <td>411</td>\n",
       "      <td>Taken</td>\n",
       "      <td>Action,Thriller</td>\n",
       "      <td>A retired CIA agent travels across Europe and ...</td>\n",
       "      <td>Pierre Morel</td>\n",
       "      <td>Liam Neeson, Maggie Grace, Famke Janssen, Lela...</td>\n",
       "      <td>2008</td>\n",
       "      <td>93</td>\n",
       "      <td>7.8</td>\n",
       "      <td>502961</td>\n",
       "      <td>145.00</td>\n",
       "      <td>50.0</td>\n",
       "    </tr>\n",
       "    <tr>\n",
       "      <th>433</th>\n",
       "      <td>434</td>\n",
       "      <td>Mission: Impossible - Ghost Protocol</td>\n",
       "      <td>Action,Adventure,Thriller</td>\n",
       "      <td>The IMF is shut down when it's implicated in t...</td>\n",
       "      <td>Brad Bird</td>\n",
       "      <td>Tom Cruise, Jeremy Renner, Simon Pegg, Paula P...</td>\n",
       "      <td>2011</td>\n",
       "      <td>132</td>\n",
       "      <td>7.4</td>\n",
       "      <td>382459</td>\n",
       "      <td>209.36</td>\n",
       "      <td>73.0</td>\n",
       "    </tr>\n",
       "    <tr>\n",
       "      <th>444</th>\n",
       "      <td>445</td>\n",
       "      <td>The Thinning</td>\n",
       "      <td>Thriller</td>\n",
       "      <td>\"The Thinning\" takes place in a post-apocalypt...</td>\n",
       "      <td>Michael J. Gallagher</td>\n",
       "      <td>Logan Paul, Peyton List, Lia Marie Johnson,Cal...</td>\n",
       "      <td>2016</td>\n",
       "      <td>81</td>\n",
       "      <td>6.0</td>\n",
       "      <td>4531</td>\n",
       "      <td>NaN</td>\n",
       "      <td>31.0</td>\n",
       "    </tr>\n",
       "    <tr>\n",
       "      <th>453</th>\n",
       "      <td>454</td>\n",
       "      <td>Olympus Has Fallen</td>\n",
       "      <td>Action,Thriller</td>\n",
       "      <td>Disgraced Secret Service agent (and former pre...</td>\n",
       "      <td>Antoine Fuqua</td>\n",
       "      <td>Gerard Butler, Aaron Eckhart, Morgan Freeman,A...</td>\n",
       "      <td>2013</td>\n",
       "      <td>119</td>\n",
       "      <td>6.5</td>\n",
       "      <td>214994</td>\n",
       "      <td>98.90</td>\n",
       "      <td>41.0</td>\n",
       "    </tr>\n",
       "    <tr>\n",
       "      <th>560</th>\n",
       "      <td>561</td>\n",
       "      <td>The Expendables</td>\n",
       "      <td>Action,Adventure,Thriller</td>\n",
       "      <td>A CIA operative hires a team of mercenaries to...</td>\n",
       "      <td>Sylvester Stallone</td>\n",
       "      <td>Sylvester Stallone, Jason Statham, Jet Li, Dol...</td>\n",
       "      <td>2010</td>\n",
       "      <td>103</td>\n",
       "      <td>6.5</td>\n",
       "      <td>283282</td>\n",
       "      <td>102.98</td>\n",
       "      <td>45.0</td>\n",
       "    </tr>\n",
       "    <tr>\n",
       "      <th>580</th>\n",
       "      <td>581</td>\n",
       "      <td>Kickboxer: Vengeance</td>\n",
       "      <td>Action</td>\n",
       "      <td>A kick boxer is out to avenge his brother.</td>\n",
       "      <td>John Stockwell</td>\n",
       "      <td>Dave Bautista, Alain Moussi, Gina Carano, Jean...</td>\n",
       "      <td>2016</td>\n",
       "      <td>90</td>\n",
       "      <td>4.9</td>\n",
       "      <td>6809</td>\n",
       "      <td>131.56</td>\n",
       "      <td>37.0</td>\n",
       "    </tr>\n",
       "    <tr>\n",
       "      <th>624</th>\n",
       "      <td>625</td>\n",
       "      <td>Taken 3</td>\n",
       "      <td>Action,Thriller</td>\n",
       "      <td>Ex-government operative Bryan Mills is accused...</td>\n",
       "      <td>Olivier Megaton</td>\n",
       "      <td>Liam Neeson, Forest Whitaker, Maggie Grace,Fam...</td>\n",
       "      <td>2014</td>\n",
       "      <td>109</td>\n",
       "      <td>6.0</td>\n",
       "      <td>144715</td>\n",
       "      <td>89.25</td>\n",
       "      <td>26.0</td>\n",
       "    </tr>\n",
       "    <tr>\n",
       "      <th>698</th>\n",
       "      <td>699</td>\n",
       "      <td>Live Free or Die Hard</td>\n",
       "      <td>Action,Adventure,Thriller</td>\n",
       "      <td>John McClane and a young hacker join forces to...</td>\n",
       "      <td>Len Wiseman</td>\n",
       "      <td>Bruce Willis, Justin Long, Timothy Olyphant, M...</td>\n",
       "      <td>2007</td>\n",
       "      <td>128</td>\n",
       "      <td>7.2</td>\n",
       "      <td>347567</td>\n",
       "      <td>134.52</td>\n",
       "      <td>69.0</td>\n",
       "    </tr>\n",
       "    <tr>\n",
       "      <th>729</th>\n",
       "      <td>730</td>\n",
       "      <td>The Guest</td>\n",
       "      <td>Thriller</td>\n",
       "      <td>A soldier introduces himself to the Peterson f...</td>\n",
       "      <td>Adam Wingard</td>\n",
       "      <td>Dan Stevens, Sheila Kelley, Maika Monroe, Joel...</td>\n",
       "      <td>2014</td>\n",
       "      <td>100</td>\n",
       "      <td>6.7</td>\n",
       "      <td>71069</td>\n",
       "      <td>0.32</td>\n",
       "      <td>76.0</td>\n",
       "    </tr>\n",
       "    <tr>\n",
       "      <th>746</th>\n",
       "      <td>747</td>\n",
       "      <td>Only for One Night</td>\n",
       "      <td>Thriller</td>\n",
       "      <td>A married womans husband with a perfect life c...</td>\n",
       "      <td>Chris Stokes</td>\n",
       "      <td>Brian White, Karrueche Tran, Angelique Pereira...</td>\n",
       "      <td>2016</td>\n",
       "      <td>86</td>\n",
       "      <td>4.6</td>\n",
       "      <td>313</td>\n",
       "      <td>NaN</td>\n",
       "      <td>60.0</td>\n",
       "    </tr>\n",
       "    <tr>\n",
       "      <th>770</th>\n",
       "      <td>771</td>\n",
       "      <td>Quantum of Solace</td>\n",
       "      <td>Action,Adventure,Thriller</td>\n",
       "      <td>James Bond descends into mystery as he tries t...</td>\n",
       "      <td>Marc Forster</td>\n",
       "      <td>Daniel Craig, Olga Kurylenko, Mathieu Amalric,...</td>\n",
       "      <td>2008</td>\n",
       "      <td>106</td>\n",
       "      <td>6.6</td>\n",
       "      <td>347798</td>\n",
       "      <td>168.37</td>\n",
       "      <td>58.0</td>\n",
       "    </tr>\n",
       "    <tr>\n",
       "      <th>777</th>\n",
       "      <td>778</td>\n",
       "      <td>Final Girl</td>\n",
       "      <td>Action,Thriller</td>\n",
       "      <td>A man teaches a young woman how to become a co...</td>\n",
       "      <td>Tyler Shields</td>\n",
       "      <td>Abigail Breslin, Wes Bentley, Logan Huffman,Al...</td>\n",
       "      <td>2015</td>\n",
       "      <td>90</td>\n",
       "      <td>4.7</td>\n",
       "      <td>9026</td>\n",
       "      <td>NaN</td>\n",
       "      <td>56.0</td>\n",
       "    </tr>\n",
       "    <tr>\n",
       "      <th>844</th>\n",
       "      <td>845</td>\n",
       "      <td>Unstoppable</td>\n",
       "      <td>Action,Thriller</td>\n",
       "      <td>With an unmanned, half-mile-long freight train...</td>\n",
       "      <td>Tony Scott</td>\n",
       "      <td>Denzel Washington, Chris Pine, Rosario Dawson,...</td>\n",
       "      <td>2010</td>\n",
       "      <td>98</td>\n",
       "      <td>6.8</td>\n",
       "      <td>157499</td>\n",
       "      <td>81.56</td>\n",
       "      <td>69.0</td>\n",
       "    </tr>\n",
       "    <tr>\n",
       "      <th>848</th>\n",
       "      <td>849</td>\n",
       "      <td>Mean Dreams</td>\n",
       "      <td>Thriller</td>\n",
       "      <td>Follows Casey and Jonas, two teenagers despera...</td>\n",
       "      <td>Nathan Morlando</td>\n",
       "      <td>Sophie Nélisse, Josh Wiggins, Joe Cobden, Bill...</td>\n",
       "      <td>2016</td>\n",
       "      <td>108</td>\n",
       "      <td>6.3</td>\n",
       "      <td>1066</td>\n",
       "      <td>NaN</td>\n",
       "      <td>64.0</td>\n",
       "    </tr>\n",
       "    <tr>\n",
       "      <th>869</th>\n",
       "      <td>870</td>\n",
       "      <td>Mission: Impossible III</td>\n",
       "      <td>Action,Adventure,Thriller</td>\n",
       "      <td>Agent Ethan Hunt comes into conflict with a da...</td>\n",
       "      <td>J.J. Abrams</td>\n",
       "      <td>Tom Cruise, Michelle Monaghan, Ving Rhames, Ph...</td>\n",
       "      <td>2006</td>\n",
       "      <td>126</td>\n",
       "      <td>6.9</td>\n",
       "      <td>270429</td>\n",
       "      <td>133.38</td>\n",
       "      <td>66.0</td>\n",
       "    </tr>\n",
       "    <tr>\n",
       "      <th>872</th>\n",
       "      <td>873</td>\n",
       "      <td>Red Dawn</td>\n",
       "      <td>Action,Thriller</td>\n",
       "      <td>A group of teenagers look to save their town f...</td>\n",
       "      <td>Dan Bradley</td>\n",
       "      <td>Chris Hemsworth, Isabel Lucas, Josh Hutcherson...</td>\n",
       "      <td>2012</td>\n",
       "      <td>93</td>\n",
       "      <td>5.4</td>\n",
       "      <td>64584</td>\n",
       "      <td>44.80</td>\n",
       "      <td>31.0</td>\n",
       "    </tr>\n",
       "    <tr>\n",
       "      <th>911</th>\n",
       "      <td>912</td>\n",
       "      <td>I Am the Pretty Thing That Lives in the House</td>\n",
       "      <td>Thriller</td>\n",
       "      <td>A young nurse takes care of elderly author who...</td>\n",
       "      <td>Oz Perkins</td>\n",
       "      <td>Ruth Wilson, Paula Prentiss, Lucy Boynton, Bob...</td>\n",
       "      <td>2016</td>\n",
       "      <td>87</td>\n",
       "      <td>4.7</td>\n",
       "      <td>4204</td>\n",
       "      <td>NaN</td>\n",
       "      <td>68.0</td>\n",
       "    </tr>\n",
       "    <tr>\n",
       "      <th>916</th>\n",
       "      <td>917</td>\n",
       "      <td>The Expendables 2</td>\n",
       "      <td>Action,Adventure,Thriller</td>\n",
       "      <td>Mr. Church reunites the Expendables for what s...</td>\n",
       "      <td>Simon West</td>\n",
       "      <td>Sylvester Stallone, Liam Hemsworth, Randy Cout...</td>\n",
       "      <td>2012</td>\n",
       "      <td>103</td>\n",
       "      <td>6.6</td>\n",
       "      <td>257395</td>\n",
       "      <td>85.02</td>\n",
       "      <td>51.0</td>\n",
       "    </tr>\n",
       "    <tr>\n",
       "      <th>923</th>\n",
       "      <td>924</td>\n",
       "      <td>No Escape</td>\n",
       "      <td>Action,Thriller</td>\n",
       "      <td>In their new overseas home, an American family...</td>\n",
       "      <td>John Erick Dowdle</td>\n",
       "      <td>Lake Bell, Pierce Brosnan, Owen Wilson,Chatcha...</td>\n",
       "      <td>2015</td>\n",
       "      <td>103</td>\n",
       "      <td>6.8</td>\n",
       "      <td>57921</td>\n",
       "      <td>27.29</td>\n",
       "      <td>38.0</td>\n",
       "    </tr>\n",
       "    <tr>\n",
       "      <th>933</th>\n",
       "      <td>934</td>\n",
       "      <td>Detour</td>\n",
       "      <td>Thriller</td>\n",
       "      <td>A young law student blindly enters into a pact...</td>\n",
       "      <td>Christopher Smith</td>\n",
       "      <td>Tye Sheridan, Emory Cohen, Bel Powley,Stephen ...</td>\n",
       "      <td>2016</td>\n",
       "      <td>97</td>\n",
       "      <td>6.3</td>\n",
       "      <td>2205</td>\n",
       "      <td>NaN</td>\n",
       "      <td>46.0</td>\n",
       "    </tr>\n",
       "    <tr>\n",
       "      <th>942</th>\n",
       "      <td>943</td>\n",
       "      <td>Transpecos</td>\n",
       "      <td>Thriller</td>\n",
       "      <td>For three Border Patrol agents working a remot...</td>\n",
       "      <td>Greg Kwedar</td>\n",
       "      <td>Johnny Simmons, Gabriel Luna, Clifton Collins ...</td>\n",
       "      <td>2016</td>\n",
       "      <td>86</td>\n",
       "      <td>5.8</td>\n",
       "      <td>1292</td>\n",
       "      <td>NaN</td>\n",
       "      <td>73.0</td>\n",
       "    </tr>\n",
       "    <tr>\n",
       "      <th>949</th>\n",
       "      <td>950</td>\n",
       "      <td>Kicks</td>\n",
       "      <td>Adventure</td>\n",
       "      <td>Brandon is a 15 year old whose dream is a pair...</td>\n",
       "      <td>Justin Tipping</td>\n",
       "      <td>Jahking Guillory, Christopher Jordan Wallace,C...</td>\n",
       "      <td>2016</td>\n",
       "      <td>80</td>\n",
       "      <td>6.1</td>\n",
       "      <td>2417</td>\n",
       "      <td>0.15</td>\n",
       "      <td>69.0</td>\n",
       "    </tr>\n",
       "  </tbody>\n",
       "</table>\n",
       "</div>"
      ],
      "text/plain": [
       "     Rank                                          Title  \\\n",
       "17     18                                   Jason Bourne   \n",
       "123   124                           Boyka: Undisputed IV   \n",
       "124   125                          The Dark Knight Rises   \n",
       "164   165                                  Casino Royale   \n",
       "169   170                                        Spectre   \n",
       "233   234             Mission: Impossible - Rogue Nation   \n",
       "270   271                                        Skyfall   \n",
       "282   283                                    Death Proof   \n",
       "284   285                                       Hercules   \n",
       "289   290                                           Iris   \n",
       "344   345                                   Spider-Man 3   \n",
       "368   369                         The Amazing Spider-Man   \n",
       "379   380                              The Expendables 3   \n",
       "410   411                                          Taken   \n",
       "433   434           Mission: Impossible - Ghost Protocol   \n",
       "444   445                                   The Thinning   \n",
       "453   454                             Olympus Has Fallen   \n",
       "560   561                                The Expendables   \n",
       "580   581                           Kickboxer: Vengeance   \n",
       "624   625                                        Taken 3   \n",
       "698   699                          Live Free or Die Hard   \n",
       "729   730                                      The Guest   \n",
       "746   747                             Only for One Night   \n",
       "770   771                              Quantum of Solace   \n",
       "777   778                                     Final Girl   \n",
       "844   845                                    Unstoppable   \n",
       "848   849                                    Mean Dreams   \n",
       "869   870                        Mission: Impossible III   \n",
       "872   873                                       Red Dawn   \n",
       "911   912  I Am the Pretty Thing That Lives in the House   \n",
       "916   917                              The Expendables 2   \n",
       "923   924                                      No Escape   \n",
       "933   934                                         Detour   \n",
       "942   943                                     Transpecos   \n",
       "949   950                                          Kicks   \n",
       "\n",
       "                         Genre  \\\n",
       "17             Action,Thriller   \n",
       "123                     Action   \n",
       "124            Action,Thriller   \n",
       "164  Action,Adventure,Thriller   \n",
       "169  Action,Adventure,Thriller   \n",
       "233  Action,Adventure,Thriller   \n",
       "270  Action,Adventure,Thriller   \n",
       "282                   Thriller   \n",
       "284           Action,Adventure   \n",
       "289                   Thriller   \n",
       "344           Action,Adventure   \n",
       "368           Action,Adventure   \n",
       "379  Action,Adventure,Thriller   \n",
       "410            Action,Thriller   \n",
       "433  Action,Adventure,Thriller   \n",
       "444                   Thriller   \n",
       "453            Action,Thriller   \n",
       "560  Action,Adventure,Thriller   \n",
       "580                     Action   \n",
       "624            Action,Thriller   \n",
       "698  Action,Adventure,Thriller   \n",
       "729                   Thriller   \n",
       "746                   Thriller   \n",
       "770  Action,Adventure,Thriller   \n",
       "777            Action,Thriller   \n",
       "844            Action,Thriller   \n",
       "848                   Thriller   \n",
       "869  Action,Adventure,Thriller   \n",
       "872            Action,Thriller   \n",
       "911                   Thriller   \n",
       "916  Action,Adventure,Thriller   \n",
       "923            Action,Thriller   \n",
       "933                   Thriller   \n",
       "942                   Thriller   \n",
       "949                  Adventure   \n",
       "\n",
       "                                           Description               Director  \\\n",
       "17   The CIA's most dangerous former operative is d...        Paul Greengrass   \n",
       "123  In the fourth installment of the fighting fran...        Todor Chapkanov   \n",
       "124  Eight years after the Joker's reign of anarchy...      Christopher Nolan   \n",
       "164  Armed with a licence to kill, Secret Agent Jam...        Martin Campbell   \n",
       "169  A cryptic message from Bond's past sends him o...             Sam Mendes   \n",
       "233  Ethan and team take on their most impossible m...  Christopher McQuarrie   \n",
       "270  Bond's loyalty to M is tested when her past co...             Sam Mendes   \n",
       "282  Two separate sets of voluptuous women are stal...      Quentin Tarantino   \n",
       "284  Having endured his legendary twelve labors, He...           Brett Ratner   \n",
       "289  Iris, young wife of a businessman, disappears ...          Jalil Lespert   \n",
       "344  A strange black entity from another world bond...              Sam Raimi   \n",
       "368  After Peter Parker is bitten by a genetically ...              Marc Webb   \n",
       "379  Barney augments his team with new blood for a ...         Patrick Hughes   \n",
       "410  A retired CIA agent travels across Europe and ...           Pierre Morel   \n",
       "433  The IMF is shut down when it's implicated in t...              Brad Bird   \n",
       "444  \"The Thinning\" takes place in a post-apocalypt...   Michael J. Gallagher   \n",
       "453  Disgraced Secret Service agent (and former pre...          Antoine Fuqua   \n",
       "560  A CIA operative hires a team of mercenaries to...     Sylvester Stallone   \n",
       "580         A kick boxer is out to avenge his brother.         John Stockwell   \n",
       "624  Ex-government operative Bryan Mills is accused...        Olivier Megaton   \n",
       "698  John McClane and a young hacker join forces to...            Len Wiseman   \n",
       "729  A soldier introduces himself to the Peterson f...           Adam Wingard   \n",
       "746  A married womans husband with a perfect life c...           Chris Stokes   \n",
       "770  James Bond descends into mystery as he tries t...           Marc Forster   \n",
       "777  A man teaches a young woman how to become a co...          Tyler Shields   \n",
       "844  With an unmanned, half-mile-long freight train...             Tony Scott   \n",
       "848  Follows Casey and Jonas, two teenagers despera...        Nathan Morlando   \n",
       "869  Agent Ethan Hunt comes into conflict with a da...            J.J. Abrams   \n",
       "872  A group of teenagers look to save their town f...            Dan Bradley   \n",
       "911  A young nurse takes care of elderly author who...             Oz Perkins   \n",
       "916  Mr. Church reunites the Expendables for what s...             Simon West   \n",
       "923  In their new overseas home, an American family...      John Erick Dowdle   \n",
       "933  A young law student blindly enters into a pact...      Christopher Smith   \n",
       "942  For three Border Patrol agents working a remot...            Greg Kwedar   \n",
       "949  Brandon is a 15 year old whose dream is a pair...         Justin Tipping   \n",
       "\n",
       "                                                Actors  Year  \\\n",
       "17   Matt Damon, Tommy Lee Jones, Alicia Vikander,V...  2016   \n",
       "123  Scott Adkins, Teodora Duhovnikova, Alon Aboutb...  2016   \n",
       "124  Christian Bale, Tom Hardy, Anne Hathaway,Gary ...  2012   \n",
       "164  Daniel Craig, Eva Green, Judi Dench, Jeffrey W...  2006   \n",
       "169  Daniel Craig, Christoph Waltz, Léa Seydoux, Ra...  2015   \n",
       "233  Tom Cruise, Rebecca Ferguson, Jeremy Renner, S...  2015   \n",
       "270  Daniel Craig, Javier Bardem, Naomie Harris, Ju...  2012   \n",
       "282  Kurt Russell, Zoë Bell, Rosario Dawson, Vaness...  2007   \n",
       "284  Dwayne Johnson, John Hurt, Ian McShane, Joseph...  2014   \n",
       "289  Romain Duris, Charlotte Le Bon, Jalil Lespert,...  2016   \n",
       "344  Tobey Maguire, Kirsten Dunst, Topher Grace, Th...  2007   \n",
       "368  Andrew Garfield, Emma Stone, Rhys Ifans, Irrfa...  2012   \n",
       "379  Sylvester Stallone, Jason Statham, Jet Li, Ant...  2014   \n",
       "410  Liam Neeson, Maggie Grace, Famke Janssen, Lela...  2008   \n",
       "433  Tom Cruise, Jeremy Renner, Simon Pegg, Paula P...  2011   \n",
       "444  Logan Paul, Peyton List, Lia Marie Johnson,Cal...  2016   \n",
       "453  Gerard Butler, Aaron Eckhart, Morgan Freeman,A...  2013   \n",
       "560  Sylvester Stallone, Jason Statham, Jet Li, Dol...  2010   \n",
       "580  Dave Bautista, Alain Moussi, Gina Carano, Jean...  2016   \n",
       "624  Liam Neeson, Forest Whitaker, Maggie Grace,Fam...  2014   \n",
       "698  Bruce Willis, Justin Long, Timothy Olyphant, M...  2007   \n",
       "729  Dan Stevens, Sheila Kelley, Maika Monroe, Joel...  2014   \n",
       "746  Brian White, Karrueche Tran, Angelique Pereira...  2016   \n",
       "770  Daniel Craig, Olga Kurylenko, Mathieu Amalric,...  2008   \n",
       "777  Abigail Breslin, Wes Bentley, Logan Huffman,Al...  2015   \n",
       "844  Denzel Washington, Chris Pine, Rosario Dawson,...  2010   \n",
       "848  Sophie Nélisse, Josh Wiggins, Joe Cobden, Bill...  2016   \n",
       "869  Tom Cruise, Michelle Monaghan, Ving Rhames, Ph...  2006   \n",
       "872  Chris Hemsworth, Isabel Lucas, Josh Hutcherson...  2012   \n",
       "911  Ruth Wilson, Paula Prentiss, Lucy Boynton, Bob...  2016   \n",
       "916  Sylvester Stallone, Liam Hemsworth, Randy Cout...  2012   \n",
       "923  Lake Bell, Pierce Brosnan, Owen Wilson,Chatcha...  2015   \n",
       "933  Tye Sheridan, Emory Cohen, Bel Powley,Stephen ...  2016   \n",
       "942  Johnny Simmons, Gabriel Luna, Clifton Collins ...  2016   \n",
       "949  Jahking Guillory, Christopher Jordan Wallace,C...  2016   \n",
       "\n",
       "     Runtime (Minutes)  Rating    Votes  Revenue (Millions)  Metascore  \n",
       "17                 123     6.7   150823              162.16       58.0  \n",
       "123                 86     7.4    10428                 NaN        NaN  \n",
       "124                164     8.5  1222645              448.13       78.0  \n",
       "164                144     8.0   495106              167.01       80.0  \n",
       "169                148     6.8   308981              200.07       60.0  \n",
       "233                131     7.4   257472              195.00       75.0  \n",
       "270                143     7.8   547386              304.36       81.0  \n",
       "282                113     7.1   220236                 NaN        NaN  \n",
       "284                 98     6.0   122838               72.66       47.0  \n",
       "289                 99     6.1      726                 NaN        NaN  \n",
       "344                139     6.2   406219              336.53       59.0  \n",
       "368                136     7.0   474320              262.03       66.0  \n",
       "379                126     6.1   137568               39.29       35.0  \n",
       "410                 93     7.8   502961              145.00       50.0  \n",
       "433                132     7.4   382459              209.36       73.0  \n",
       "444                 81     6.0     4531                 NaN       31.0  \n",
       "453                119     6.5   214994               98.90       41.0  \n",
       "560                103     6.5   283282              102.98       45.0  \n",
       "580                 90     4.9     6809              131.56       37.0  \n",
       "624                109     6.0   144715               89.25       26.0  \n",
       "698                128     7.2   347567              134.52       69.0  \n",
       "729                100     6.7    71069                0.32       76.0  \n",
       "746                 86     4.6      313                 NaN       60.0  \n",
       "770                106     6.6   347798              168.37       58.0  \n",
       "777                 90     4.7     9026                 NaN       56.0  \n",
       "844                 98     6.8   157499               81.56       69.0  \n",
       "848                108     6.3     1066                 NaN       64.0  \n",
       "869                126     6.9   270429              133.38       66.0  \n",
       "872                 93     5.4    64584               44.80       31.0  \n",
       "911                 87     4.7     4204                 NaN       68.0  \n",
       "916                103     6.6   257395               85.02       51.0  \n",
       "923                103     6.8    57921               27.29       38.0  \n",
       "933                 97     6.3     2205                 NaN       46.0  \n",
       "942                 86     5.8     1292                 NaN       73.0  \n",
       "949                 80     6.1     2417                0.15       69.0  "
      ]
     },
     "execution_count": 96,
     "metadata": {},
     "output_type": "execute_result"
    }
   ],
   "source": [
    "df[df.Genre.str.lower().str.split(',').map(lambda x: (set(x)-set(['action','thriller','adventure']))==set())] # only contains action, thriller and adventure"
   ]
  },
  {
   "cell_type": "code",
   "execution_count": 100,
   "metadata": {
    "collapsed": true
   },
   "outputs": [
    {
     "data": {
      "text/html": [
       "<div>\n",
       "<style scoped>\n",
       "    .dataframe tbody tr th:only-of-type {\n",
       "        vertical-align: middle;\n",
       "    }\n",
       "\n",
       "    .dataframe tbody tr th {\n",
       "        vertical-align: top;\n",
       "    }\n",
       "\n",
       "    .dataframe thead th {\n",
       "        text-align: right;\n",
       "    }\n",
       "</style>\n",
       "<table border=\"1\" class=\"dataframe\">\n",
       "  <thead>\n",
       "    <tr style=\"text-align: right;\">\n",
       "      <th></th>\n",
       "      <th>Rank</th>\n",
       "      <th>Title</th>\n",
       "      <th>Genre</th>\n",
       "      <th>Description</th>\n",
       "      <th>Director</th>\n",
       "      <th>Actors</th>\n",
       "      <th>Year</th>\n",
       "      <th>Runtime (Minutes)</th>\n",
       "      <th>Rating</th>\n",
       "      <th>Votes</th>\n",
       "      <th>Revenue (Millions)</th>\n",
       "      <th>Metascore</th>\n",
       "    </tr>\n",
       "  </thead>\n",
       "  <tbody>\n",
       "    <tr>\n",
       "      <th>17</th>\n",
       "      <td>18</td>\n",
       "      <td>Jason Bourne</td>\n",
       "      <td>Action,Thriller</td>\n",
       "      <td>The CIA's most dangerous former operative is d...</td>\n",
       "      <td>Paul Greengrass</td>\n",
       "      <td>Matt Damon, Tommy Lee Jones, Alicia Vikander,V...</td>\n",
       "      <td>2016</td>\n",
       "      <td>123</td>\n",
       "      <td>6.7</td>\n",
       "      <td>150823</td>\n",
       "      <td>162.16</td>\n",
       "      <td>58.0</td>\n",
       "    </tr>\n",
       "    <tr>\n",
       "      <th>123</th>\n",
       "      <td>124</td>\n",
       "      <td>Boyka: Undisputed IV</td>\n",
       "      <td>Action</td>\n",
       "      <td>In the fourth installment of the fighting fran...</td>\n",
       "      <td>Todor Chapkanov</td>\n",
       "      <td>Scott Adkins, Teodora Duhovnikova, Alon Aboutb...</td>\n",
       "      <td>2016</td>\n",
       "      <td>86</td>\n",
       "      <td>7.4</td>\n",
       "      <td>10428</td>\n",
       "      <td>NaN</td>\n",
       "      <td>NaN</td>\n",
       "    </tr>\n",
       "    <tr>\n",
       "      <th>124</th>\n",
       "      <td>125</td>\n",
       "      <td>The Dark Knight Rises</td>\n",
       "      <td>Action,Thriller</td>\n",
       "      <td>Eight years after the Joker's reign of anarchy...</td>\n",
       "      <td>Christopher Nolan</td>\n",
       "      <td>Christian Bale, Tom Hardy, Anne Hathaway,Gary ...</td>\n",
       "      <td>2012</td>\n",
       "      <td>164</td>\n",
       "      <td>8.5</td>\n",
       "      <td>1222645</td>\n",
       "      <td>448.13</td>\n",
       "      <td>78.0</td>\n",
       "    </tr>\n",
       "    <tr>\n",
       "      <th>284</th>\n",
       "      <td>285</td>\n",
       "      <td>Hercules</td>\n",
       "      <td>Action,Adventure</td>\n",
       "      <td>Having endured his legendary twelve labors, He...</td>\n",
       "      <td>Brett Ratner</td>\n",
       "      <td>Dwayne Johnson, John Hurt, Ian McShane, Joseph...</td>\n",
       "      <td>2014</td>\n",
       "      <td>98</td>\n",
       "      <td>6.0</td>\n",
       "      <td>122838</td>\n",
       "      <td>72.66</td>\n",
       "      <td>47.0</td>\n",
       "    </tr>\n",
       "    <tr>\n",
       "      <th>344</th>\n",
       "      <td>345</td>\n",
       "      <td>Spider-Man 3</td>\n",
       "      <td>Action,Adventure</td>\n",
       "      <td>A strange black entity from another world bond...</td>\n",
       "      <td>Sam Raimi</td>\n",
       "      <td>Tobey Maguire, Kirsten Dunst, Topher Grace, Th...</td>\n",
       "      <td>2007</td>\n",
       "      <td>139</td>\n",
       "      <td>6.2</td>\n",
       "      <td>406219</td>\n",
       "      <td>336.53</td>\n",
       "      <td>59.0</td>\n",
       "    </tr>\n",
       "    <tr>\n",
       "      <th>368</th>\n",
       "      <td>369</td>\n",
       "      <td>The Amazing Spider-Man</td>\n",
       "      <td>Action,Adventure</td>\n",
       "      <td>After Peter Parker is bitten by a genetically ...</td>\n",
       "      <td>Marc Webb</td>\n",
       "      <td>Andrew Garfield, Emma Stone, Rhys Ifans, Irrfa...</td>\n",
       "      <td>2012</td>\n",
       "      <td>136</td>\n",
       "      <td>7.0</td>\n",
       "      <td>474320</td>\n",
       "      <td>262.03</td>\n",
       "      <td>66.0</td>\n",
       "    </tr>\n",
       "    <tr>\n",
       "      <th>410</th>\n",
       "      <td>411</td>\n",
       "      <td>Taken</td>\n",
       "      <td>Action,Thriller</td>\n",
       "      <td>A retired CIA agent travels across Europe and ...</td>\n",
       "      <td>Pierre Morel</td>\n",
       "      <td>Liam Neeson, Maggie Grace, Famke Janssen, Lela...</td>\n",
       "      <td>2008</td>\n",
       "      <td>93</td>\n",
       "      <td>7.8</td>\n",
       "      <td>502961</td>\n",
       "      <td>145.00</td>\n",
       "      <td>50.0</td>\n",
       "    </tr>\n",
       "    <tr>\n",
       "      <th>453</th>\n",
       "      <td>454</td>\n",
       "      <td>Olympus Has Fallen</td>\n",
       "      <td>Action,Thriller</td>\n",
       "      <td>Disgraced Secret Service agent (and former pre...</td>\n",
       "      <td>Antoine Fuqua</td>\n",
       "      <td>Gerard Butler, Aaron Eckhart, Morgan Freeman,A...</td>\n",
       "      <td>2013</td>\n",
       "      <td>119</td>\n",
       "      <td>6.5</td>\n",
       "      <td>214994</td>\n",
       "      <td>98.90</td>\n",
       "      <td>41.0</td>\n",
       "    </tr>\n",
       "    <tr>\n",
       "      <th>580</th>\n",
       "      <td>581</td>\n",
       "      <td>Kickboxer: Vengeance</td>\n",
       "      <td>Action</td>\n",
       "      <td>A kick boxer is out to avenge his brother.</td>\n",
       "      <td>John Stockwell</td>\n",
       "      <td>Dave Bautista, Alain Moussi, Gina Carano, Jean...</td>\n",
       "      <td>2016</td>\n",
       "      <td>90</td>\n",
       "      <td>4.9</td>\n",
       "      <td>6809</td>\n",
       "      <td>131.56</td>\n",
       "      <td>37.0</td>\n",
       "    </tr>\n",
       "    <tr>\n",
       "      <th>624</th>\n",
       "      <td>625</td>\n",
       "      <td>Taken 3</td>\n",
       "      <td>Action,Thriller</td>\n",
       "      <td>Ex-government operative Bryan Mills is accused...</td>\n",
       "      <td>Olivier Megaton</td>\n",
       "      <td>Liam Neeson, Forest Whitaker, Maggie Grace,Fam...</td>\n",
       "      <td>2014</td>\n",
       "      <td>109</td>\n",
       "      <td>6.0</td>\n",
       "      <td>144715</td>\n",
       "      <td>89.25</td>\n",
       "      <td>26.0</td>\n",
       "    </tr>\n",
       "    <tr>\n",
       "      <th>777</th>\n",
       "      <td>778</td>\n",
       "      <td>Final Girl</td>\n",
       "      <td>Action,Thriller</td>\n",
       "      <td>A man teaches a young woman how to become a co...</td>\n",
       "      <td>Tyler Shields</td>\n",
       "      <td>Abigail Breslin, Wes Bentley, Logan Huffman,Al...</td>\n",
       "      <td>2015</td>\n",
       "      <td>90</td>\n",
       "      <td>4.7</td>\n",
       "      <td>9026</td>\n",
       "      <td>NaN</td>\n",
       "      <td>56.0</td>\n",
       "    </tr>\n",
       "    <tr>\n",
       "      <th>844</th>\n",
       "      <td>845</td>\n",
       "      <td>Unstoppable</td>\n",
       "      <td>Action,Thriller</td>\n",
       "      <td>With an unmanned, half-mile-long freight train...</td>\n",
       "      <td>Tony Scott</td>\n",
       "      <td>Denzel Washington, Chris Pine, Rosario Dawson,...</td>\n",
       "      <td>2010</td>\n",
       "      <td>98</td>\n",
       "      <td>6.8</td>\n",
       "      <td>157499</td>\n",
       "      <td>81.56</td>\n",
       "      <td>69.0</td>\n",
       "    </tr>\n",
       "    <tr>\n",
       "      <th>872</th>\n",
       "      <td>873</td>\n",
       "      <td>Red Dawn</td>\n",
       "      <td>Action,Thriller</td>\n",
       "      <td>A group of teenagers look to save their town f...</td>\n",
       "      <td>Dan Bradley</td>\n",
       "      <td>Chris Hemsworth, Isabel Lucas, Josh Hutcherson...</td>\n",
       "      <td>2012</td>\n",
       "      <td>93</td>\n",
       "      <td>5.4</td>\n",
       "      <td>64584</td>\n",
       "      <td>44.80</td>\n",
       "      <td>31.0</td>\n",
       "    </tr>\n",
       "    <tr>\n",
       "      <th>923</th>\n",
       "      <td>924</td>\n",
       "      <td>No Escape</td>\n",
       "      <td>Action,Thriller</td>\n",
       "      <td>In their new overseas home, an American family...</td>\n",
       "      <td>John Erick Dowdle</td>\n",
       "      <td>Lake Bell, Pierce Brosnan, Owen Wilson,Chatcha...</td>\n",
       "      <td>2015</td>\n",
       "      <td>103</td>\n",
       "      <td>6.8</td>\n",
       "      <td>57921</td>\n",
       "      <td>27.29</td>\n",
       "      <td>38.0</td>\n",
       "    </tr>\n",
       "  </tbody>\n",
       "</table>\n",
       "</div>"
      ],
      "text/plain": [
       "     Rank                   Title             Genre  \\\n",
       "17     18            Jason Bourne   Action,Thriller   \n",
       "123   124    Boyka: Undisputed IV            Action   \n",
       "124   125   The Dark Knight Rises   Action,Thriller   \n",
       "284   285                Hercules  Action,Adventure   \n",
       "344   345            Spider-Man 3  Action,Adventure   \n",
       "368   369  The Amazing Spider-Man  Action,Adventure   \n",
       "410   411                   Taken   Action,Thriller   \n",
       "453   454      Olympus Has Fallen   Action,Thriller   \n",
       "580   581    Kickboxer: Vengeance            Action   \n",
       "624   625                 Taken 3   Action,Thriller   \n",
       "777   778              Final Girl   Action,Thriller   \n",
       "844   845             Unstoppable   Action,Thriller   \n",
       "872   873                Red Dawn   Action,Thriller   \n",
       "923   924               No Escape   Action,Thriller   \n",
       "\n",
       "                                           Description           Director  \\\n",
       "17   The CIA's most dangerous former operative is d...    Paul Greengrass   \n",
       "123  In the fourth installment of the fighting fran...    Todor Chapkanov   \n",
       "124  Eight years after the Joker's reign of anarchy...  Christopher Nolan   \n",
       "284  Having endured his legendary twelve labors, He...       Brett Ratner   \n",
       "344  A strange black entity from another world bond...          Sam Raimi   \n",
       "368  After Peter Parker is bitten by a genetically ...          Marc Webb   \n",
       "410  A retired CIA agent travels across Europe and ...       Pierre Morel   \n",
       "453  Disgraced Secret Service agent (and former pre...      Antoine Fuqua   \n",
       "580         A kick boxer is out to avenge his brother.     John Stockwell   \n",
       "624  Ex-government operative Bryan Mills is accused...    Olivier Megaton   \n",
       "777  A man teaches a young woman how to become a co...      Tyler Shields   \n",
       "844  With an unmanned, half-mile-long freight train...         Tony Scott   \n",
       "872  A group of teenagers look to save their town f...        Dan Bradley   \n",
       "923  In their new overseas home, an American family...  John Erick Dowdle   \n",
       "\n",
       "                                                Actors  Year  \\\n",
       "17   Matt Damon, Tommy Lee Jones, Alicia Vikander,V...  2016   \n",
       "123  Scott Adkins, Teodora Duhovnikova, Alon Aboutb...  2016   \n",
       "124  Christian Bale, Tom Hardy, Anne Hathaway,Gary ...  2012   \n",
       "284  Dwayne Johnson, John Hurt, Ian McShane, Joseph...  2014   \n",
       "344  Tobey Maguire, Kirsten Dunst, Topher Grace, Th...  2007   \n",
       "368  Andrew Garfield, Emma Stone, Rhys Ifans, Irrfa...  2012   \n",
       "410  Liam Neeson, Maggie Grace, Famke Janssen, Lela...  2008   \n",
       "453  Gerard Butler, Aaron Eckhart, Morgan Freeman,A...  2013   \n",
       "580  Dave Bautista, Alain Moussi, Gina Carano, Jean...  2016   \n",
       "624  Liam Neeson, Forest Whitaker, Maggie Grace,Fam...  2014   \n",
       "777  Abigail Breslin, Wes Bentley, Logan Huffman,Al...  2015   \n",
       "844  Denzel Washington, Chris Pine, Rosario Dawson,...  2010   \n",
       "872  Chris Hemsworth, Isabel Lucas, Josh Hutcherson...  2012   \n",
       "923  Lake Bell, Pierce Brosnan, Owen Wilson,Chatcha...  2015   \n",
       "\n",
       "     Runtime (Minutes)  Rating    Votes  Revenue (Millions)  Metascore  \n",
       "17                 123     6.7   150823              162.16       58.0  \n",
       "123                 86     7.4    10428                 NaN        NaN  \n",
       "124                164     8.5  1222645              448.13       78.0  \n",
       "284                 98     6.0   122838               72.66       47.0  \n",
       "344                139     6.2   406219              336.53       59.0  \n",
       "368                136     7.0   474320              262.03       66.0  \n",
       "410                 93     7.8   502961              145.00       50.0  \n",
       "453                119     6.5   214994               98.90       41.0  \n",
       "580                 90     4.9     6809              131.56       37.0  \n",
       "624                109     6.0   144715               89.25       26.0  \n",
       "777                 90     4.7     9026                 NaN       56.0  \n",
       "844                 98     6.8   157499               81.56       69.0  \n",
       "872                 93     5.4    64584               44.80       31.0  \n",
       "923                103     6.8    57921               27.29       38.0  "
      ]
     },
     "execution_count": 100,
     "metadata": {},
     "output_type": "execute_result"
    }
   ],
   "source": [
    "df[df.Genre.str.lower().str.split(',').map(lambda x: \n",
    "                                           (len(x)<3) & \n",
    "                                           ('action' in x)&\n",
    "                                           ((set(x) - set(['action','thriller','adventure']))==set()))]"
   ]
  },
  {
   "cell_type": "markdown",
   "metadata": {},
   "source": [
    "## Applymap"
   ]
  },
  {
   "cell_type": "code",
   "execution_count": 101,
   "metadata": {},
   "outputs": [],
   "source": [
    "df_d=df[['Title','Description']]"
   ]
  },
  {
   "cell_type": "code",
   "execution_count": 102,
   "metadata": {},
   "outputs": [
    {
     "data": {
      "text/plain": [
       "27.921"
      ]
     },
     "execution_count": 102,
     "metadata": {},
     "output_type": "execute_result"
    }
   ],
   "source": [
    "df_d.Description.str.split().map(len).mean()"
   ]
  },
  {
   "cell_type": "code",
   "execution_count": 103,
   "metadata": {},
   "outputs": [
    {
     "data": {
      "text/plain": [
       "2.605"
      ]
     },
     "execution_count": 103,
     "metadata": {},
     "output_type": "execute_result"
    }
   ],
   "source": [
    "df_d.Title.str.split().map(len).mean()"
   ]
  },
  {
   "cell_type": "code",
   "execution_count": 104,
   "metadata": {},
   "outputs": [
    {
     "data": {
      "text/plain": [
       "Title           2.605\n",
       "Description    27.921\n",
       "dtype: float64"
      ]
     },
     "execution_count": 104,
     "metadata": {},
     "output_type": "execute_result"
    }
   ],
   "source": [
    "df_d.applymap(lambda x: len(x.split())).mean()"
   ]
  },
  {
   "cell_type": "code",
   "execution_count": null,
   "metadata": {},
   "outputs": [],
   "source": []
  }
 ],
 "metadata": {
  "kernelspec": {
   "display_name": "Python 3",
   "language": "python",
   "name": "python3"
  },
  "language_info": {
   "codemirror_mode": {
    "name": "ipython",
    "version": 3
   },
   "file_extension": ".py",
   "mimetype": "text/x-python",
   "name": "python",
   "nbconvert_exporter": "python",
   "pygments_lexer": "ipython3",
   "version": "3.8.5"
  }
 },
 "nbformat": 4,
 "nbformat_minor": 4
}
