{
 "cells": [
  {
   "cell_type": "code",
   "execution_count": 9,
   "metadata": {},
   "outputs": [],
   "source": [
    "?len"
   ]
  },
  {
   "cell_type": "code",
   "execution_count": 7,
   "metadata": {},
   "outputs": [],
   "source": [
    "def foo(a):\n",
    "    \"\"\"\n",
    "    This function calculates the cube of a and returns it.\n",
    "    \"\"\"\n",
    "    x=a**3\n",
    "    return x"
   ]
  },
  {
   "cell_type": "code",
   "execution_count": 8,
   "metadata": {},
   "outputs": [],
   "source": [
    "?foo"
   ]
  },
  {
   "cell_type": "markdown",
   "metadata": {},
   "source": [
    "# Picsou's phone"
   ]
  },
  {
   "cell_type": "markdown",
   "metadata": {},
   "source": [
    "## Functionnal programming"
   ]
  },
  {
   "cell_type": "code",
   "execution_count": 10,
   "metadata": {},
   "outputs": [],
   "source": [
    "# list of attributes \n",
    "\n",
    "contact_list={'Riri':3364646464, 'Fifi':3344555773, 'Loulou':3423345678}\n",
    "received_calls=[]\n",
    "made_calls=[]\n",
    "received_sms={}\n",
    "sent_sms={}\n",
    "library_of_photos=[]"
   ]
  },
  {
   "cell_type": "code",
   "execution_count": 12,
   "metadata": {},
   "outputs": [],
   "source": [
    "# List of functions for Piscou's phone\n",
    "\n",
    "def add_contact(name,number,contact_list=contact_list):\n",
    "    if name in contact_list.keys():\n",
    "        print('Sorry this name is already occupied. Change name.')\n",
    "    else:\n",
    "        contact_list[name]=number\n",
    "    return contact_list"
   ]
  },
  {
   "cell_type": "code",
   "execution_count": 13,
   "metadata": {},
   "outputs": [
    {
     "name": "stdout",
     "output_type": "stream",
     "text": [
      "{'Riri': 3364646464, 'Fifi': 3344555773, 'Loulou': 3423345678}\n",
      "{'Riri': 3364646464, 'Fifi': 3344555773, 'Loulou': 3423345678, 'Etienne': 3361064744}\n"
     ]
    }
   ],
   "source": [
    "print(contact_list)\n",
    "contact_list=add_contact('Etienne',3361064744)\n",
    "print(contact_list)"
   ]
  },
  {
   "cell_type": "code",
   "execution_count": 14,
   "metadata": {},
   "outputs": [
    {
     "name": "stdout",
     "output_type": "stream",
     "text": [
      "Sorry this name is already occupied. Change name.\n"
     ]
    }
   ],
   "source": [
    "contact_list=add_contact('Etienne',3361064744)"
   ]
  },
  {
   "cell_type": "code",
   "execution_count": 15,
   "metadata": {},
   "outputs": [],
   "source": [
    "def unfriend(name,contact_list=contact_list):\n",
    "    if name in contact_list:\n",
    "        del contact_list[name]\n",
    "    else:\n",
    "        print(\"This contact doesn't exist.\")\n",
    "    return contact_list"
   ]
  },
  {
   "cell_type": "code",
   "execution_count": 17,
   "metadata": {},
   "outputs": [
    {
     "name": "stdout",
     "output_type": "stream",
     "text": [
      "{'Riri': 3364646464, 'Fifi': 3344555773, 'Loulou': 3423345678, 'Etienne': 3361064744}\n",
      "{'Riri': 3364646464, 'Fifi': 3344555773, 'Loulou': 3423345678}\n"
     ]
    }
   ],
   "source": [
    "print(contact_list)\n",
    "contact_list=unfriend('Etienne')\n",
    "print(contact_list)"
   ]
  },
  {
   "cell_type": "code",
   "execution_count": 18,
   "metadata": {},
   "outputs": [
    {
     "name": "stdout",
     "output_type": "stream",
     "text": [
      "This contact doesn't exist.\n"
     ]
    }
   ],
   "source": [
    "contact_list=unfriend('Etienne')"
   ]
  },
  {
   "cell_type": "code",
   "execution_count": 21,
   "metadata": {},
   "outputs": [],
   "source": [
    "def make_a_call(number,made_calls=made_calls,contact_list=contact_list):\n",
    "    import time\n",
    "    if number in contact_list.values():\n",
    "        name=[x for x in contact_list.keys() if number==contact_list[x]][0]\n",
    "    else:\n",
    "        name=str(number)\n",
    "    print('Dialing',name)\n",
    "    time.sleep(2)\n",
    "    \n",
    "    made_calls.append(name)\n",
    "    return made_calls"
   ]
  },
  {
   "cell_type": "code",
   "execution_count": 22,
   "metadata": {},
   "outputs": [
    {
     "name": "stdout",
     "output_type": "stream",
     "text": [
      "[]\n",
      "Dialing Fifi\n",
      "['Fifi']\n"
     ]
    }
   ],
   "source": [
    "print(made_calls)\n",
    "made_calls=make_a_call(3344555773)\n",
    "print(made_calls)"
   ]
  },
  {
   "cell_type": "code",
   "execution_count": 23,
   "metadata": {},
   "outputs": [],
   "source": [
    "def receive_a_call(number,received_calls=received_calls,contact_list=contact_list):\n",
    "    import time\n",
    "    if number in contact_list.values():\n",
    "        name=[x for x in contact_list.keys() if number==contact_list[x]][0]\n",
    "    else:\n",
    "        name=str(number)\n",
    "    print(name,'is calling…')\n",
    "    time.sleep(2)\n",
    "    \n",
    "    received_calls.append(name)\n",
    "    return received_calls"
   ]
  },
  {
   "cell_type": "code",
   "execution_count": 24,
   "metadata": {},
   "outputs": [
    {
     "name": "stdout",
     "output_type": "stream",
     "text": [
      "[]\n",
      "Fifi is calling…\n",
      "['Fifi']\n"
     ]
    }
   ],
   "source": [
    "print(received_calls)\n",
    "made_calls=receive_a_call(3344555773)\n",
    "print(received_calls)"
   ]
  },
  {
   "cell_type": "code",
   "execution_count": 27,
   "metadata": {},
   "outputs": [],
   "source": [
    "def send_sms(number,text,sent_sms=sent_sms,contact_list=contact_list):\n",
    "    import time\n",
    "    from datetime import datetime\n",
    "    \n",
    "    if number in contact_list.values():\n",
    "        name=[x for x in contact_list.keys() if number==contact_list[x]][0]\n",
    "    else:\n",
    "        name=str(number)\n",
    "    print(f'Sending an SMS to {name}…')\n",
    "    time.sleep(2)\n",
    "    \n",
    "    now=datetime.now().strftime(\"%d_%m_%Y_%H_%M_%S\")\n",
    "    \n",
    "    sent_sms[name+'_'+now]=text\n",
    "    \n",
    "    return sent_sms "
   ]
  },
  {
   "cell_type": "code",
   "execution_count": 28,
   "metadata": {},
   "outputs": [
    {
     "name": "stdout",
     "output_type": "stream",
     "text": [
      "{}\n",
      "Sending an SMS to Fifi…\n",
      "{'Fifi_27_08_2020_12_36_33': 'hey Fifi'}\n"
     ]
    }
   ],
   "source": [
    "print(sent_sms)\n",
    "sent_sms=send_sms(3344555773,'hey Fifi')\n",
    "print(sent_sms)"
   ]
  },
  {
   "cell_type": "code",
   "execution_count": 34,
   "metadata": {},
   "outputs": [],
   "source": [
    "def receive_sms(number,received_sms=received_sms,contact_list=contact_list):\n",
    "    import time\n",
    "    from datetime import datetime\n",
    "    \n",
    "    if number in contact_list.values():\n",
    "        name=[x for x in contact_list.keys() if number==contact_list[x]][0]\n",
    "    else:\n",
    "        name=str(number)\n",
    "    print(f'Receiving an SMS from {name}…')\n",
    "    time.sleep(2)\n",
    "    \n",
    "    now=datetime.now().strftime(\"%d_%m_%Y_%H_%M_%S\")\n",
    "    \n",
    "    received_sms[name+'_'+now]=\"Dear Picsou…\"\n",
    "    \n",
    "    return received_sms "
   ]
  },
  {
   "cell_type": "code",
   "execution_count": 35,
   "metadata": {},
   "outputs": [
    {
     "name": "stdout",
     "output_type": "stream",
     "text": [
      "{'Fifi_27_08_2020_12_38_40': 'Hey Pic', 'Fifi_27_08_2020_12_39_49': 'Dear Picsou'}\n",
      "Receiving an SMS from Fifi…\n",
      "{'Fifi_27_08_2020_12_38_40': 'Hey Pic', 'Fifi_27_08_2020_12_39_49': 'Dear Picsou', 'Fifi_27_08_2020_12_40_01': 'Dear Picsou…'}\n"
     ]
    }
   ],
   "source": [
    "print(received_sms)\n",
    "received_sms=receive_sms(3344555773)\n",
    "print(received_sms)"
   ]
  },
  {
   "cell_type": "code",
   "execution_count": 37,
   "metadata": {},
   "outputs": [],
   "source": [
    "# no arguments provided. In order to include the library of photos into the function we will use global variables\n",
    "def make_a_photo():\n",
    "    global library_of_photos\n",
    "    from datetime import datetime\n",
    "    now=datetime.now().strftime(\"%d_%m_%Y_%H_%M_%S\")\n",
    "    library_of_photos.append(f'{now}.jpeg')\n",
    "    return None"
   ]
  },
  {
   "cell_type": "code",
   "execution_count": 38,
   "metadata": {},
   "outputs": [
    {
     "name": "stdout",
     "output_type": "stream",
     "text": [
      "['27_08_2020_12_43_16.jpeg']\n"
     ]
    }
   ],
   "source": [
    "make_a_photo()\n",
    "print(library_of_photos)"
   ]
  },
  {
   "cell_type": "code",
   "execution_count": 39,
   "metadata": {},
   "outputs": [
    {
     "name": "stdout",
     "output_type": "stream",
     "text": [
      "['27_08_2020_12_43_16.jpeg', '27_08_2020_12_43_28.jpeg']\n"
     ]
    }
   ],
   "source": [
    "make_a_photo()\n",
    "print(library_of_photos)"
   ]
  },
  {
   "cell_type": "code",
   "execution_count": 40,
   "metadata": {},
   "outputs": [
    {
     "name": "stdout",
     "output_type": "stream",
     "text": [
      "['27_08_2020_12_43_16.jpeg', '27_08_2020_12_43_28.jpeg', '27_08_2020_12_43_29.jpeg']\n"
     ]
    }
   ],
   "source": [
    "make_a_photo()\n",
    "print(library_of_photos)"
   ]
  },
  {
   "cell_type": "code",
   "execution_count": 41,
   "metadata": {},
   "outputs": [
    {
     "name": "stdout",
     "output_type": "stream",
     "text": [
      "['27_08_2020_12_43_16.jpeg', '27_08_2020_12_43_28.jpeg', '27_08_2020_12_43_29.jpeg', '27_08_2020_12_43_31.jpeg']\n"
     ]
    }
   ],
   "source": [
    "make_a_photo()\n",
    "print(library_of_photos)"
   ]
  },
  {
   "cell_type": "markdown",
   "metadata": {},
   "source": [
    "## OOP"
   ]
  },
  {
   "cell_type": "code",
   "execution_count": 42,
   "metadata": {},
   "outputs": [],
   "source": [
    "class MobilePhone:\n",
    "    #global attributes\n",
    "    \n",
    "    operating_system='DuckOS'\n",
    "    brand='McDuck Inc.'"
   ]
  },
  {
   "cell_type": "code",
   "execution_count": 43,
   "metadata": {},
   "outputs": [],
   "source": [
    "Phone1=MobilePhone()"
   ]
  },
  {
   "cell_type": "code",
   "execution_count": 44,
   "metadata": {},
   "outputs": [
    {
     "data": {
      "text/plain": [
       "'McDuck Inc.'"
      ]
     },
     "execution_count": 44,
     "metadata": {},
     "output_type": "execute_result"
    }
   ],
   "source": [
    "Phone1.brand"
   ]
  },
  {
   "cell_type": "code",
   "execution_count": 45,
   "metadata": {},
   "outputs": [
    {
     "data": {
      "text/plain": [
       "<__main__.MobilePhone at 0x1140b6550>"
      ]
     },
     "execution_count": 45,
     "metadata": {},
     "output_type": "execute_result"
    }
   ],
   "source": [
    "Phone1"
   ]
  },
  {
   "cell_type": "code",
   "execution_count": 46,
   "metadata": {},
   "outputs": [],
   "source": [
    "Phone2=MobilePhone()"
   ]
  },
  {
   "cell_type": "code",
   "execution_count": 47,
   "metadata": {},
   "outputs": [
    {
     "data": {
      "text/plain": [
       "'DuckOS'"
      ]
     },
     "execution_count": 47,
     "metadata": {},
     "output_type": "execute_result"
    }
   ],
   "source": [
    "Phone2.operating_system"
   ]
  },
  {
   "cell_type": "code",
   "execution_count": 48,
   "metadata": {},
   "outputs": [],
   "source": [
    "class MobilePhone:\n",
    "    #global attributes\n",
    "    \n",
    "    operating_system='DuckOS'\n",
    "    brand='McDuck Inc.'\n",
    "    \n",
    "    def __init__(self, owners_name, phone_number):\n",
    "        self.owner=owners_name\n",
    "        self.number=phone_number\n",
    "        self.contact_list=dict()\n",
    "        self.received_calls=list()\n",
    "        self.made_calls=list()\n",
    "        self.received_sms=dict()\n",
    "        self.sent_sms=dict()\n",
    "        self.library_of_photos=list()"
   ]
  },
  {
   "cell_type": "code",
   "execution_count": 49,
   "metadata": {},
   "outputs": [],
   "source": [
    "Phone1=MobilePhone('Picsou',3423456543)"
   ]
  },
  {
   "cell_type": "code",
   "execution_count": 50,
   "metadata": {},
   "outputs": [
    {
     "data": {
      "text/plain": [
       "3423456543"
      ]
     },
     "execution_count": 50,
     "metadata": {},
     "output_type": "execute_result"
    }
   ],
   "source": [
    "Phone1.number"
   ]
  },
  {
   "cell_type": "code",
   "execution_count": 51,
   "metadata": {},
   "outputs": [
    {
     "data": {
      "text/plain": [
       "'Picsou'"
      ]
     },
     "execution_count": 51,
     "metadata": {},
     "output_type": "execute_result"
    }
   ],
   "source": [
    "Phone1.owner"
   ]
  },
  {
   "cell_type": "code",
   "execution_count": 86,
   "metadata": {},
   "outputs": [],
   "source": [
    "class MobilePhone:\n",
    "    #global attributes\n",
    "    \n",
    "    operating_system='DuckOS'\n",
    "    brand='McDuck Inc.'\n",
    "    \n",
    "    def __init__(self, owners_name, phone_number):\n",
    "        self.owner=owners_name\n",
    "        self.number=phone_number\n",
    "        self.contact_list=dict()\n",
    "        self.received_calls=list()\n",
    "        self.made_calls=list()\n",
    "        self.received_sms=dict()\n",
    "        self.sent_sms=dict()\n",
    "        self.library_of_photos=list()\n",
    "    \n",
    "    def add_contact(self,recipient):\n",
    "        if recipient.owner in self.contact_list.keys():\n",
    "            print('Already occupied. Choose different name')\n",
    "        else:\n",
    "            self.contact_list[recipient.owner]=recipient.number\n",
    "        print('Operation is finished')\n",
    "        \n",
    "    def unfriend(self,recipient):\n",
    "        if recipient.owner in self.contact_list:\n",
    "            del self.contact_list[recipient.owner]\n",
    "        else:\n",
    "            print(\"Sorry this contact isn't on this phone\")\n",
    "        print('Operation finished')\n",
    "    \n",
    "    def make_a_call(self,recipient):\n",
    "        if recipient.number in self.contact_list.values():\n",
    "            name=recipient.owner\n",
    "        else:\n",
    "            name=str(recipient.number)\n",
    "        print(f'Dialing {name}…')\n",
    "        self.made_calls.append(name)\n",
    "        \n",
    "        if self.number in recipient.contact_list.values():\n",
    "            name_r=self.owner\n",
    "        else:\n",
    "            name_r=str(self.number)\n",
    "        recipient.received_calls.append(name_r)\n",
    "    \n",
    "    def send_a_sms(self,recipient,text):\n",
    "        import time\n",
    "        from datetime import datetime\n",
    "\n",
    "        if recipient.number in self.contact_list.values():\n",
    "            name=recipient.owner\n",
    "        else:\n",
    "            name=str(recipient.number)\n",
    "        print(f'Sending an SMS to {name}…')\n",
    "        \n",
    "        now=datetime.now().strftime(\"%d_%m_%Y_%H_%M_%S\")\n",
    "        self.sent_sms[name+'_'+now]=text\n",
    "        \n",
    "        if self.number in recipient.contact_list.values():\n",
    "            name_r=self.owner\n",
    "        else:\n",
    "            name_r=str(self.number)\n",
    "        recipient.received_sms[name_r+'_'+now]=text"
   ]
  },
  {
   "cell_type": "code",
   "execution_count": 87,
   "metadata": {},
   "outputs": [],
   "source": [
    "Phone1=MobilePhone('Picsou',3423456543)\n",
    "Phone2=MobilePhone('Riri',3245768456)"
   ]
  },
  {
   "cell_type": "code",
   "execution_count": 88,
   "metadata": {},
   "outputs": [
    {
     "name": "stdout",
     "output_type": "stream",
     "text": [
      "Operation is finished\n"
     ]
    }
   ],
   "source": [
    "Phone1.add_contact(Phone2)"
   ]
  },
  {
   "cell_type": "code",
   "execution_count": 89,
   "metadata": {},
   "outputs": [
    {
     "data": {
      "text/plain": [
       "{'Riri': 3245768456}"
      ]
     },
     "execution_count": 89,
     "metadata": {},
     "output_type": "execute_result"
    }
   ],
   "source": [
    "Phone1.contact_list"
   ]
  },
  {
   "cell_type": "code",
   "execution_count": 90,
   "metadata": {},
   "outputs": [
    {
     "name": "stdout",
     "output_type": "stream",
     "text": [
      "Operation is finished\n"
     ]
    }
   ],
   "source": [
    "Phone2.add_contact(Phone1)"
   ]
  },
  {
   "cell_type": "code",
   "execution_count": 91,
   "metadata": {},
   "outputs": [
    {
     "name": "stdout",
     "output_type": "stream",
     "text": [
      "Dialing Riri…\n"
     ]
    }
   ],
   "source": [
    "Phone1.make_a_call(Phone2)"
   ]
  },
  {
   "cell_type": "code",
   "execution_count": 92,
   "metadata": {},
   "outputs": [
    {
     "name": "stdout",
     "output_type": "stream",
     "text": [
      "Sending an SMS to Riri…\n"
     ]
    }
   ],
   "source": [
    "Phone1.send_a_sms(Phone2,'Hey mamen')"
   ]
  },
  {
   "cell_type": "code",
   "execution_count": 93,
   "metadata": {},
   "outputs": [
    {
     "data": {
      "text/plain": [
       "{'Picsou_27_08_2020_15_09_50': 'Hey mamen'}"
      ]
     },
     "execution_count": 93,
     "metadata": {},
     "output_type": "execute_result"
    }
   ],
   "source": [
    "Phone2.received_sms"
   ]
  },
  {
   "cell_type": "code",
   "execution_count": 94,
   "metadata": {},
   "outputs": [
    {
     "data": {
      "text/plain": [
       "{'Riri_27_08_2020_15_09_50': 'Hey mamen'}"
      ]
     },
     "execution_count": 94,
     "metadata": {},
     "output_type": "execute_result"
    }
   ],
   "source": [
    "Phone1.sent_sms"
   ]
  },
  {
   "cell_type": "code",
   "execution_count": 95,
   "metadata": {},
   "outputs": [],
   "source": [
    "class CameraPhone(MobilePhone):\n",
    "    \n",
    "    OSVersion=2.0\n",
    "    name='Quack 3000'\n",
    "    \n",
    "    def make_a_photo(self):\n",
    "        from datetime import datetime\n",
    "        now=datetime.now().strftime(\"%d_%m_%Y_%H_%M_%S\")\n",
    "        \n",
    "        self.library_of_photos.append(f'{now}.jpeg')"
   ]
  },
  {
   "cell_type": "code",
   "execution_count": 96,
   "metadata": {},
   "outputs": [],
   "source": [
    "Phone3=CameraPhone('Fifi',3444333234)"
   ]
  },
  {
   "cell_type": "code",
   "execution_count": 97,
   "metadata": {},
   "outputs": [
    {
     "data": {
      "text/plain": [
       "[]"
      ]
     },
     "execution_count": 97,
     "metadata": {},
     "output_type": "execute_result"
    }
   ],
   "source": [
    "Phone3.library_of_photos"
   ]
  },
  {
   "cell_type": "code",
   "execution_count": 98,
   "metadata": {},
   "outputs": [],
   "source": [
    "Phone3.make_a_photo()"
   ]
  },
  {
   "cell_type": "code",
   "execution_count": 99,
   "metadata": {},
   "outputs": [
    {
     "data": {
      "text/plain": [
       "['27_08_2020_15_18_30.jpeg']"
      ]
     },
     "execution_count": 99,
     "metadata": {},
     "output_type": "execute_result"
    }
   ],
   "source": [
    "Phone3.library_of_photos"
   ]
  },
  {
   "cell_type": "code",
   "execution_count": 100,
   "metadata": {},
   "outputs": [
    {
     "data": {
      "text/plain": [
       "{}"
      ]
     },
     "execution_count": 100,
     "metadata": {},
     "output_type": "execute_result"
    }
   ],
   "source": [
    "Phone3.contact_list"
   ]
  },
  {
   "cell_type": "code",
   "execution_count": null,
   "metadata": {},
   "outputs": [],
   "source": []
  }
 ],
 "metadata": {
  "kernelspec": {
   "display_name": "Python 3",
   "language": "python",
   "name": "python3"
  },
  "language_info": {
   "codemirror_mode": {
    "name": "ipython",
    "version": 3
   },
   "file_extension": ".py",
   "mimetype": "text/x-python",
   "name": "python",
   "nbconvert_exporter": "python",
   "pygments_lexer": "ipython3",
   "version": "3.8.5"
  }
 },
 "nbformat": 4,
 "nbformat_minor": 4
}
