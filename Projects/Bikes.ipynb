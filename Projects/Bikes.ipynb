{
 "cells": [
  {
   "cell_type": "code",
   "execution_count": 1,
   "metadata": {},
   "outputs": [],
   "source": [
    "import pandas as pd "
   ]
  },
  {
   "cell_type": "code",
   "execution_count": 4,
   "metadata": {},
   "outputs": [],
   "source": [
    "df=pd.read_csv('/Users/etienneleconte/Downloads/comptage-velo-donnees-compteurs (1).csv', sep=';')"
   ]
  },
  {
   "cell_type": "code",
   "execution_count": 6,
   "metadata": {},
   "outputs": [
    {
     "data": {
      "text/plain": [
       "(755470, 9)"
      ]
     },
     "execution_count": 6,
     "metadata": {},
     "output_type": "execute_result"
    }
   ],
   "source": [
    "df.shape"
   ]
  },
  {
   "cell_type": "code",
   "execution_count": 7,
   "metadata": {},
   "outputs": [
    {
     "data": {
      "text/html": [
       "<div>\n",
       "<style scoped>\n",
       "    .dataframe tbody tr th:only-of-type {\n",
       "        vertical-align: middle;\n",
       "    }\n",
       "\n",
       "    .dataframe tbody tr th {\n",
       "        vertical-align: top;\n",
       "    }\n",
       "\n",
       "    .dataframe thead th {\n",
       "        text-align: right;\n",
       "    }\n",
       "</style>\n",
       "<table border=\"1\" class=\"dataframe\">\n",
       "  <thead>\n",
       "    <tr style=\"text-align: right;\">\n",
       "      <th></th>\n",
       "      <th>Identifiant du compteur</th>\n",
       "      <th>Nom du compteur</th>\n",
       "      <th>Identifiant du site de comptage</th>\n",
       "      <th>Nom du site de comptage</th>\n",
       "      <th>Comptage horaire</th>\n",
       "      <th>Date et heure de comptage</th>\n",
       "      <th>Date d'installation du site de comptage</th>\n",
       "      <th>Lien vers photo du site de comptage</th>\n",
       "      <th>Coordonnées géographiques</th>\n",
       "    </tr>\n",
       "  </thead>\n",
       "  <tbody>\n",
       "    <tr>\n",
       "      <th>0</th>\n",
       "      <td>100003096-SC</td>\n",
       "      <td>97 avenue Denfert Rochereau SO-NE</td>\n",
       "      <td>100003096</td>\n",
       "      <td>97 avenue Denfert Rochereau SO-NE</td>\n",
       "      <td>1</td>\n",
       "      <td>2019-08-01T04:00:00+02:00</td>\n",
       "      <td>2012-02-22</td>\n",
       "      <td>https://www.eco-visio.net/Photos/100003096/157...</td>\n",
       "      <td>48.83511,2.33338</td>\n",
       "    </tr>\n",
       "    <tr>\n",
       "      <th>1</th>\n",
       "      <td>100003096-SC</td>\n",
       "      <td>97 avenue Denfert Rochereau SO-NE</td>\n",
       "      <td>100003096</td>\n",
       "      <td>97 avenue Denfert Rochereau SO-NE</td>\n",
       "      <td>0</td>\n",
       "      <td>2019-08-01T06:00:00+02:00</td>\n",
       "      <td>2012-02-22</td>\n",
       "      <td>https://www.eco-visio.net/Photos/100003096/157...</td>\n",
       "      <td>48.83511,2.33338</td>\n",
       "    </tr>\n",
       "    <tr>\n",
       "      <th>2</th>\n",
       "      <td>100003096-SC</td>\n",
       "      <td>97 avenue Denfert Rochereau SO-NE</td>\n",
       "      <td>100003096</td>\n",
       "      <td>97 avenue Denfert Rochereau SO-NE</td>\n",
       "      <td>0</td>\n",
       "      <td>2019-08-01T03:00:00+02:00</td>\n",
       "      <td>2012-02-22</td>\n",
       "      <td>https://www.eco-visio.net/Photos/100003096/157...</td>\n",
       "      <td>48.83511,2.33338</td>\n",
       "    </tr>\n",
       "    <tr>\n",
       "      <th>3</th>\n",
       "      <td>100003096-SC</td>\n",
       "      <td>97 avenue Denfert Rochereau SO-NE</td>\n",
       "      <td>100003096</td>\n",
       "      <td>97 avenue Denfert Rochereau SO-NE</td>\n",
       "      <td>6</td>\n",
       "      <td>2019-08-01T07:00:00+02:00</td>\n",
       "      <td>2012-02-22</td>\n",
       "      <td>https://www.eco-visio.net/Photos/100003096/157...</td>\n",
       "      <td>48.83511,2.33338</td>\n",
       "    </tr>\n",
       "    <tr>\n",
       "      <th>4</th>\n",
       "      <td>100003096-SC</td>\n",
       "      <td>97 avenue Denfert Rochereau SO-NE</td>\n",
       "      <td>100003096</td>\n",
       "      <td>97 avenue Denfert Rochereau SO-NE</td>\n",
       "      <td>21</td>\n",
       "      <td>2019-08-01T08:00:00+02:00</td>\n",
       "      <td>2012-02-22</td>\n",
       "      <td>https://www.eco-visio.net/Photos/100003096/157...</td>\n",
       "      <td>48.83511,2.33338</td>\n",
       "    </tr>\n",
       "  </tbody>\n",
       "</table>\n",
       "</div>"
      ],
      "text/plain": [
       "  Identifiant du compteur                    Nom du compteur  \\\n",
       "0            100003096-SC  97 avenue Denfert Rochereau SO-NE   \n",
       "1            100003096-SC  97 avenue Denfert Rochereau SO-NE   \n",
       "2            100003096-SC  97 avenue Denfert Rochereau SO-NE   \n",
       "3            100003096-SC  97 avenue Denfert Rochereau SO-NE   \n",
       "4            100003096-SC  97 avenue Denfert Rochereau SO-NE   \n",
       "\n",
       "   Identifiant du site de comptage            Nom du site de comptage  \\\n",
       "0                        100003096  97 avenue Denfert Rochereau SO-NE   \n",
       "1                        100003096  97 avenue Denfert Rochereau SO-NE   \n",
       "2                        100003096  97 avenue Denfert Rochereau SO-NE   \n",
       "3                        100003096  97 avenue Denfert Rochereau SO-NE   \n",
       "4                        100003096  97 avenue Denfert Rochereau SO-NE   \n",
       "\n",
       "   Comptage horaire  Date et heure de comptage  \\\n",
       "0                 1  2019-08-01T04:00:00+02:00   \n",
       "1                 0  2019-08-01T06:00:00+02:00   \n",
       "2                 0  2019-08-01T03:00:00+02:00   \n",
       "3                 6  2019-08-01T07:00:00+02:00   \n",
       "4                21  2019-08-01T08:00:00+02:00   \n",
       "\n",
       "  Date d'installation du site de comptage  \\\n",
       "0                              2012-02-22   \n",
       "1                              2012-02-22   \n",
       "2                              2012-02-22   \n",
       "3                              2012-02-22   \n",
       "4                              2012-02-22   \n",
       "\n",
       "                 Lien vers photo du site de comptage Coordonnées géographiques  \n",
       "0  https://www.eco-visio.net/Photos/100003096/157...          48.83511,2.33338  \n",
       "1  https://www.eco-visio.net/Photos/100003096/157...          48.83511,2.33338  \n",
       "2  https://www.eco-visio.net/Photos/100003096/157...          48.83511,2.33338  \n",
       "3  https://www.eco-visio.net/Photos/100003096/157...          48.83511,2.33338  \n",
       "4  https://www.eco-visio.net/Photos/100003096/157...          48.83511,2.33338  "
      ]
     },
     "execution_count": 7,
     "metadata": {},
     "output_type": "execute_result"
    }
   ],
   "source": [
    "df.head()"
   ]
  },
  {
   "cell_type": "code",
   "execution_count": null,
   "metadata": {},
   "outputs": [],
   "source": []
  }
 ],
 "metadata": {
  "kernelspec": {
   "display_name": "Python 3",
   "language": "python",
   "name": "python3"
  },
  "language_info": {
   "codemirror_mode": {
    "name": "ipython",
    "version": 3
   },
   "file_extension": ".py",
   "mimetype": "text/x-python",
   "name": "python",
   "nbconvert_exporter": "python",
   "pygments_lexer": "ipython3",
   "version": "3.8.5"
  }
 },
 "nbformat": 4,
 "nbformat_minor": 4
}
