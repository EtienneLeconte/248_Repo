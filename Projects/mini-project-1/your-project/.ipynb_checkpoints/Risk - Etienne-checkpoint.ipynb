{
 "cells": [
  {
   "cell_type": "code",
   "execution_count": 1,
   "metadata": {},
   "outputs": [
    {
     "data": {
      "text/html": [
       "<img src=\"https://derekmeetsworld.files.wordpress.com/2016/12/world-domination-game-board-2-1-1.jpg\"/>"
      ],
      "text/plain": [
       "<IPython.core.display.Image object>"
      ]
     },
     "execution_count": 1,
     "metadata": {},
     "output_type": "execute_result"
    }
   ],
   "source": [
    "from IPython.display import Image\n",
    "from IPython.core.display import HTML \n",
    "Image(url= \"https://derekmeetsworld.files.wordpress.com/2016/12/world-domination-game-board-2-1-1.jpg\")"
   ]
  },
  {
   "cell_type": "code",
   "execution_count": 2,
   "metadata": {},
   "outputs": [],
   "source": [
    "dice=list(range(1,7))\n",
    "\n",
    "class Player:\n",
    "    \n",
    "    # Local Attributes\n",
    "    \n",
    "    def __init__(self,name):\n",
    "        self.name=name\n",
    "        self.available_soldiers=15\n",
    "        self.territories=dict()\n",
    "        \n",
    "    # Functions\n",
    "    \n",
    "    def take(self,*countries):\n",
    "        for country in countries:\n",
    "            if country.owner==None:\n",
    "                country.owner=self.name\n",
    "                self.territories[country.name]=0\n",
    "                print(f'{self.name} has taken control of {country.name}')\n",
    "            else:\n",
    "                print(f'{country.name} already belongs to {country.owner}! You have to fight to get it.')\n",
    "                \n",
    "    def move_soldiers(self, country, nb_soldier):\n",
    "        if nb_soldier>self.available_soldiers:\n",
    "            print(f'{self.name} doesn\\' have enough soldiers available to make this move')\n",
    "        elif self.name!=country.owner:\n",
    "            print(f'{self.name} is not the owner of {country.name}. You have to fight to get it.')\n",
    "        else:\n",
    "            country.nb_soldier+=nb_soldier\n",
    "            self.available_soldiers-=nb_soldier\n",
    "            self.territories[country.name]+=nb_soldier\n",
    "            print(f'{nb_soldier} have been placed on {country.name}')\n",
    "    \n",
    "    def attack(self, self_country, defense, defense_country):\n",
    "        import random\n",
    "        if self_country.name not in defense_country.neighbours:\n",
    "            print('Sorry, you can\\'t attack this country. You need to be next to the country to attack')\n",
    "        else:\n",
    "            if self_country.nb_soldier <= 1:\n",
    "                print ('Sorry, you don\\'t have enough soldier to attack')\n",
    "            else:\n",
    "                while self_country.nb_soldier > 1 and defense_country.nb_soldier > 0:\n",
    "                    if self_country.nb_soldier-1 >=3:\n",
    "                        nb_dice_attack=3\n",
    "                    else:\n",
    "                        nb_dice_attack=self_country.nb_soldier-1\n",
    "                    if defense_country.nb_soldier >=2:\n",
    "                        nb_dice_defense=2\n",
    "                    else:\n",
    "                        nb_dice_defense=1\n",
    "                    attack_dice = random.choices(dice,k=nb_dice_attack)\n",
    "                    defense_dice = random.choices(dice,k=nb_dice_defense)\n",
    "                    if len(attack_dice)==3:\n",
    "                        attack_dice.remove(min(attack_dice))\n",
    "                    else:\n",
    "                        pass\n",
    "                    while len(attack_dice)>0 and len(defense_dice)>0:\n",
    "                        if max(attack_dice) > max(defense_dice):\n",
    "                            defense_country.nb_soldier += -1\n",
    "                            defense.territories[defense_country.name]-=1\n",
    "                            attack_dice.remove(max(attack_dice))\n",
    "                            defense_dice.remove(min(defense_dice))\n",
    "                            print('Attack wins')\n",
    "                        else:\n",
    "                            self_country.nb_soldier += -1\n",
    "                            self.territories[self_country.name]-=1\n",
    "                            attack_dice.remove(max(attack_dice))\n",
    "                            defense_dice.remove(min(defense_dice))\n",
    "                            print('Defense wins')\n",
    "                        print(f'{self_country.name} has {self_country.nb_soldier} left, {defense_country.name} has {defense_country.nb_soldier} left')\n",
    "                    if defense_country.nb_soldier==0:\n",
    "                        print(f'{self.name} defeated {defense.name} and conquered {defense_country.name}')\n",
    "                        defense_country.owner=self.name\n",
    "                        defense_country.nb_soldier=self_country.nb_soldier-1\n",
    "                        self.territories[defense_country.name]=defense_country.nb_soldier\n",
    "                        self_country.nb_soldier=1\n",
    "                        self.territories[self_country.name]=1\n",
    "                        del defense.territories[defense_country.name]\n",
    "                        break\n",
    "                    else:\n",
    "                        decision=input('Do you want to attack again?')\n",
    "                        while decision not in ['Yes','yes','No','no']:\n",
    "                            decision=input('Do you want to attack again?')\n",
    "                        if (decision == 'No') | (decision == 'no'):\n",
    "                            print('End of the attack - The attack failed')\n",
    "                            break\n",
    "                            \n",
    "            \n",
    "\n",
    "class Country:\n",
    "    \n",
    "    \n",
    "    # Local Attributes\n",
    "    \n",
    "    def __init__(self,name,continent):\n",
    "        self.name=name\n",
    "        self.continent=continent\n",
    "        self.owner=None\n",
    "        self.neighbours=list()\n",
    "        self.nb_soldier=0\n",
    "    \n",
    "    # Functions\n",
    "    \n",
    "    def create_borders(self,*countries):\n",
    "        for country in countries:\n",
    "            if country.name in self.neighbours:\n",
    "                print('This border already exists')\n",
    "            else:\n",
    "                self.neighbours.append(country.name)\n",
    "                country.neighbours.append(self.name)\n",
    "                print(f'The border have been created between {self.name} and {country.name}')\n",
    "    "
   ]
  },
  {
   "cell_type": "markdown",
   "metadata": {},
   "source": [
    "## Players creation"
   ]
  },
  {
   "cell_type": "code",
   "execution_count": 3,
   "metadata": {},
   "outputs": [],
   "source": [
    "Etienne=Player('Etienne')\n",
    "Geoffroy=Player('Geoffroy')"
   ]
  },
  {
   "cell_type": "markdown",
   "metadata": {},
   "source": [
    "## Countries and borders creation"
   ]
  },
  {
   "cell_type": "code",
   "execution_count": 4,
   "metadata": {},
   "outputs": [],
   "source": [
    "Western_Europe=Country('Western_Europe','Europe')\n",
    "Eastern_Europe=Country('Eastern_Europe','Europe')\n",
    "Northern_Europe=Country('Northern_Europe','Europe')\n",
    "Great_Britain=Country('Great_Britain','Europe')\n",
    "Island=Country('Island','Europe')\n",
    "Scandinavia=Country('Scandinavia','Europe')\n",
    "Ukraine=Country('Ukraine','Europe')"
   ]
  },
  {
   "cell_type": "code",
   "execution_count": 5,
   "metadata": {},
   "outputs": [
    {
     "name": "stdout",
     "output_type": "stream",
     "text": [
      "The border have been created between Western_Europe and Eastern_Europe\n",
      "The border have been created between Western_Europe and Northern_Europe\n",
      "The border have been created between Western_Europe and Great_Britain\n",
      "The border have been created between Eastern_Europe and Northern_Europe\n",
      "The border have been created between Eastern_Europe and Ukraine\n",
      "The border have been created between Northern_Europe and Ukraine\n",
      "The border have been created between Northern_Europe and Great_Britain\n",
      "The border have been created between Northern_Europe and Scandinavia\n",
      "The border have been created between Ukraine and Scandinavia\n",
      "The border have been created between Scandinavia and Great_Britain\n",
      "The border have been created between Scandinavia and Island\n",
      "The border have been created between Island and Great_Britain\n"
     ]
    }
   ],
   "source": [
    "Western_Europe.create_borders(Eastern_Europe,Northern_Europe,Great_Britain)\n",
    "Eastern_Europe.create_borders(Northern_Europe,Ukraine)\n",
    "Northern_Europe.create_borders(Ukraine,Great_Britain,Scandinavia)\n",
    "Ukraine.create_borders(Scandinavia)\n",
    "Scandinavia.create_borders(Great_Britain,Island)\n",
    "Island.create_borders(Great_Britain)"
   ]
  },
  {
   "cell_type": "markdown",
   "metadata": {},
   "source": [
    "## Initialization"
   ]
  },
  {
   "cell_type": "code",
   "execution_count": null,
   "metadata": {},
   "outputs": [],
   "source": []
  },
  {
   "cell_type": "markdown",
   "metadata": {},
   "source": [
    "## GAME TIME"
   ]
  },
  {
   "cell_type": "code",
   "execution_count": 10,
   "metadata": {},
   "outputs": [
    {
     "name": "stdout",
     "output_type": "stream",
     "text": [
      "Etienne, it is your turn to attack! From where do you want to attack? As a reminder, here are your forces: {'Eastern_Europe': 9}Eastern_Europe\n",
      "Very well General! What country should we attack? As a reminder, we can attack these countries: ['Western_Europe']Western_Europe\n",
      "Attack wins\n",
      "Eastern_Europe has 9 left, Western_Europe has 1 left\n",
      "Defense wins\n",
      "Eastern_Europe has 8 left, Western_Europe has 1 left\n",
      "Do you want to attack again?No\n",
      "End of the attack - The attack failed\n",
      "Geoffroy, it is your turn to attack! From where do you want to attack? As a reminder, here are your forces: {'Western_Europe': 1}Western_Europe\n"
     ]
    },
    {
     "ename": "KeyboardInterrupt",
     "evalue": "Interrupted by user",
     "output_type": "error",
     "traceback": [
      "\u001b[0;31m---------------------------------------------------------------------------\u001b[0m",
      "\u001b[0;31mKeyboardInterrupt\u001b[0m                         Traceback (most recent call last)",
      "\u001b[0;32m<ipython-input-10-e155b05d7b34>\u001b[0m in \u001b[0;36m<module>\u001b[0;34m\u001b[0m\n\u001b[1;32m     29\u001b[0m         \u001b[0;32mwhile\u001b[0m \u001b[0mflag\u001b[0m\u001b[0;34m:\u001b[0m\u001b[0;34m\u001b[0m\u001b[0;34m\u001b[0m\u001b[0m\n\u001b[1;32m     30\u001b[0m             \u001b[0;32mif\u001b[0m \u001b[0meval\u001b[0m\u001b[0;34m(\u001b[0m\u001b[0mattack1\u001b[0m\u001b[0;34m)\u001b[0m\u001b[0;34m.\u001b[0m\u001b[0mnb_soldier\u001b[0m\u001b[0;34m<=\u001b[0m\u001b[0;36m1\u001b[0m\u001b[0;34m:\u001b[0m\u001b[0;34m\u001b[0m\u001b[0;34m\u001b[0m\u001b[0m\n\u001b[0;32m---> 31\u001b[0;31m                 \u001b[0mattack1\u001b[0m\u001b[0;34m=\u001b[0m\u001b[0minput\u001b[0m\u001b[0;34m(\u001b[0m\u001b[0;34mf'This country does not have enough soldiers General! From where else do you want to attack? As a reminder, here are your forces: {Geoffroy.territories}'\u001b[0m\u001b[0;34m)\u001b[0m\u001b[0;34m\u001b[0m\u001b[0;34m\u001b[0m\u001b[0m\n\u001b[0m\u001b[1;32m     32\u001b[0m                 \u001b[0;32mcontinue\u001b[0m\u001b[0;34m\u001b[0m\u001b[0;34m\u001b[0m\u001b[0m\n\u001b[1;32m     33\u001b[0m             \u001b[0;32melse\u001b[0m\u001b[0;34m:\u001b[0m\u001b[0;34m\u001b[0m\u001b[0;34m\u001b[0m\u001b[0m\n",
      "\u001b[0;32m/usr/local/Cellar/jupyterlab/2.2.0/libexec/lib/python3.8/site-packages/ipykernel/kernelbase.py\u001b[0m in \u001b[0;36mraw_input\u001b[0;34m(self, prompt)\u001b[0m\n\u001b[1;32m    858\u001b[0m                 \u001b[0;34m\"raw_input was called, but this frontend does not support input requests.\"\u001b[0m\u001b[0;34m\u001b[0m\u001b[0;34m\u001b[0m\u001b[0m\n\u001b[1;32m    859\u001b[0m             )\n\u001b[0;32m--> 860\u001b[0;31m         return self._input_request(str(prompt),\n\u001b[0m\u001b[1;32m    861\u001b[0m             \u001b[0mself\u001b[0m\u001b[0;34m.\u001b[0m\u001b[0m_parent_ident\u001b[0m\u001b[0;34m,\u001b[0m\u001b[0;34m\u001b[0m\u001b[0;34m\u001b[0m\u001b[0m\n\u001b[1;32m    862\u001b[0m             \u001b[0mself\u001b[0m\u001b[0;34m.\u001b[0m\u001b[0m_parent_header\u001b[0m\u001b[0;34m,\u001b[0m\u001b[0;34m\u001b[0m\u001b[0;34m\u001b[0m\u001b[0m\n",
      "\u001b[0;32m/usr/local/Cellar/jupyterlab/2.2.0/libexec/lib/python3.8/site-packages/ipykernel/kernelbase.py\u001b[0m in \u001b[0;36m_input_request\u001b[0;34m(self, prompt, ident, parent, password)\u001b[0m\n\u001b[1;32m    902\u001b[0m             \u001b[0;32mexcept\u001b[0m \u001b[0mKeyboardInterrupt\u001b[0m\u001b[0;34m:\u001b[0m\u001b[0;34m\u001b[0m\u001b[0;34m\u001b[0m\u001b[0m\n\u001b[1;32m    903\u001b[0m                 \u001b[0;31m# re-raise KeyboardInterrupt, to truncate traceback\u001b[0m\u001b[0;34m\u001b[0m\u001b[0;34m\u001b[0m\u001b[0;34m\u001b[0m\u001b[0m\n\u001b[0;32m--> 904\u001b[0;31m                 \u001b[0;32mraise\u001b[0m \u001b[0mKeyboardInterrupt\u001b[0m\u001b[0;34m(\u001b[0m\u001b[0;34m\"Interrupted by user\"\u001b[0m\u001b[0;34m)\u001b[0m \u001b[0;32mfrom\u001b[0m \u001b[0;32mNone\u001b[0m\u001b[0;34m\u001b[0m\u001b[0;34m\u001b[0m\u001b[0m\n\u001b[0m\u001b[1;32m    905\u001b[0m             \u001b[0;32mexcept\u001b[0m \u001b[0mException\u001b[0m \u001b[0;32mas\u001b[0m \u001b[0me\u001b[0m\u001b[0;34m:\u001b[0m\u001b[0;34m\u001b[0m\u001b[0;34m\u001b[0m\u001b[0m\n\u001b[1;32m    906\u001b[0m                 \u001b[0mself\u001b[0m\u001b[0;34m.\u001b[0m\u001b[0mlog\u001b[0m\u001b[0;34m.\u001b[0m\u001b[0mwarning\u001b[0m\u001b[0;34m(\u001b[0m\u001b[0;34m\"Invalid Message:\"\u001b[0m\u001b[0;34m,\u001b[0m \u001b[0mexc_info\u001b[0m\u001b[0;34m=\u001b[0m\u001b[0;32mTrue\u001b[0m\u001b[0;34m)\u001b[0m\u001b[0;34m\u001b[0m\u001b[0;34m\u001b[0m\u001b[0m\n",
      "\u001b[0;31mKeyboardInterrupt\u001b[0m: Interrupted by user"
     ]
    }
   ],
   "source": [
    "game=1\n",
    "while game:\n",
    "    flag=1\n",
    "    attack1=input(f'Etienne, it is your turn to attack! From where do you want to attack? As a reminder, here are your forces: {Etienne.territories}')\n",
    "    while flag:\n",
    "        if eval(attack1).nb_soldier<=1:\n",
    "            attack1=input(f'This country does not have enough soldiers General! From where else do you want to attack? As a reminder, here are your forces: {Etienne.territories}')\n",
    "            continue\n",
    "        else:\n",
    "            flag=0\n",
    "    possible_attacks=[i for i in eval(attack1).neighbours if eval(i).owner==\"Geoffroy\"]\n",
    "    flag=1\n",
    "    attack2=input(f'Very well General! What country should we attack? As a reminder, we can attack these countries: {possible_attacks}')\n",
    "    while flag:\n",
    "        if attack2 not in possible_attacks:\n",
    "            attack2=input(f'This country belongs to us General! Where do you want to attack? As a reminder, we can attack these countries: {possible_attacks}')\n",
    "            continue\n",
    "        else:\n",
    "            flag=0\n",
    "            \n",
    "    Etienne.attack(eval(attack1),Geoffroy,eval(attack2))\n",
    "    \n",
    "    if (len(Geoffroy.territories)==0):\n",
    "        game=0\n",
    "        print('The winner is Etienne! Congrats to him, he conquered the world!')\n",
    "    else:\n",
    "        flag=1\n",
    "        attack1=input(f'Geoffroy, it is your turn to attack! From where do you want to attack? As a reminder, here are your forces: {Geoffroy.territories}')\n",
    "        while flag:\n",
    "            if eval(attack1).nb_soldier<=1:\n",
    "                attack1=input(f'This country does not have enough soldiers General! From where else do you want to attack? As a reminder, here are your forces: {Geoffroy.territories}')\n",
    "                continue\n",
    "            else:\n",
    "                flag=0\n",
    "        possible_attacks=[i for i in eval(attack1).neighbours if eval(i).owner==\"Etienne\"]\n",
    "        flag=1\n",
    "        attack2=input(f'Very well General! What country should we attack? As a reminder, we can attack these countries: {possible_attacks}')\n",
    "        while flag:\n",
    "            if attack2 not in possible_attacks:\n",
    "                attack2=input(f'This country belongs to us General! Where do you want to attack? As a reminder, here are your forces: {possible_attacks}')\n",
    "                continue\n",
    "            else:\n",
    "                flag=0\n",
    "\n",
    "        Geoffroy.attack(eval(attack1),Etienne,eval(attack2))\n",
    "        \n",
    "        if (len(Etienne.territories)==0):\n",
    "            game=0\n",
    "            print('The winner is Geoffroy! Congrats to him, he conquered the world!')\n",
    "        else:\n",
    "            continue"
   ]
  },
  {
   "cell_type": "code",
   "execution_count": null,
   "metadata": {},
   "outputs": [],
   "source": []
  }
 ],
 "metadata": {
  "kernelspec": {
   "display_name": "Python 3",
   "language": "python",
   "name": "python3"
  },
  "language_info": {
   "codemirror_mode": {
    "name": "ipython",
    "version": 3
   },
   "file_extension": ".py",
   "mimetype": "text/x-python",
   "name": "python",
   "nbconvert_exporter": "python",
   "pygments_lexer": "ipython3",
   "version": "3.8.5"
  }
 },
 "nbformat": 4,
 "nbformat_minor": 4
}
