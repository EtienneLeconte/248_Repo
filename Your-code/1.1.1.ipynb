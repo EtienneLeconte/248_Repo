{
 "cells": [
  {
   "cell_type": "code",
   "execution_count": 1,
   "metadata": {},
   "outputs": [
    {
     "ename": "SyntaxError",
     "evalue": "invalid syntax (<ipython-input-1-8a17015a2a79>, line 2)",
     "output_type": "error",
     "traceback": [
      "\u001b[0;36m  File \u001b[0;32m\"<ipython-input-1-8a17015a2a79>\"\u001b[0;36m, line \u001b[0;32m2\u001b[0m\n\u001b[0;31m    I live in Villejuif. It takes me 30 min to reach Deskopolitaine from home by bike.\u001b[0m\n\u001b[0m      ^\u001b[0m\n\u001b[0;31mSyntaxError\u001b[0m\u001b[0;31m:\u001b[0m invalid syntax\n"
     ]
    }
   ],
   "source": [
    "## Exercise\n",
    "I live in Villejuif. It takes me 30 min to reach Deskopolitaine from home by bike.\n",
    "THe only obstacles that I can meet is rain. I dont want to get wet. Therefore when it is raining, I am taking metro. It increases  my commute time by 20 min.\n",
    "Apart from that, my commute time may depend on the traffic jams. As we all know, traffic jams are not rear in Paris Metro. Therefore, if there is a traffic jam in metro and I am taking metro, it may increase the commute time by additional 15 min.\n",
    "Right down the code that would calculate the commute time of mine depending on whether it is raining or not and whether there is a traffic jam or not."
   ]
  },
  {
   "cell_type": "code",
   "execution_count": 8,
   "metadata": {},
   "outputs": [
    {
     "name": "stdout",
     "output_type": "stream",
     "text": [
      "50\n"
     ]
    }
   ],
   "source": [
    "rain = True\n",
    "traffic = False\n",
    "commute_time = (30 + rain*20 + traffic*15)\n",
    "print(commute_time)\n",
    "\n"
   ]
  },
  {
   "cell_type": "code",
   "execution_count": null,
   "metadata": {},
   "outputs": [],
   "source": []
  }
 ],
 "metadata": {
  "kernelspec": {
   "display_name": "Python 3",
   "language": "python",
   "name": "python3"
  },
  "language_info": {
   "codemirror_mode": {
    "name": "ipython",
    "version": 3
   },
   "file_extension": ".py",
   "mimetype": "text/x-python",
   "name": "python",
   "nbconvert_exporter": "python",
   "pygments_lexer": "ipython3",
   "version": "3.8.5"
  }
 },
 "nbformat": 4,
 "nbformat_minor": 4
}
