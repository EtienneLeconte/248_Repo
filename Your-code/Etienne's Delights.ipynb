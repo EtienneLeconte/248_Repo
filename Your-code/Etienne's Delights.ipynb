{
 "cells": [
  {
   "cell_type": "code",
   "execution_count": 1,
   "metadata": {},
   "outputs": [],
   "source": [
    "class Customer:\n",
    "    \n",
    "    # LOCAL ATTRIBUTES\n",
    "    \n",
    "    def __init__(self,name):\n",
    "        self.name=name\n",
    "        self.restaurant_visited=dict()\n",
    "\n",
    "\n",
    "class Restaurant:\n",
    "    \n",
    "    # GLOBAL ATTRIBUTES\n",
    "    \n",
    "    brand=\"Etienne's Delights\"\n",
    "    type_of_food=\"French cuisine\"\n",
    "    \n",
    "    # LOCAL ATTRIBUTES\n",
    "    \n",
    "    def __init__(self, name, city, capacity):\n",
    "        self.name=name\n",
    "        self.city=city\n",
    "        self.capacity=capacity\n",
    "        self.menu=dict()\n",
    "        self.staff=dict()\n",
    "        self.client_list=dict()\n",
    "        self.orders=dict()\n",
    "        self.revenue=0\n",
    "    \n",
    "    # FUNCTIONS\n",
    "    \n",
    "    def manage_staff(self,position,nb_recruits):\n",
    "        if position in self.staff.keys():\n",
    "            self.staff[position]+=nb_recruits\n",
    "        else:\n",
    "            self.staff[position]=nb_recruits\n",
    "        print('HR operations finished')\n",
    "        \n",
    "    def add_to_menu(self,dish,price):\n",
    "        self.menu[dish]=price\n",
    "        print('Menu is up to date')\n",
    "        \n",
    "    def remove_from_menu(self,dish):\n",
    "        del self.menu[dish]\n",
    "        print('Dish removed from menu')\n",
    "    \n",
    "    def client_visit(self,client,order):\n",
    "        if client.name in self.client_list.keys():\n",
    "            self.client_list[client.name]+=1\n",
    "            print(f'Nice to see you again {client.name}!')\n",
    "        else:\n",
    "            self.client_list[client.name]=1\n",
    "            print(f'Hello {client.name}! Welcome to {self.name}!')\n",
    "        \n",
    "        if self.name in client.restaurant_visited.keys():\n",
    "            client.restaurant_visited[self.name]+=1\n",
    "        else:\n",
    "            client.restaurant_visited[self.name]=1\n",
    "        \n",
    "        self.orders[order]=self.menu[order]\n",
    "        \n",
    "        self.revenue+=self.menu[order]\n",
    "        \n",
    "        print(f'Here you go, enjoy your {order}! That will be {self.menu[order]} euros please :)')\n",
    "    \n",
    "        "
   ]
  },
  {
   "cell_type": "code",
   "execution_count": 2,
   "metadata": {},
   "outputs": [],
   "source": [
    "Branch1=Restaurant('Paris branch','Paris',55)"
   ]
  },
  {
   "cell_type": "code",
   "execution_count": 3,
   "metadata": {},
   "outputs": [
    {
     "data": {
      "text/plain": [
       "'French cuisine'"
      ]
     },
     "execution_count": 3,
     "metadata": {},
     "output_type": "execute_result"
    }
   ],
   "source": [
    "Branch1.type_of_food"
   ]
  },
  {
   "cell_type": "code",
   "execution_count": 4,
   "metadata": {},
   "outputs": [
    {
     "name": "stdout",
     "output_type": "stream",
     "text": [
      "HR operations finished\n",
      "HR operations finished\n",
      "HR operations finished\n",
      "HR operations finished\n",
      "{'Manager': 2, 'Kitchen': 12, 'Waiter': 7}\n"
     ]
    }
   ],
   "source": [
    "Branch1.manage_staff('Manager',2)\n",
    "Branch1.manage_staff('Kitchen',12)\n",
    "Branch1.manage_staff('Waiter',8)\n",
    "Branch1.manage_staff('Waiter',-1)\n",
    "print(Branch1.staff)"
   ]
  },
  {
   "cell_type": "code",
   "execution_count": 5,
   "metadata": {},
   "outputs": [
    {
     "name": "stdout",
     "output_type": "stream",
     "text": [
      "Menu is up to date\n",
      "Menu is up to date\n",
      "Menu is up to date\n",
      "Menu is up to date\n",
      "Menu is up to date\n",
      "{'dish1': 13, 'dish2': 15, 'dish3': 8, 'dish4': 23, 'dish5': 54}\n"
     ]
    }
   ],
   "source": [
    "Branch1.add_to_menu('dish1',13)\n",
    "Branch1.add_to_menu('dish2',15)\n",
    "Branch1.add_to_menu('dish3',8)\n",
    "Branch1.add_to_menu('dish4',23)\n",
    "Branch1.add_to_menu('dish5',54)\n",
    "print(Branch1.menu)"
   ]
  },
  {
   "cell_type": "code",
   "execution_count": 7,
   "metadata": {},
   "outputs": [
    {
     "name": "stdout",
     "output_type": "stream",
     "text": [
      "Dish removed from menu\n",
      "{'dish1': 13, 'dish3': 8, 'dish4': 23, 'dish5': 54}\n"
     ]
    }
   ],
   "source": [
    "Branch1.remove_from_menu('dish2')\n",
    "print(Branch1.menu)"
   ]
  },
  {
   "cell_type": "code",
   "execution_count": 8,
   "metadata": {},
   "outputs": [],
   "source": [
    "Arthur=Customer('Arthur')\n",
    "Igor=Customer('Igor')"
   ]
  },
  {
   "cell_type": "code",
   "execution_count": 9,
   "metadata": {},
   "outputs": [
    {
     "name": "stdout",
     "output_type": "stream",
     "text": [
      "Hello Arthur! Welcome to Paris branch!\n",
      "Here you go, enjoy your dish5! That will be 54 euros please :)\n"
     ]
    }
   ],
   "source": [
    "Branch1.client_visit(Arthur,'dish5')"
   ]
  },
  {
   "cell_type": "code",
   "execution_count": 10,
   "metadata": {
    "scrolled": true
   },
   "outputs": [
    {
     "data": {
      "text/plain": [
       "{'dish5': 54}"
      ]
     },
     "execution_count": 10,
     "metadata": {},
     "output_type": "execute_result"
    }
   ],
   "source": [
    "Branch1.orders"
   ]
  },
  {
   "cell_type": "code",
   "execution_count": 11,
   "metadata": {},
   "outputs": [
    {
     "data": {
      "text/plain": [
       "54"
      ]
     },
     "execution_count": 11,
     "metadata": {},
     "output_type": "execute_result"
    }
   ],
   "source": [
    "Branch1.revenue"
   ]
  },
  {
   "cell_type": "code",
   "execution_count": 12,
   "metadata": {},
   "outputs": [
    {
     "data": {
      "text/plain": [
       "{'Paris branch': 1}"
      ]
     },
     "execution_count": 12,
     "metadata": {},
     "output_type": "execute_result"
    }
   ],
   "source": [
    "Arthur.restaurant_visited"
   ]
  },
  {
   "cell_type": "code",
   "execution_count": 13,
   "metadata": {},
   "outputs": [
    {
     "name": "stdout",
     "output_type": "stream",
     "text": [
      "Nice to see you again Arthur!\n",
      "Here you go, enjoy your dish1! That will be 13 euros please :)\n"
     ]
    }
   ],
   "source": [
    "Branch1.client_visit(Arthur,'dish1')"
   ]
  },
  {
   "cell_type": "code",
   "execution_count": 14,
   "metadata": {},
   "outputs": [
    {
     "name": "stdout",
     "output_type": "stream",
     "text": [
      "Hello Igor! Welcome to Paris branch!\n",
      "Here you go, enjoy your dish4! That will be 23 euros please :)\n"
     ]
    }
   ],
   "source": [
    "Branch1.client_visit(Igor,'dish4')"
   ]
  },
  {
   "cell_type": "code",
   "execution_count": 15,
   "metadata": {},
   "outputs": [
    {
     "name": "stdout",
     "output_type": "stream",
     "text": [
      "{'dish5': 54, 'dish1': 13, 'dish4': 23}\n",
      "90\n",
      "{'Paris branch': 2}\n"
     ]
    }
   ],
   "source": [
    "print(Branch1.orders)\n",
    "print(Branch1.revenue)\n",
    "print(Arthur.restaurant_visited)"
   ]
  },
  {
   "cell_type": "code",
   "execution_count": 16,
   "metadata": {},
   "outputs": [
    {
     "data": {
      "text/plain": [
       "{'Arthur': 2, 'Igor': 1}"
      ]
     },
     "execution_count": 16,
     "metadata": {},
     "output_type": "execute_result"
    }
   ],
   "source": [
    "Branch1.client_list"
   ]
  },
  {
   "cell_type": "code",
   "execution_count": null,
   "metadata": {},
   "outputs": [],
   "source": []
  }
 ],
 "metadata": {
  "kernelspec": {
   "display_name": "Python 3",
   "language": "python",
   "name": "python3"
  },
  "language_info": {
   "codemirror_mode": {
    "name": "ipython",
    "version": 3
   },
   "file_extension": ".py",
   "mimetype": "text/x-python",
   "name": "python",
   "nbconvert_exporter": "python",
   "pygments_lexer": "ipython3",
   "version": "3.8.5"
  }
 },
 "nbformat": 4,
 "nbformat_minor": 4
}
