{
 "cells": [
  {
   "cell_type": "markdown",
   "metadata": {
    "colab_type": "text",
    "id": "x77O1dSoXLMv",
    "toc": true
   },
   "source": [
    "<h1>Table of Contents<span class=\"tocSkip\"></span></h1>\n",
    "<div class=\"toc\"><ul class=\"toc-item\"><li><span><a href=\"#Recap\" data-toc-modified-id=\"Recap-1\"><span class=\"toc-item-num\">1&nbsp;&nbsp;</span>Recap</a></span></li><li><span><a href=\"#Text-Intro\" data-toc-modified-id=\"Text-Intro-2\"><span class=\"toc-item-num\">2&nbsp;&nbsp;</span>Text Intro</a></span></li><li><span><a href=\"#Text-Decryption\" data-toc-modified-id=\"Text-Decryption-3\"><span class=\"toc-item-num\">3&nbsp;&nbsp;</span>Text Decryption</a></span></li><li><span><a href=\"#[Rr]eg[Ee]xp?\" data-toc-modified-id=\"[Rr]eg[Ee]xp?-4\"><span class=\"toc-item-num\">4&nbsp;&nbsp;</span>[Rr]eg[Ee]xp?</a></span></li></ul></div>"
   ]
  },
  {
   "cell_type": "markdown",
   "metadata": {
    "colab_type": "text",
    "heading_collapsed": true,
    "id": "MDmdc2ofXLMw"
   },
   "source": [
    "# Recap"
   ]
  },
  {
   "cell_type": "markdown",
   "metadata": {
    "colab_type": "text",
    "hidden": true,
    "id": "1VSICI3oXLMx"
   },
   "source": [
    "Create a list of numbers from 0 to 100 that are divisible by 4"
   ]
  },
  {
   "cell_type": "code",
   "execution_count": null,
   "metadata": {
    "colab": {},
    "colab_type": "code",
    "hidden": true,
    "id": "XSDqZsXxXLMx",
    "outputId": "a7b16d0a-f409-49c4-aff2-e1f79b2ab9cd"
   },
   "outputs": [
    {
     "data": {
      "text/plain": [
       "[0,\n",
       " 4,\n",
       " 8,\n",
       " 12,\n",
       " 16,\n",
       " 20,\n",
       " 24,\n",
       " 28,\n",
       " 32,\n",
       " 36,\n",
       " 40,\n",
       " 44,\n",
       " 48,\n",
       " 52,\n",
       " 56,\n",
       " 60,\n",
       " 64,\n",
       " 68,\n",
       " 72,\n",
       " 76,\n",
       " 80,\n",
       " 84,\n",
       " 88,\n",
       " 92,\n",
       " 96,\n",
       " 100]"
      ]
     },
     "execution_count": 2,
     "metadata": {
      "tags": []
     },
     "output_type": "execute_result"
    }
   ],
   "source": [
    "[i for i in range(101) if i%4==0]"
   ]
  },
  {
   "cell_type": "code",
   "execution_count": null,
   "metadata": {
    "colab": {},
    "colab_type": "code",
    "hidden": true,
    "id": "D4eIItE3XLM4",
    "outputId": "18cedb37-cb12-409c-b646-b6ac922919e6"
   },
   "outputs": [
    {
     "data": {
      "text/plain": [
       "[0,\n",
       " 4,\n",
       " 8,\n",
       " 12,\n",
       " 16,\n",
       " 20,\n",
       " 24,\n",
       " 28,\n",
       " 32,\n",
       " 36,\n",
       " 40,\n",
       " 44,\n",
       " 48,\n",
       " 52,\n",
       " 56,\n",
       " 60,\n",
       " 64,\n",
       " 68,\n",
       " 72,\n",
       " 76,\n",
       " 80,\n",
       " 84,\n",
       " 88,\n",
       " 92,\n",
       " 96,\n",
       " 100]"
      ]
     },
     "execution_count": 4,
     "metadata": {
      "tags": []
     },
     "output_type": "execute_result"
    }
   ],
   "source": [
    "[i*4 for i in range(26)]"
   ]
  },
  {
   "cell_type": "code",
   "execution_count": null,
   "metadata": {
    "colab": {},
    "colab_type": "code",
    "hidden": true,
    "id": "CuSA0oteXLM8",
    "outputId": "4eef721f-b7c4-4a33-bf32-014b9cdda62a"
   },
   "outputs": [
    {
     "data": {
      "text/plain": [
       "[0,\n",
       " 4,\n",
       " 8,\n",
       " 12,\n",
       " 16,\n",
       " 20,\n",
       " 24,\n",
       " 28,\n",
       " 32,\n",
       " 36,\n",
       " 40,\n",
       " 44,\n",
       " 48,\n",
       " 52,\n",
       " 56,\n",
       " 60,\n",
       " 64,\n",
       " 68,\n",
       " 72,\n",
       " 76,\n",
       " 80,\n",
       " 84,\n",
       " 88,\n",
       " 92,\n",
       " 96]"
      ]
     },
     "execution_count": 6,
     "metadata": {
      "tags": []
     },
     "output_type": "execute_result"
    }
   ],
   "source": [
    "list(range(0,100,4))"
   ]
  },
  {
   "cell_type": "markdown",
   "metadata": {
    "colab_type": "text",
    "heading_collapsed": true,
    "id": "nXBdybcZXLM_"
   },
   "source": [
    "# Text Intro"
   ]
  },
  {
   "cell_type": "code",
   "execution_count": null,
   "metadata": {
    "colab": {},
    "colab_type": "code",
    "hidden": true,
    "id": "E7Lya3GYXLM_"
   },
   "outputs": [],
   "source": [
    "txt='Some text'"
   ]
  },
  {
   "cell_type": "code",
   "execution_count": null,
   "metadata": {
    "colab": {},
    "colab_type": "code",
    "hidden": true,
    "id": "7Qi668P0XLND",
    "outputId": "3159716f-d298-425e-933b-35688bda1454"
   },
   "outputs": [
    {
     "data": {
      "text/plain": [
       "'Some text'"
      ]
     },
     "execution_count": 8,
     "metadata": {
      "tags": []
     },
     "output_type": "execute_result"
    }
   ],
   "source": [
    "txt"
   ]
  },
  {
   "cell_type": "code",
   "execution_count": null,
   "metadata": {
    "colab": {},
    "colab_type": "code",
    "hidden": true,
    "id": "c5lFPriGXLNG",
    "outputId": "a8244d6a-f332-4c88-c242-01908893c9a9"
   },
   "outputs": [
    {
     "data": {
      "text/plain": [
       "str"
      ]
     },
     "execution_count": 9,
     "metadata": {
      "tags": []
     },
     "output_type": "execute_result"
    }
   ],
   "source": [
    "type(txt)"
   ]
  },
  {
   "cell_type": "code",
   "execution_count": null,
   "metadata": {
    "colab": {},
    "colab_type": "code",
    "hidden": true,
    "id": "BlDb9NMtXLNJ",
    "outputId": "5340f25b-5632-4396-ff86-226d60097be0"
   },
   "outputs": [
    {
     "name": "stdout",
     "output_type": "stream",
     "text": [
      "Hallo! Wie geht's? Ca va bien\n"
     ]
    }
   ],
   "source": [
    "txt=input('Hallo! Wie geht\\'s? ')"
   ]
  },
  {
   "cell_type": "code",
   "execution_count": null,
   "metadata": {
    "colab": {},
    "colab_type": "code",
    "hidden": true,
    "id": "Al2EmenkXLNN",
    "outputId": "9fbe2698-0a40-4650-84b0-9c26de5201e9"
   },
   "outputs": [
    {
     "data": {
      "text/plain": [
       "'Ca va bien'"
      ]
     },
     "execution_count": 12,
     "metadata": {
      "tags": []
     },
     "output_type": "execute_result"
    }
   ],
   "source": [
    "txt"
   ]
  },
  {
   "cell_type": "code",
   "execution_count": null,
   "metadata": {
    "colab": {},
    "colab_type": "code",
    "hidden": true,
    "id": "PyvkQg8nXLNQ",
    "outputId": "8cc1b719-77fd-4e90-f364-39fee628a194"
   },
   "outputs": [
    {
     "data": {
      "text/plain": [
       "'Ca va'"
      ]
     },
     "execution_count": 13,
     "metadata": {
      "tags": []
     },
     "output_type": "execute_result"
    }
   ],
   "source": [
    "txt[:5]"
   ]
  },
  {
   "cell_type": "code",
   "execution_count": null,
   "metadata": {
    "colab": {},
    "colab_type": "code",
    "hidden": true,
    "id": "HNTFgGS1XLNS",
    "outputId": "72574594-3672-46f1-f1b5-acdfd94fc1a6"
   },
   "outputs": [
    {
     "data": {
      "text/plain": [
       "10"
      ]
     },
     "execution_count": 14,
     "metadata": {
      "tags": []
     },
     "output_type": "execute_result"
    }
   ],
   "source": [
    "len(txt)"
   ]
  },
  {
   "cell_type": "code",
   "execution_count": null,
   "metadata": {
    "colab": {},
    "colab_type": "code",
    "hidden": true,
    "id": "UbiIO5_kXLNV",
    "outputId": "f19afb48-0d37-4c58-ac1a-80b55fd4b64a"
   },
   "outputs": [
    {
     "data": {
      "text/plain": [
       "'va'"
      ]
     },
     "execution_count": 15,
     "metadata": {
      "tags": []
     },
     "output_type": "execute_result"
    }
   ],
   "source": [
    "txt[3:5]"
   ]
  },
  {
   "cell_type": "code",
   "execution_count": null,
   "metadata": {
    "colab": {},
    "colab_type": "code",
    "hidden": true,
    "id": "Sw3qyg5LXLNZ",
    "outputId": "90b50cba-9c25-4ad3-ada9-0628128c4c9d"
   },
   "outputs": [
    {
     "data": {
      "text/plain": [
       "'C abe'"
      ]
     },
     "execution_count": 16,
     "metadata": {
      "tags": []
     },
     "output_type": "execute_result"
    }
   ],
   "source": [
    "txt[::2]"
   ]
  },
  {
   "cell_type": "code",
   "execution_count": null,
   "metadata": {
    "colab": {},
    "colab_type": "code",
    "hidden": true,
    "id": "j8SZwF-uXLNb",
    "outputId": "fed02520-0782-43e3-bafd-73629b861f32"
   },
   "outputs": [
    {
     "data": {
      "text/plain": [
       "'neib av aC'"
      ]
     },
     "execution_count": 17,
     "metadata": {
      "tags": []
     },
     "output_type": "execute_result"
    }
   ],
   "source": [
    "txt[::-1]"
   ]
  },
  {
   "cell_type": "code",
   "execution_count": null,
   "metadata": {
    "colab": {},
    "colab_type": "code",
    "hidden": true,
    "id": "xW7idCMYXLNe",
    "outputId": "969f65ff-e25b-451c-b411-a8a4cc5b804d"
   },
   "outputs": [
    {
     "data": {
      "text/plain": [
       "'CA VA BIEN'"
      ]
     },
     "execution_count": 18,
     "metadata": {
      "tags": []
     },
     "output_type": "execute_result"
    }
   ],
   "source": [
    "txt.upper()"
   ]
  },
  {
   "cell_type": "code",
   "execution_count": null,
   "metadata": {
    "colab": {},
    "colab_type": "code",
    "hidden": true,
    "id": "Bvjw2syuXLNg",
    "outputId": "6368e6a8-6e9e-4203-f3f4-abe13e52ebac"
   },
   "outputs": [
    {
     "data": {
      "text/plain": [
       "'ca va bien'"
      ]
     },
     "execution_count": 19,
     "metadata": {
      "tags": []
     },
     "output_type": "execute_result"
    }
   ],
   "source": [
    "txt.lower()"
   ]
  },
  {
   "cell_type": "code",
   "execution_count": null,
   "metadata": {
    "colab": {},
    "colab_type": "code",
    "hidden": true,
    "id": "klGZSyZsXLNj",
    "outputId": "72937ae5-f9a2-4d67-8a99-638c2b0e8c9f"
   },
   "outputs": [
    {
     "data": {
      "text/plain": [
       "'Ca Va Bien'"
      ]
     },
     "execution_count": 20,
     "metadata": {
      "tags": []
     },
     "output_type": "execute_result"
    }
   ],
   "source": [
    "txt.title()"
   ]
  },
  {
   "cell_type": "code",
   "execution_count": null,
   "metadata": {
    "colab": {},
    "colab_type": "code",
    "hidden": true,
    "id": "_vfyjXl6XLNm",
    "outputId": "7010e4c7-6e89-46c7-a749-a082a97f11c7"
   },
   "outputs": [
    {
     "data": {
      "text/plain": [
       "'Ca va bien'"
      ]
     },
     "execution_count": 21,
     "metadata": {
      "tags": []
     },
     "output_type": "execute_result"
    }
   ],
   "source": [
    "txt.capitalize()"
   ]
  },
  {
   "cell_type": "code",
   "execution_count": null,
   "metadata": {
    "colab": {},
    "colab_type": "code",
    "hidden": true,
    "id": "DXJCRIxWXLNp",
    "outputId": "c9180d20-f58e-45b8-c8ed-d133df987f9a"
   },
   "outputs": [
    {
     "data": {
      "text/plain": [
       "'Ca va bien. Und du?'"
      ]
     },
     "execution_count": 22,
     "metadata": {
      "tags": []
     },
     "output_type": "execute_result"
    }
   ],
   "source": [
    "txt + '. Und du?'"
   ]
  },
  {
   "cell_type": "code",
   "execution_count": null,
   "metadata": {
    "colab": {},
    "colab_type": "code",
    "hidden": true,
    "id": "Q77bVQdNXLNs"
   },
   "outputs": [],
   "source": [
    "hi='Hello'\n",
    "world='world'"
   ]
  },
  {
   "cell_type": "code",
   "execution_count": null,
   "metadata": {
    "colab": {},
    "colab_type": "code",
    "hidden": true,
    "id": "5-gvHNWaXLNv",
    "outputId": "537cf874-a933-4f83-b6c6-62b69a13ce7a"
   },
   "outputs": [
    {
     "data": {
      "text/plain": [
       "'Helloworld'"
      ]
     },
     "execution_count": 27,
     "metadata": {
      "tags": []
     },
     "output_type": "execute_result"
    }
   ],
   "source": [
    "hi+world"
   ]
  },
  {
   "cell_type": "code",
   "execution_count": null,
   "metadata": {
    "colab": {},
    "colab_type": "code",
    "hidden": true,
    "id": "hI8JT7JIXLNy",
    "outputId": "7780190a-90a1-40fc-d421-49ec84e807a8"
   },
   "outputs": [
    {
     "data": {
      "text/plain": [
       "'Hello world'"
      ]
     },
     "execution_count": 28,
     "metadata": {
      "tags": []
     },
     "output_type": "execute_result"
    }
   ],
   "source": [
    "hi+' '+world"
   ]
  },
  {
   "cell_type": "code",
   "execution_count": null,
   "metadata": {
    "colab": {},
    "colab_type": "code",
    "hidden": true,
    "id": "JLq7V65KXLN6",
    "outputId": "754ef849-f1f4-4fd4-d534-78f21c99d0bb"
   },
   "outputs": [
    {
     "name": "stdout",
     "output_type": "stream",
     "text": [
      "Hello world\n"
     ]
    }
   ],
   "source": [
    "print(hi,world)"
   ]
  },
  {
   "cell_type": "code",
   "execution_count": null,
   "metadata": {
    "colab": {},
    "colab_type": "code",
    "hidden": true,
    "id": "ifXDyaIXXLN9"
   },
   "outputs": [],
   "source": [
    "lst=['I', 'really', 'love', 'my', 'sweet', 'thing']"
   ]
  },
  {
   "cell_type": "code",
   "execution_count": null,
   "metadata": {
    "colab": {},
    "colab_type": "code",
    "hidden": true,
    "id": "zthiuIErXLOA",
    "outputId": "01e84bda-6c61-478a-ac69-9a83f81eb331"
   },
   "outputs": [
    {
     "ename": "TypeError",
     "evalue": "unsupported operand type(s) for +: 'int' and 'str'",
     "output_type": "error",
     "traceback": [
      "\u001b[0;31m---------------------------------------------------------------------------\u001b[0m",
      "\u001b[0;31mTypeError\u001b[0m                                 Traceback (most recent call last)",
      "\u001b[0;32m<ipython-input-31-de86c5632935>\u001b[0m in \u001b[0;36m<module>\u001b[0;34m\u001b[0m\n\u001b[0;32m----> 1\u001b[0;31m \u001b[0msum\u001b[0m\u001b[0;34m(\u001b[0m\u001b[0mlst\u001b[0m\u001b[0;34m)\u001b[0m\u001b[0;34m\u001b[0m\u001b[0;34m\u001b[0m\u001b[0m\n\u001b[0m",
      "\u001b[0;31mTypeError\u001b[0m: unsupported operand type(s) for +: 'int' and 'str'"
     ]
    }
   ],
   "source": [
    "sum(lst)"
   ]
  },
  {
   "cell_type": "code",
   "execution_count": null,
   "metadata": {
    "colab": {},
    "colab_type": "code",
    "hidden": true,
    "id": "Oc-XMkwCXLOD",
    "outputId": "c6197725-8d88-4b5f-dc36-688acd167b72"
   },
   "outputs": [
    {
     "data": {
      "text/plain": [
       "'Ireallylovemysweetthing'"
      ]
     },
     "execution_count": 32,
     "metadata": {
      "tags": []
     },
     "output_type": "execute_result"
    }
   ],
   "source": [
    "sentence=''\n",
    "for i in lst:\n",
    "    sentence+=i\n",
    "sentence"
   ]
  },
  {
   "cell_type": "code",
   "execution_count": null,
   "metadata": {
    "colab": {},
    "colab_type": "code",
    "hidden": true,
    "id": "7i70tkAHXLOG",
    "outputId": "3beb7e09-98c3-4f06-f0eb-1e5eaf6a51ed"
   },
   "outputs": [
    {
     "data": {
      "text/plain": [
       "'I really love my sweet thing '"
      ]
     },
     "execution_count": 33,
     "metadata": {
      "tags": []
     },
     "output_type": "execute_result"
    }
   ],
   "source": [
    "sentence=''\n",
    "for i in lst:\n",
    "    sentence+=i+' '\n",
    "sentence"
   ]
  },
  {
   "cell_type": "code",
   "execution_count": null,
   "metadata": {
    "colab": {},
    "colab_type": "code",
    "hidden": true,
    "id": "bvNJIjJhXLOJ",
    "outputId": "01785af8-4637-451c-af95-62658df36099"
   },
   "outputs": [
    {
     "data": {
      "text/plain": [
       "'I really love my sweet thing.'"
      ]
     },
     "execution_count": 34,
     "metadata": {
      "tags": []
     },
     "output_type": "execute_result"
    }
   ],
   "source": [
    "sentence=''\n",
    "for i in lst:\n",
    "    sentence+=i+' '\n",
    "sentence[:-1]+'.'"
   ]
  },
  {
   "cell_type": "code",
   "execution_count": null,
   "metadata": {
    "colab": {},
    "colab_type": "code",
    "hidden": true,
    "id": "cOyguAzBXLOL",
    "outputId": "bdaad608-ef44-4b74-edd2-f4efa41604c6"
   },
   "outputs": [
    {
     "data": {
      "text/plain": [
       "'I really love my sweet thing'"
      ]
     },
     "execution_count": 35,
     "metadata": {
      "tags": []
     },
     "output_type": "execute_result"
    }
   ],
   "source": [
    "' '.join(lst)"
   ]
  },
  {
   "cell_type": "code",
   "execution_count": null,
   "metadata": {
    "colab": {},
    "colab_type": "code",
    "hidden": true,
    "id": "u6zPyTKdXLOO",
    "outputId": "7618c191-e2ba-4c0e-cebe-6d44a4b816ad"
   },
   "outputs": [
    {
     "data": {
      "text/plain": [
       "'I.really.love.my.sweet.thing'"
      ]
     },
     "execution_count": 36,
     "metadata": {
      "tags": []
     },
     "output_type": "execute_result"
    }
   ],
   "source": [
    "'.'.join(lst)"
   ]
  },
  {
   "cell_type": "code",
   "execution_count": null,
   "metadata": {
    "colab": {},
    "colab_type": "code",
    "hidden": true,
    "id": "CPIhM8YaXLOQ",
    "outputId": "f8c91ce5-cd41-4767-efac-20077a7aa1c4"
   },
   "outputs": [
    {
     "data": {
      "text/plain": [
       "'IWWWreallyWWWloveWWWmyWWWsweetWWWthing'"
      ]
     },
     "execution_count": 37,
     "metadata": {
      "tags": []
     },
     "output_type": "execute_result"
    }
   ],
   "source": [
    "'WWW'.join(lst)"
   ]
  },
  {
   "cell_type": "code",
   "execution_count": null,
   "metadata": {
    "colab": {},
    "colab_type": "code",
    "hidden": true,
    "id": "VVqwmcIsXLOU",
    "outputId": "64f87543-376b-4bda-c77d-5b2ed1e242f2"
   },
   "outputs": [
    {
     "data": {
      "text/plain": [
       "'I really love my sweet thing.'"
      ]
     },
     "execution_count": 38,
     "metadata": {
      "tags": []
     },
     "output_type": "execute_result"
    }
   ],
   "source": [
    "' '.join(lst)+'.'"
   ]
  },
  {
   "cell_type": "code",
   "execution_count": null,
   "metadata": {
    "colab": {},
    "colab_type": "code",
    "hidden": true,
    "id": "LkfmuujwXLOW"
   },
   "outputs": [],
   "source": [
    "sentence=' '.join(lst)"
   ]
  },
  {
   "cell_type": "code",
   "execution_count": null,
   "metadata": {
    "colab": {},
    "colab_type": "code",
    "hidden": true,
    "id": "pvN_hyXlXLOZ",
    "outputId": "1117e85d-fdf0-406e-c4d3-7b73fb8f607e"
   },
   "outputs": [
    {
     "data": {
      "text/plain": [
       "'I really love my sweet thing'"
      ]
     },
     "execution_count": 40,
     "metadata": {
      "tags": []
     },
     "output_type": "execute_result"
    }
   ],
   "source": [
    "sentence"
   ]
  },
  {
   "cell_type": "code",
   "execution_count": null,
   "metadata": {
    "colab": {},
    "colab_type": "code",
    "hidden": true,
    "id": "jyh4Xu6pXLOc",
    "outputId": "6df575c5-b27b-4c30-ac4c-faf36fcf9bb5"
   },
   "outputs": [
    {
     "data": {
      "text/plain": [
       "['I', 'really', 'love', 'my', 'sweet', 'thing']"
      ]
     },
     "execution_count": 43,
     "metadata": {
      "tags": []
     },
     "output_type": "execute_result"
    }
   ],
   "source": [
    "lst=[]\n",
    "word=''\n",
    "for letter in sentence+' ':\n",
    "    if letter!=' ':\n",
    "        word+=letter\n",
    "    else:\n",
    "        lst.append(word)\n",
    "        word=''\n",
    "#lst.append(word)\n",
    "lst"
   ]
  },
  {
   "cell_type": "code",
   "execution_count": null,
   "metadata": {
    "colab": {},
    "colab_type": "code",
    "hidden": true,
    "id": "Kn-NAxOtXLOe",
    "outputId": "862fd1b9-9ed2-4dd6-9ea4-9ecf29e99f1b"
   },
   "outputs": [
    {
     "data": {
      "text/plain": [
       "['I', 'really', 'love', 'my', 'sweet', 'thing']"
      ]
     },
     "execution_count": 47,
     "metadata": {
      "tags": []
     },
     "output_type": "execute_result"
    }
   ],
   "source": [
    "lst=[]\n",
    "word=''\n",
    "for ix,letter in enumerate(sentence):\n",
    "    if letter!=' ':\n",
    "        word+=letter\n",
    "    else:\n",
    "        lst.append(word)\n",
    "        word=''\n",
    "    if ix+1==len(sentence):\n",
    "        lst.append(word)\n",
    "lst"
   ]
  },
  {
   "cell_type": "code",
   "execution_count": null,
   "metadata": {
    "colab": {},
    "colab_type": "code",
    "hidden": true,
    "id": "44DTvnp5XLOh",
    "outputId": "04f4fcc3-3985-4ecf-b62f-788d18ea78c5"
   },
   "outputs": [
    {
     "data": {
      "text/plain": [
       "['I', 'really', 'love', 'my', 'sweet', 'thing']"
      ]
     },
     "execution_count": 50,
     "metadata": {
      "tags": []
     },
     "output_type": "execute_result"
    }
   ],
   "source": [
    "sentence.split() #by default splits by white space"
   ]
  },
  {
   "cell_type": "code",
   "execution_count": null,
   "metadata": {
    "colab": {},
    "colab_type": "code",
    "hidden": true,
    "id": "bRXXBIlQXLOj",
    "outputId": "13afb560-d341-4d33-9b18-51cf9592f0dd"
   },
   "outputs": [
    {
     "data": {
      "text/plain": [
       "['I really love ', 'y sweet thing']"
      ]
     },
     "execution_count": 51,
     "metadata": {
      "tags": []
     },
     "output_type": "execute_result"
    }
   ],
   "source": [
    "sentence.split('m')"
   ]
  },
  {
   "cell_type": "code",
   "execution_count": null,
   "metadata": {
    "colab": {},
    "colab_type": "code",
    "hidden": true,
    "id": "CeUnZXWdXLOm",
    "outputId": "e8722649-046b-4084-844b-0e316807ed7b"
   },
   "outputs": [
    {
     "data": {
      "text/plain": [
       "['I really ', ' my sweet thing']"
      ]
     },
     "execution_count": 52,
     "metadata": {
      "tags": []
     },
     "output_type": "execute_result"
    }
   ],
   "source": [
    "sentence.split('love')"
   ]
  },
  {
   "cell_type": "code",
   "execution_count": null,
   "metadata": {
    "colab": {},
    "colab_type": "code",
    "hidden": true,
    "id": "Rqe5_ELGXLOo",
    "outputId": "002d70f9-e143-4fc9-b626-63b9f09997db"
   },
   "outputs": [
    {
     "data": {
      "text/plain": [
       "['I really love my sw', 't thing']"
      ]
     },
     "execution_count": 53,
     "metadata": {
      "tags": []
     },
     "output_type": "execute_result"
    }
   ],
   "source": [
    "sentence.split('ee')"
   ]
  },
  {
   "cell_type": "code",
   "execution_count": null,
   "metadata": {
    "colab": {},
    "colab_type": "code",
    "hidden": true,
    "id": "g-jpy9JKXLOq",
    "outputId": "ee18da76-7fe6-4534-992f-e42302637f7b"
   },
   "outputs": [
    {
     "data": {
      "text/plain": [
       "[\"Champs d'Élysé\", 's']"
      ]
     },
     "execution_count": 54,
     "metadata": {
      "tags": []
     },
     "output_type": "execute_result"
    }
   ],
   "source": [
    "\"Champs d'Élysées\".split('e')"
   ]
  },
  {
   "cell_type": "code",
   "execution_count": null,
   "metadata": {
    "colab": {},
    "colab_type": "code",
    "hidden": true,
    "id": "G6kuweNwXLOu",
    "outputId": "3fdc35de-f47d-48c8-94d0-8568a4673ddb"
   },
   "outputs": [
    {
     "data": {
      "text/plain": [
       "[\"Champs d'Élysé\", 's']"
      ]
     },
     "execution_count": 58,
     "metadata": {
      "tags": []
     },
     "output_type": "execute_result"
    }
   ],
   "source": [
    "\"Champs d'Élysées\".split('e')\n"
   ]
  },
  {
   "cell_type": "code",
   "execution_count": null,
   "metadata": {
    "colab": {},
    "colab_type": "code",
    "hidden": true,
    "id": "wZd00qiaXLOy"
   },
   "outputs": [],
   "source": [
    "sentence='Freds friends fried Fritos for Fridays food'"
   ]
  },
  {
   "cell_type": "code",
   "execution_count": null,
   "metadata": {
    "colab": {},
    "colab_type": "code",
    "hidden": true,
    "id": "ERLbBQ24XLO0",
    "outputId": "d00753d7-3541-4994-9422-dcee6bc18abd"
   },
   "outputs": [
    {
     "data": {
      "text/plain": [
       "['Freds', 'friends', 'fried', 'Fritos', 'for', 'Fridays', 'food']"
      ]
     },
     "execution_count": 63,
     "metadata": {
      "tags": []
     },
     "output_type": "execute_result"
    }
   ],
   "source": [
    "sentence.split()"
   ]
  },
  {
   "cell_type": "code",
   "execution_count": null,
   "metadata": {
    "colab": {},
    "colab_type": "code",
    "hidden": true,
    "id": "btPD-CbrXLO3",
    "outputId": "24ab51f8-e3d1-4f3c-d626-2b84391eb469"
   },
   "outputs": [
    {
     "data": {
      "text/plain": [
       "['', 'reds friends fried ', 'ritos for ', 'ridays food']"
      ]
     },
     "execution_count": 64,
     "metadata": {
      "tags": []
     },
     "output_type": "execute_result"
    }
   ],
   "source": [
    "sentence.split('F')"
   ]
  },
  {
   "cell_type": "code",
   "execution_count": null,
   "metadata": {
    "colab": {},
    "colab_type": "code",
    "hidden": true,
    "id": "qyP7evkpXLO5",
    "outputId": "26007d59-1f7e-4d84-fe0f-59d6a9693bf3"
   },
   "outputs": [
    {
     "data": {
      "text/plain": [
       "['Freds friends fried Fritos for Fridays food']"
      ]
     },
     "execution_count": 65,
     "metadata": {
      "tags": []
     },
     "output_type": "execute_result"
    }
   ],
   "source": [
    "sentence.split('.')"
   ]
  },
  {
   "cell_type": "code",
   "execution_count": null,
   "metadata": {
    "colab": {},
    "colab_type": "code",
    "hidden": true,
    "id": "2nlbCGnyXLO8",
    "outputId": "34df0cf7-ac93-4620-dbd4-cba1f0c76060"
   },
   "outputs": [
    {
     "data": {
      "text/plain": [
       "['Freds friends ', ' Fritos for Fridays food']"
      ]
     },
     "execution_count": 66,
     "metadata": {
      "tags": []
     },
     "output_type": "execute_result"
    }
   ],
   "source": [
    "sentence.split('fried')"
   ]
  },
  {
   "cell_type": "code",
   "execution_count": null,
   "metadata": {
    "colab": {},
    "colab_type": "code",
    "hidden": true,
    "id": "fgZJA1FTXLO_",
    "outputId": "c515a5b0-c355-4ad8-a925-078ad6b4f2c0"
   },
   "outputs": [
    {
     "data": {
      "text/plain": [
       "['Freds friends fried ', ' for Fridays food']"
      ]
     },
     "execution_count": 67,
     "metadata": {
      "tags": []
     },
     "output_type": "execute_result"
    }
   ],
   "source": [
    "sentence.split('Fritos')"
   ]
  },
  {
   "cell_type": "code",
   "execution_count": null,
   "metadata": {
    "colab": {},
    "colab_type": "code",
    "hidden": true,
    "id": "cXCt9tymXLPC",
    "outputId": "453ddf5e-df23-4ed1-c327-6b38635a67f0"
   },
   "outputs": [
    {
     "data": {
      "text/plain": [
       "'reds friends fried Fritos for Fridays food'"
      ]
     },
     "execution_count": 68,
     "metadata": {
      "tags": []
     },
     "output_type": "execute_result"
    }
   ],
   "source": [
    "sentence.strip('F')"
   ]
  },
  {
   "cell_type": "code",
   "execution_count": null,
   "metadata": {
    "colab": {},
    "colab_type": "code",
    "hidden": true,
    "id": "HJNmc3CQXLPE",
    "outputId": "b6bb836a-3890-435f-870f-5a71152ae98d"
   },
   "outputs": [
    {
     "data": {
      "text/plain": [
       "'Freds friends fried Fritos for Fridays foo'"
      ]
     },
     "execution_count": 69,
     "metadata": {
      "tags": []
     },
     "output_type": "execute_result"
    }
   ],
   "source": [
    "sentence.strip('d')"
   ]
  },
  {
   "cell_type": "code",
   "execution_count": null,
   "metadata": {
    "colab": {},
    "colab_type": "code",
    "hidden": true,
    "id": "IESpMyiHXLPG",
    "outputId": "f23c7ee0-2547-4f6d-a1c7-da812499dc14"
   },
   "outputs": [
    {
     "data": {
      "text/plain": [
       "'Freds friends fried Fritos for Fridays food'"
      ]
     },
     "execution_count": 72,
     "metadata": {
      "tags": []
     },
     "output_type": "execute_result"
    }
   ],
   "source": [
    "(sentence+'      ').strip() #by default strips white space"
   ]
  },
  {
   "cell_type": "code",
   "execution_count": null,
   "metadata": {
    "colab": {},
    "colab_type": "code",
    "hidden": true,
    "id": "iaQ8CybtXLPJ",
    "outputId": "0beab8f0-0d0d-49f3-c75f-c6d71b26af94"
   },
   "outputs": [
    {
     "data": {
      "text/plain": [
       "'Freds friends fried Fritos for Fridays '"
      ]
     },
     "execution_count": 73,
     "metadata": {
      "tags": []
     },
     "output_type": "execute_result"
    }
   ],
   "source": [
    "sentence.strip('fod')"
   ]
  },
  {
   "cell_type": "code",
   "execution_count": null,
   "metadata": {
    "colab": {},
    "colab_type": "code",
    "hidden": true,
    "id": "w8uyAl_WXLPN",
    "outputId": "46ba0ae8-b726-417a-a1ab-fbdcb53d173f"
   },
   "outputs": [
    {
     "data": {
      "text/plain": [
       "'eds friends fried Fritos for Fridays'"
      ]
     },
     "execution_count": 74,
     "metadata": {
      "tags": []
     },
     "output_type": "execute_result"
    }
   ],
   "source": [
    "sentence.strip('Fof dr')"
   ]
  },
  {
   "cell_type": "code",
   "execution_count": null,
   "metadata": {
    "colab": {},
    "colab_type": "code",
    "hidden": true,
    "id": "GcQR8ahGXLPQ",
    "outputId": "98aea2b2-883a-44da-c921-5affa1990bac"
   },
   "outputs": [
    {
     "data": {
      "text/plain": [
       "'Freds friends fried Fritos for Fridays food'"
      ]
     },
     "execution_count": 75,
     "metadata": {
      "tags": []
     },
     "output_type": "execute_result"
    }
   ],
   "source": [
    "sentence.rstrip('F')"
   ]
  },
  {
   "cell_type": "code",
   "execution_count": null,
   "metadata": {
    "colab": {},
    "colab_type": "code",
    "hidden": true,
    "id": "1KUq4J7kXLPS",
    "outputId": "21d19eb4-718d-4453-f46b-96c015f32f73"
   },
   "outputs": [
    {
     "data": {
      "text/plain": [
       "'reds friends fried Fritos for Fridays food'"
      ]
     },
     "execution_count": 76,
     "metadata": {
      "tags": []
     },
     "output_type": "execute_result"
    }
   ],
   "source": [
    "sentence.lstrip('Ffod')"
   ]
  },
  {
   "cell_type": "code",
   "execution_count": null,
   "metadata": {
    "colab": {},
    "colab_type": "code",
    "hidden": true,
    "id": "CU_tuS3RXLPV"
   },
   "outputs": [],
   "source": [
    "lyrics=\"\"\"I'm blue da ba dee da ba daa\n",
    "Da ba dee da ba daa, da ba dee da ba daa, da ba dee da ba daa\n",
    "Da ba dee da ba daa, da ba dee da ba daa, da ba dee da ba daa\"\"\""
   ]
  },
  {
   "cell_type": "code",
   "execution_count": null,
   "metadata": {
    "colab": {},
    "colab_type": "code",
    "hidden": true,
    "id": "xE5w1-NoXLPX"
   },
   "outputs": [],
   "source": [
    "low=[i.strip(',').lower() for i in lyrics.split()]"
   ]
  },
  {
   "cell_type": "code",
   "execution_count": null,
   "metadata": {
    "colab": {},
    "colab_type": "code",
    "hidden": true,
    "id": "S3ilqaWSXLPb",
    "outputId": "83e63ae8-c64f-420f-e3c7-becb6b2a63af"
   },
   "outputs": [
    {
     "data": {
      "text/plain": [
       "{'ba': 14, 'daa': 7, 'da': 14, \"i'm\": 1, 'dee': 7, 'blue': 1}"
      ]
     },
     "execution_count": 106,
     "metadata": {
      "tags": []
     },
     "output_type": "execute_result"
    }
   ],
   "source": [
    "{i:low.count(i) for i in set(low)}"
   ]
  },
  {
   "cell_type": "code",
   "execution_count": null,
   "metadata": {
    "colab": {},
    "colab_type": "code",
    "hidden": true,
    "id": "MV75apuDXLPd",
    "outputId": "0192d14f-6800-4b84-f322-e68e99bfeb39"
   },
   "outputs": [
    {
     "data": {
      "text/plain": [
       "\"I'm blue da ba dee da ba daa, Da ba dee da ba daa, da ba dee da ba daa, da ba dee da ba daa, Da ba dee da ba daa, da ba dee da ba daa, da ba dee da ba daa\""
      ]
     },
     "execution_count": 96,
     "metadata": {
      "tags": []
     },
     "output_type": "execute_result"
    }
   ],
   "source": [
    "lyrics.replace('\\n',', ')"
   ]
  },
  {
   "cell_type": "code",
   "execution_count": null,
   "metadata": {
    "colab": {},
    "colab_type": "code",
    "hidden": true,
    "id": "vfBuB90oXLPg",
    "outputId": "74003ae6-30cc-4acc-80ca-252dabf0f4dc"
   },
   "outputs": [
    {
     "data": {
      "text/plain": [
       "\"I'm blue aaaaaaa ba dee aaaaaaa ba aaaaaaaa\\nDa ba dee da ba daa, da ba dee da ba daa, da ba dee da ba daa\\nDa ba dee da ba daa, da ba dee da ba daa, da ba dee da ba daa\""
      ]
     },
     "execution_count": 108,
     "metadata": {
      "tags": []
     },
     "output_type": "execute_result"
    }
   ],
   "source": [
    "lyrics.replace('da','aaaaaaa',3)"
   ]
  },
  {
   "cell_type": "markdown",
   "metadata": {
    "colab_type": "text",
    "hidden": true,
    "id": "KIOhVrZRXLPi"
   },
   "source": [
    "I want you to create a list of words from lyrics that start with 'd' "
   ]
  },
  {
   "cell_type": "code",
   "execution_count": null,
   "metadata": {
    "colab": {},
    "colab_type": "code",
    "collapsed": true,
    "hidden": true,
    "id": "DzhGH8sWXLPi",
    "outputId": "772fe4a8-be7d-40ca-f497-cf6ba012f176"
   },
   "outputs": [
    {
     "data": {
      "text/plain": [
       "['da',\n",
       " 'dee',\n",
       " 'da',\n",
       " 'daa',\n",
       " 'Da',\n",
       " 'dee',\n",
       " 'da',\n",
       " 'daa',\n",
       " 'da',\n",
       " 'dee',\n",
       " 'da',\n",
       " 'daa',\n",
       " 'da',\n",
       " 'dee',\n",
       " 'da',\n",
       " 'daa',\n",
       " 'Da',\n",
       " 'dee',\n",
       " 'da',\n",
       " 'daa',\n",
       " 'da',\n",
       " 'dee',\n",
       " 'da',\n",
       " 'daa',\n",
       " 'da',\n",
       " 'dee',\n",
       " 'da',\n",
       " 'daa']"
      ]
     },
     "execution_count": 110,
     "metadata": {
      "tags": []
     },
     "output_type": "execute_result"
    }
   ],
   "source": [
    "[i for i in lyrics.replace(',','').split() if i.lower()[0]=='d']"
   ]
  },
  {
   "cell_type": "code",
   "execution_count": null,
   "metadata": {
    "colab": {},
    "colab_type": "code",
    "hidden": true,
    "id": "71v63EprXLPk",
    "outputId": "45d829ba-92c6-499c-ae73-dc7fc801a6e0"
   },
   "outputs": [
    {
     "data": {
      "text/plain": [
       "{'Da', 'da', 'daa', 'dee'}"
      ]
     },
     "execution_count": 111,
     "metadata": {
      "tags": []
     },
     "output_type": "execute_result"
    }
   ],
   "source": [
    "{i for i in lyrics.replace(',','').split() if i.lower()[0]=='d'}"
   ]
  },
  {
   "cell_type": "code",
   "execution_count": null,
   "metadata": {
    "colab": {},
    "colab_type": "code",
    "collapsed": true,
    "hidden": true,
    "id": "6sC9kvH6XLPm",
    "outputId": "37bdca48-5342-46f7-86e6-47aa5d82fb07"
   },
   "outputs": [
    {
     "data": {
      "text/plain": [
       "['da',\n",
       " 'dee',\n",
       " 'da',\n",
       " 'daa',\n",
       " 'dee',\n",
       " 'da',\n",
       " 'daa',\n",
       " 'da',\n",
       " 'dee',\n",
       " 'da',\n",
       " 'daa',\n",
       " 'da',\n",
       " 'dee',\n",
       " 'da',\n",
       " 'daa',\n",
       " 'dee',\n",
       " 'da',\n",
       " 'daa',\n",
       " 'da',\n",
       " 'dee',\n",
       " 'da',\n",
       " 'daa',\n",
       " 'da',\n",
       " 'dee',\n",
       " 'da',\n",
       " 'daa']"
      ]
     },
     "execution_count": 112,
     "metadata": {
      "tags": []
     },
     "output_type": "execute_result"
    }
   ],
   "source": [
    "[i for i in lyrics.replace(',','').split() if i.startswith('d')]"
   ]
  },
  {
   "cell_type": "code",
   "execution_count": null,
   "metadata": {
    "colab": {},
    "colab_type": "code",
    "hidden": true,
    "id": "imOBlSNNXLPp",
    "outputId": "5edf50b3-4667-46b6-c453-f4ace0711e3c"
   },
   "outputs": [
    {
     "data": {
      "text/plain": [
       "True"
      ]
     },
     "execution_count": 115,
     "metadata": {
      "tags": []
     },
     "output_type": "execute_result"
    }
   ],
   "source": [
    "lyrics.startswith('I')"
   ]
  },
  {
   "cell_type": "code",
   "execution_count": null,
   "metadata": {
    "colab": {},
    "colab_type": "code",
    "hidden": true,
    "id": "16gjzhzWXLPq",
    "outputId": "5d13f65e-9886-4b7e-94a0-f1231ecaa040"
   },
   "outputs": [
    {
     "data": {
      "text/plain": [
       "False"
      ]
     },
     "execution_count": 117,
     "metadata": {
      "tags": []
     },
     "output_type": "execute_result"
    }
   ],
   "source": [
    "lyrics.istitle()"
   ]
  },
  {
   "cell_type": "code",
   "execution_count": null,
   "metadata": {
    "colab": {},
    "colab_type": "code",
    "hidden": true,
    "id": "YFgxdaL2XLPt",
    "outputId": "6339f203-48b0-4b59-bd5b-a5c97ce17e2b"
   },
   "outputs": [
    {
     "data": {
      "text/plain": [
       "False"
      ]
     },
     "execution_count": 118,
     "metadata": {
      "tags": []
     },
     "output_type": "execute_result"
    }
   ],
   "source": [
    "lyrics.islower()"
   ]
  },
  {
   "cell_type": "code",
   "execution_count": null,
   "metadata": {
    "colab": {},
    "colab_type": "code",
    "hidden": true,
    "id": "p0ggwmfKXLPv",
    "outputId": "6e895248-43a7-40eb-8c12-77ef5e112d9b"
   },
   "outputs": [
    {
     "data": {
      "text/plain": [
       "False"
      ]
     },
     "execution_count": 119,
     "metadata": {
      "tags": []
     },
     "output_type": "execute_result"
    }
   ],
   "source": [
    "lyrics.isupper()"
   ]
  },
  {
   "cell_type": "code",
   "execution_count": null,
   "metadata": {
    "colab": {},
    "colab_type": "code",
    "hidden": true,
    "id": "ZZuFTX9ZXLPw",
    "outputId": "7930f683-e80c-41a9-ce55-d5b5f2c94090"
   },
   "outputs": [
    {
     "ename": "AttributeError",
     "evalue": "'str' object has no attribute 'iscapitalize'",
     "output_type": "error",
     "traceback": [
      "\u001b[0;31m---------------------------------------------------------------------------\u001b[0m",
      "\u001b[0;31mAttributeError\u001b[0m                            Traceback (most recent call last)",
      "\u001b[0;32m<ipython-input-120-a8168b42a643>\u001b[0m in \u001b[0;36m<module>\u001b[0;34m\u001b[0m\n\u001b[0;32m----> 1\u001b[0;31m \u001b[0mlyrics\u001b[0m\u001b[0;34m.\u001b[0m\u001b[0miscapitalize\u001b[0m\u001b[0;34m(\u001b[0m\u001b[0;34m)\u001b[0m\u001b[0;34m\u001b[0m\u001b[0;34m\u001b[0m\u001b[0m\n\u001b[0m",
      "\u001b[0;31mAttributeError\u001b[0m: 'str' object has no attribute 'iscapitalize'"
     ]
    }
   ],
   "source": [
    "lyrics.iscapitalize()"
   ]
  },
  {
   "cell_type": "code",
   "execution_count": null,
   "metadata": {
    "colab": {},
    "colab_type": "code",
    "hidden": true,
    "id": "zjFywfWLXLPy",
    "outputId": "8b5bc599-a52d-46f6-b460-a2aa2199241e"
   },
   "outputs": [
    {
     "data": {
      "text/plain": [
       "True"
      ]
     },
     "execution_count": 121,
     "metadata": {
      "tags": []
     },
     "output_type": "execute_result"
    }
   ],
   "source": [
    "lyrics[0].istitle()"
   ]
  },
  {
   "cell_type": "code",
   "execution_count": null,
   "metadata": {
    "colab": {},
    "colab_type": "code",
    "hidden": true,
    "id": "-2lO1sEuXLP0",
    "outputId": "e5b10526-dcd1-4743-ef29-c4929a8ce601"
   },
   "outputs": [
    {
     "data": {
      "text/plain": [
       "True"
      ]
     },
     "execution_count": 123,
     "metadata": {
      "tags": []
     },
     "output_type": "execute_result"
    }
   ],
   "source": [
    "lyrics.endswith('daa')"
   ]
  },
  {
   "cell_type": "markdown",
   "metadata": {
    "colab_type": "text",
    "heading_collapsed": true,
    "id": "j8LExj-nXLP4"
   },
   "source": [
    "# Text Decryption"
   ]
  },
  {
   "cell_type": "code",
   "execution_count": null,
   "metadata": {
    "colab": {},
    "colab_type": "code",
    "hidden": true,
    "id": "XZXSvChSXLP9"
   },
   "outputs": [],
   "source": [
    "encrypted_text=\"\"\"GFS WMY OG LGDVS MF SFNKYHOSU ESLLMRS, PC WS BFGW POL DMFRQMRS, PL OG CPFU M UPCCSKSFO HDMPFOSXO GC OIS LMES DMFRQMRS DGFR SFGQRI OG CPDD GFS LISSO GK LG, MFU OISF WS NGQFO OIS GNNQKKSFNSL GC SMNI DSOOSK. WS NMDD OIS EGLO CKSJQSFODY GNNQKKPFR DSOOSK OIS 'CPKLO', OIS FSXO EGLO GNNQKKPFR DSOOSK OIS 'LSNGFU' OIS CGDDGWPFR EGLO GNNQKKPFR DSOOSK OIS 'OIPKU', MFU LG GF, QFOPD WS MNNGQFO CGK MDD OIS UPCCSKSFO DSOOSKL PF OIS HDMPFOSXO LMEHDS. OISF WS DGGB MO OIS NPHISK OSXO WS WMFO OG LGDVS MFU WS MDLG NDMLLPCY POL LYEAGDL. WS CPFU OIS EGLO GNNQKKPFR LYEAGD MFU NIMFRS PO OG OIS CGKE GC OIS 'CPKLO' DSOOSK GC OIS HDMPFOSXO LMEHDS, OIS FSXO EGLO NGEEGF LYEAGD PL NIMFRSU OG OIS CGKE GC OIS 'LSNGFU' DSOOSK, MFU OIS CGDDGWPFR EGLO NGEEGF LYEAGD PL NIMFRSU OG OIS CGKE GC OIS 'OIPKU' DSOOSK, MFU LG GF, QFOPD WS MNNGQFO CGK MDD LYEAGDL GC OIS NKYHOGRKME WS WMFO OG LGDVS.\"\"\""
   ]
  },
  {
   "cell_type": "code",
   "execution_count": null,
   "metadata": {
    "colab": {},
    "colab_type": "code",
    "hidden": true,
    "id": "bKSke9AgXLP_",
    "outputId": "a111a89b-7505-4414-83b7-1a2cc629400d"
   },
   "outputs": [
    {
     "data": {
      "text/plain": [
       "\"GFS WMY OG LGDVS MF SFNKYHOSU ESLLMRS, PC WS BFGW POL DMFRQMRS, PL OG CPFU M UPCCSKSFO HDMPFOSXO GC OIS LMES DMFRQMRS DGFR SFGQRI OG CPDD GFS LISSO GK LG, MFU OISF WS NGQFO OIS GNNQKKSFNSL GC SMNI DSOOSK. WS NMDD OIS EGLO CKSJQSFODY GNNQKKPFR DSOOSK OIS 'CPKLO', OIS FSXO EGLO GNNQKKPFR DSOOSK OIS 'LSNGFU' OIS CGDDGWPFR EGLO GNNQKKPFR DSOOSK OIS 'OIPKU', MFU LG GF, QFOPD WS MNNGQFO CGK MDD OIS UPCCSKSFO DSOOSKL PF OIS HDMPFOSXO LMEHDS. OISF WS DGGB MO OIS NPHISK OSXO WS WMFO OG LGDVS MFU WS MDLG NDMLLPCY POL LYEAGDL. WS CPFU OIS EGLO GNNQKKPFR LYEAGD MFU NIMFRS PO OG OIS CGKE GC OIS 'CPKLO' DSOOSK GC OIS HDMPFOSXO LMEHDS, OIS FSXO EGLO NGEEGF LYEAGD PL NIMFRSU OG OIS CGKE GC OIS 'LSNGFU' DSOOSK, MFU OIS CGDDGWPFR EGLO NGEEGF LYEAGD PL NIMFRSU OG OIS CGKE GC OIS 'OIPKU' DSOOSK, MFU LG GF, QFOPD WS MNNGQFO CGK MDD LYEAGDL GC OIS NKYHOGRKME WS WMFO OG LGDVS.\""
      ]
     },
     "execution_count": 126,
     "metadata": {
      "tags": []
     },
     "output_type": "execute_result"
    }
   ],
   "source": [
    "encrypted_text"
   ]
  },
  {
   "cell_type": "code",
   "execution_count": null,
   "metadata": {
    "colab": {},
    "colab_type": "code",
    "hidden": true,
    "id": "_DoLYzJGXLQB"
   },
   "outputs": [],
   "source": [
    "dct={i:encrypted_text.count(i) for i in encrypted_text}"
   ]
  },
  {
   "cell_type": "code",
   "execution_count": null,
   "metadata": {
    "colab": {},
    "colab_type": "code",
    "hidden": true,
    "id": "QPyYJL5jXLQD"
   },
   "outputs": [],
   "source": [
    "import operator"
   ]
  },
  {
   "cell_type": "code",
   "execution_count": null,
   "metadata": {
    "colab": {},
    "colab_type": "code",
    "hidden": true,
    "id": "fVFxZ6QGXLQF",
    "outputId": "636e8077-f378-473e-c105-661a83001fe6"
   },
   "outputs": [
    {
     "data": {
      "text/plain": [
       "{' ': 158,\n",
       " 'S': 88,\n",
       " 'O': 85,\n",
       " 'G': 67,\n",
       " 'F': 51,\n",
       " 'D': 42,\n",
       " 'L': 39,\n",
       " 'M': 35,\n",
       " 'K': 35,\n",
       " 'I': 33,\n",
       " 'P': 30,\n",
       " 'N': 29,\n",
       " 'C': 26,\n",
       " 'E': 23,\n",
       " 'U': 17,\n",
       " 'R': 17,\n",
       " 'W': 16,\n",
       " 'Q': 14,\n",
       " \"'\": 12,\n",
       " 'Y': 10,\n",
       " ',': 10,\n",
       " 'H': 8,\n",
       " 'X': 6,\n",
       " 'A': 5,\n",
       " '.': 4,\n",
       " 'V': 3,\n",
       " 'B': 2,\n",
       " 'J': 1}"
      ]
     },
     "execution_count": 131,
     "metadata": {
      "tags": []
     },
     "output_type": "execute_result"
    }
   ],
   "source": [
    "dict(sorted(dct.items(), key=operator.itemgetter(1), reverse=True))"
   ]
  },
  {
   "cell_type": "code",
   "execution_count": null,
   "metadata": {
    "colab": {},
    "colab_type": "code",
    "hidden": true,
    "id": "f4u32dMlXLQH"
   },
   "outputs": [],
   "source": [
    "encrypted_text=encrypted_text.replace('S','e')"
   ]
  },
  {
   "cell_type": "code",
   "execution_count": null,
   "metadata": {
    "colab": {},
    "colab_type": "code",
    "hidden": true,
    "id": "QUpdyk-1XLQI"
   },
   "outputs": [],
   "source": [
    "encrypted_text=encrypted_text.replace('O','t').replace('I','h')"
   ]
  },
  {
   "cell_type": "code",
   "execution_count": null,
   "metadata": {
    "colab": {},
    "colab_type": "code",
    "hidden": true,
    "id": "b8nAPdZrXLQK"
   },
   "outputs": [],
   "source": [
    "encrypted_text=encrypted_text.replace('G','o')"
   ]
  },
  {
   "cell_type": "code",
   "execution_count": null,
   "metadata": {
    "colab": {},
    "colab_type": "code",
    "hidden": true,
    "id": "RKaHo5AoXLQM"
   },
   "outputs": [],
   "source": [
    "encrypted_text=encrypted_text.replace('C','f').replace('F','n')"
   ]
  },
  {
   "cell_type": "code",
   "execution_count": null,
   "metadata": {
    "colab": {},
    "colab_type": "code",
    "hidden": true,
    "id": "Y2CVOo8TXLQO"
   },
   "outputs": [],
   "source": [
    "encrypted_text=encrypted_text.replace('U','d').replace('P','i').replace('K','r')"
   ]
  },
  {
   "cell_type": "code",
   "execution_count": null,
   "metadata": {
    "colab": {},
    "colab_type": "code",
    "hidden": true,
    "id": "C8NadOGvXLQQ"
   },
   "outputs": [],
   "source": [
    "encrypted_text=encrypted_text.replace('L','s').replace('D','l').replace('M','a').replace('N','c').replace('Y','y').replace('H','p')"
   ]
  },
  {
   "cell_type": "code",
   "execution_count": null,
   "metadata": {
    "colab": {},
    "colab_type": "code",
    "hidden": true,
    "id": "SnElHapOXLQR"
   },
   "outputs": [],
   "source": [
    "encrypted_text=encrypted_text.replace('E','m').replace('W','w').replace('R','g').replace('B','k').replace('V','v').replace('Q','u')"
   ]
  },
  {
   "cell_type": "code",
   "execution_count": null,
   "metadata": {
    "colab": {},
    "colab_type": "code",
    "hidden": true,
    "id": "uKYsCWC6XLQU"
   },
   "outputs": [],
   "source": [
    "encrypted_text=encrypted_text.replace('A','b').replace('X','x')"
   ]
  },
  {
   "cell_type": "code",
   "execution_count": null,
   "metadata": {
    "colab": {},
    "colab_type": "code",
    "hidden": true,
    "id": "j3xu2efwXLQX",
    "outputId": "8f0ed68f-2afb-45da-b084-934841d7498c"
   },
   "outputs": [
    {
     "data": {
      "text/plain": [
       "\"one way to solve an encrypted message, if we know its language, is to find a different plaintext of the same language long enough to fill one sheet or so, and then we count the occurrences of each letter. we call the most freJuently occurring letter the 'first', the next most occurring letter the 'second' the following most occurring letter the 'third', and so on, until we account for all the different letters in the plaintext sample. then we look at the cipher text we want to solve and we also classify its symbols. we find the most occurring symbol and change it to the form of the 'first' letter of the plaintext sample, the next most common symbol is changed to the form of the 'second' letter, and the following most common symbol is changed to the form of the 'third' letter, and so on, until we account for all symbols of the cryptogram we want to solve.\""
      ]
     },
     "execution_count": 166,
     "metadata": {
      "tags": []
     },
     "output_type": "execute_result"
    }
   ],
   "source": [
    "encrypted_text"
   ]
  },
  {
   "cell_type": "markdown",
   "metadata": {
    "colab_type": "text",
    "id": "k_GNqxM1XLQY"
   },
   "source": [
    "# [Rr]eg[Ee]xp?"
   ]
  },
  {
   "cell_type": "code",
   "execution_count": null,
   "metadata": {
    "colab": {},
    "colab_type": "code",
    "id": "D3WIMn6kXLQZ",
    "outputId": "38014f22-48b0-4225-aa54-4159fea01460"
   },
   "outputs": [
    {
     "name": "stdout",
     "output_type": "stream",
     "text": [
      "Match 1 was found at 0-23: Aeromexico 800-237-6639\n",
      "Group 1 found at 0-10: Aeromexico\n",
      "Group 2 found at 11-23: 800-237-6639\n",
      "Match 2 was found at 24-47: Air Canada 888-247-2262\n",
      "Group 1 found at 24-34: Air Canada\n",
      "Group 2 found at 35-47: 888-247-2262\n",
      "Match 3 was found at 48-77: Air Canada Rouge 888-247-2262\n",
      "Group 1 found at 48-64: Air Canada Rouge\n",
      "Group 2 found at 65-77: 888-247-2262\n",
      "Match 4 was found at 78-102: Air Creebec 800-567-6567\n",
      "Group 1 found at 78-89: Air Creebec\n",
      "Group 2 found at 90-102: 800-567-6567\n",
      "Match 5 was found at 103-125: Air Inuit 800-361-2965\n",
      "Group 1 found at 103-112: Air Inuit\n",
      "Group 2 found at 113-125: 800-361-2965\n",
      "Match 6 was found at 126-148: Air North 800-661-0407\n",
      "Group 1 found at 126-135: Air North\n",
      "Group 2 found at 136-148: 800-661-0407\n",
      "Match 7 was found at 149-171: Air Tindi 888-545-6794\n",
      "Group 1 found at 149-158: Air Tindi\n",
      "Group 2 found at 159-171: 888-545-6794\n",
      "Match 8 was found at 172-196: Air Transat 866-847-1112\n",
      "Group 1 found at 172-183: Air Transat\n",
      "Group 2 found at 184-196: 866-847-1112\n",
      "Match 9 was found at 197-239: Alaska Airlines 800-426-0333, 866-516-1685\n",
      "Group 1 found at 197-212: Alaska Airlines\n",
      "Group 2 found at 213-239: 800-426-0333, 866-516-1685\n",
      "Match 10 was found at 240-266: Allegiant Air 702-505-8888\n",
      "Group 1 found at 240-253: Allegiant Air\n",
      "Group 2 found at 254-266: 702-505-8888\n",
      "Match 11 was found at 267-297: American Airlines 800-433-7300\n",
      "Group 1 found at 267-284: American Airlines\n",
      "Group 2 found at 285-297: 800-433-7300\n",
      "Match 12 was found at 298-328: Bearskin Airlines 807-577-1141\n",
      "Group 1 found at 298-315: Bearskin Airlines\n",
      "Group 2 found at 316-328: 807-577-1141\n",
      "Match 13 was found at 329-357: Buffalo Airways 867-874-3333\n",
      "Group 1 found at 329-344: Buffalo Airways\n",
      "Group 2 found at 345-357: 867-874-3333\n",
      "Match 14 was found at 358-379: Calm Air 800-839-2256\n",
      "Group 1 found at 358-366: Calm Air\n",
      "Group 2 found at 367-379: 800-839-2256\n",
      "Match 15 was found at 380-401: Cape Air 800-227-3247\n",
      "Group 1 found at 380-388: Cape Air\n",
      "Group 2 found at 389-401: 800-227-3247\n",
      "Match 16 was found at 402-430: Delta Air Lines 800-455-2720\n",
      "Group 1 found at 402-417: Delta Air Lines\n",
      "Group 2 found at 418-430: 800-455-2720\n",
      "Match 17 was found at 431-453: First Air 800-267-1247\n",
      "Group 1 found at 431-440: First Air\n",
      "Group 2 found at 441-453: 800-267-1247\n",
      "Match 18 was found at 454-481: Flair Airlines 204-888-2665\n",
      "Group 1 found at 454-468: Flair Airlines\n",
      "Group 2 found at 469-481: 204-888-2665\n",
      "Match 19 was found at 482-512: Frontier Airlines 801-401-9000\n",
      "Group 1 found at 482-499: Frontier Airlines\n",
      "Group 2 found at 500-512: 801-401-9000\n",
      "Match 20 was found at 513-536: Harbor Air 800-665-0212\n",
      "Group 1 found at 513-523: Harbor Air\n",
      "Group 2 found at 524-536: 800-665-0212\n",
      "Match 21 was found at 537-567: Hawaiian Airlines 877-426-4537\n",
      "Group 1 found at 537-554: Hawaiian Airlines\n",
      "Group 2 found at 555-567: 877-426-4537\n",
      "Match 22 was found at 568-592: Horizon Air 800-547-9308\n",
      "Group 1 found at 568-579: Horizon Air\n",
      "Group 2 found at 580-592: 800-547-9308\n",
      "Match 23 was found at 593-614: InterJet 866-285-8307\n",
      "Group 1 found at 593-601: InterJet\n",
      "Group 2 found at 602-614: 866-285-8307\n",
      "Match 24 was found at 615-638: Island Air 800-388-1105\n",
      "Group 1 found at 615-625: Island Air\n",
      "Group 2 found at 626-638: 800-388-1105\n",
      "Match 25 was found at 639-659: JetBlue 800-538-2583\n",
      "Group 1 found at 639-646: JetBlue\n",
      "Group 2 found at 647-659: 800-538-2583\n",
      "Match 26 was found at 660-688: Porter Airlines 888-619-8622\n",
      "Group 1 found at 660-675: Porter Airlines\n",
      "Group 2 found at 676-688: 888-619-8622\n",
      "Match 27 was found at 689-716: Silver Airways 801-401-9100\n",
      "Group 1 found at 689-703: Silver Airways\n",
      "Group 2 found at 704-716: 801-401-9100\n",
      "Match 28 was found at 717-748: Southwest Airlines 800-435-9792\n",
      "Group 1 found at 717-735: Southwest Airlines\n",
      "Group 2 found at 736-748: 800-435-9792\n",
      "Match 29 was found at 749-777: Spirit Airlines 801-401-2222\n",
      "Group 1 found at 749-764: Spirit Airlines\n",
      "Group 2 found at 765-777: 801-401-2222\n",
      "Match 30 was found at 778-811: Sun Country Airlines 800-359-6786\n",
      "Group 1 found at 778-798: Sun Country Airlines\n",
      "Group 2 found at 799-811: 800-359-6786\n",
      "Match 31 was found at 812-832: Sunwing 877-SUN-WING\n",
      "Group 1 found at 812-819: Sunwing\n",
      "Group 2 found at 820-832: 877-SUN-WING\n",
      "Match 32 was found at 833-862: Thunder Airlines 800-803-9943\n",
      "Group 1 found at 833-849: Thunder Airlines\n",
      "Group 2 found at 850-862: 800-803-9943\n",
      "Match 33 was found at 863-891: United Airlines 800-864-8331\n",
      "Group 1 found at 863-878: United Airlines\n",
      "Group 2 found at 879-891: 800-864-8331\n",
      "Match 34 was found at 892-919: Virgin America 877-359-8474\n",
      "Group 1 found at 892-906: Virgin America\n",
      "Group 2 found at 907-919: 877-359-8474\n",
      "Match 35 was found at 920-945: VivaAerobus 888-935-9848 \n",
      "Group 1 found at 920-931: VivaAerobus\n",
      "Group 2 found at 932-945: 888-935-9848 \n",
      "Match 36 was found at 946-966: Volaris 855-865-2747\n",
      "Group 1 found at 946-953: Volaris\n",
      "Group 2 found at 954-966: 855-865-2747\n",
      "Match 37 was found at 967-996: WestJet Airlines 888-937-8538\n",
      "Group 1 found at 967-983: WestJet Airlines\n",
      "Group 2 found at 984-996: 888-937-8538\n"
     ]
    }
   ],
   "source": [
    "import re\n",
    "\n",
    "regex = r\"([A-Za-z ]+) ((?:\\d{3}-\\w{3}-\\w{4},? ?)+)\"\n",
    "\n",
    "test_str = (\"Aeromexico 800-237-6639\\n\"\n",
    "\t\"Air Canada 888-247-2262\\n\"\n",
    "\t\"Air Canada Rouge 888-247-2262\\n\"\n",
    "\t\"Air Creebec 800-567-6567\\n\"\n",
    "\t\"Air Inuit 800-361-2965\\n\"\n",
    "\t\"Air North 800-661-0407\\n\"\n",
    "\t\"Air Tindi 888-545-6794\\n\"\n",
    "\t\"Air Transat 866-847-1112\\n\"\n",
    "\t\"Alaska Airlines 800-426-0333, 866-516-1685\\n\"\n",
    "\t\"Allegiant Air 702-505-8888\\n\"\n",
    "\t\"American Airlines 800-433-7300\\n\"\n",
    "\t\"Bearskin Airlines 807-577-1141\\n\"\n",
    "\t\"Buffalo Airways 867-874-3333\\n\"\n",
    "\t\"Calm Air 800-839-2256\\n\"\n",
    "\t\"Cape Air 800-227-3247\\n\"\n",
    "\t\"Delta Air Lines 800-455-2720\\n\"\n",
    "\t\"First Air 800-267-1247\\n\"\n",
    "\t\"Flair Airlines 204-888-2665\\n\"\n",
    "\t\"Frontier Airlines 801-401-9000\\n\"\n",
    "\t\"Harbor Air 800-665-0212\\n\"\n",
    "\t\"Hawaiian Airlines 877-426-4537\\n\"\n",
    "\t\"Horizon Air 800-547-9308\\n\"\n",
    "\t\"InterJet 866-285-8307\\n\"\n",
    "\t\"Island Air 800-388-1105\\n\"\n",
    "\t\"JetBlue 800-538-2583\\n\"\n",
    "\t\"Porter Airlines 888-619-8622\\n\"\n",
    "\t\"Silver Airways 801-401-9100\\n\"\n",
    "\t\"Southwest Airlines 800-435-9792\\n\"\n",
    "\t\"Spirit Airlines 801-401-2222\\n\"\n",
    "\t\"Sun Country Airlines 800-359-6786\\n\"\n",
    "\t\"Sunwing 877-SUN-WING\\n\"\n",
    "\t\"Thunder Airlines 800-803-9943\\n\"\n",
    "\t\"United Airlines 800-864-8331\\n\"\n",
    "\t\"Virgin America 877-359-8474\\n\"\n",
    "\t\"VivaAerobus 888-935-9848 \\n\"\n",
    "\t\"Volaris 855-865-2747\\n\"\n",
    "\t\"WestJet Airlines 888-937-8538\")\n",
    "\n",
    "matches = re.finditer(regex, test_str, re.MULTILINE)\n",
    "\n",
    "for matchNum, match in enumerate(matches, start=1):\n",
    "    \n",
    "    print (\"Match {matchNum} was found at {start}-{end}: {match}\".format(matchNum = matchNum, start = match.start(), end = match.end(), match = match.group()))\n",
    "    \n",
    "    for groupNum in range(0, len(match.groups())):\n",
    "        groupNum = groupNum + 1\n",
    "        \n",
    "        print (\"Group {groupNum} found at {start}-{end}: {group}\".format(groupNum = groupNum, start = match.start(groupNum), end = match.end(groupNum), group = match.group(groupNum)))\n",
    "\n",
    "# Note: for Python 2.7 compatibility, use ur\"\" to prefix the regex and u\"\" to prefix the test string and substitution."
   ]
  },
  {
   "cell_type": "code",
   "execution_count": null,
   "metadata": {
    "colab": {},
    "colab_type": "code",
    "id": "XZZYuwq4XLQa"
   },
   "outputs": [],
   "source": [
    "txt=\"\"\"Aeromexico 800-237-6639\n",
    "Air Canada 888-247-2262\n",
    "Air Canada Rouge 888-247-2262\n",
    "Air Creebec 800-567-6567\n",
    "Air Inuit 800-361-2965\n",
    "Air North 800-661-0407\n",
    "Air Tindi 888-545-6794\n",
    "Air Transat 866-847-1112\n",
    "Alaska Airlines 800-426-0333, 866-516-1685\n",
    "Allegiant Air 702-505-8888\n",
    "American Airlines 800-433-7300\n",
    "Bearskin Airlines 807-577-1141\n",
    "Buffalo Airways 867-874-3333\n",
    "Calm Air 800-839-2256\n",
    "Cape Air 800-227-3247\n",
    "Delta Air Lines 800-455-2720\n",
    "First Air 800-267-1247\n",
    "Flair Airlines 204-888-2665\n",
    "Frontier Airlines 801-401-9000\n",
    "Harbor Air 800-665-0212\n",
    "Hawaiian Airlines 877-426-4537\n",
    "Horizon Air 800-547-9308\n",
    "InterJet 866-285-8307\n",
    "Island Air 800-388-1105\n",
    "JetBlue 800-538-2583\n",
    "Porter Airlines 888-619-8622\n",
    "Silver Airways 801-401-9100\n",
    "Southwest Airlines 800-435-9792\n",
    "Spirit Airlines 801-401-2222\n",
    "Sun Country Airlines 800-359-6786\n",
    "Sunwing 877-SUN-WING\n",
    "Thunder Airlines 800-803-9943\n",
    "United Airlines 800-864-8331\n",
    "Virgin America 877-359-8474\n",
    "VivaAerobus 888-935-9848 \n",
    "Volaris 855-865-2747\n",
    "WestJet Airlines 888-937-8538\"\"\""
   ]
  },
  {
   "cell_type": "code",
   "execution_count": null,
   "metadata": {
    "colab": {},
    "colab_type": "code",
    "id": "BHxZ-Di4XLQc"
   },
   "outputs": [],
   "source": [
    "pattern=\"([A-Za-z ]+) ((?:\\d{3}-\\w{3}-\\w{4},? ?)+)\""
   ]
  },
  {
   "cell_type": "code",
   "execution_count": null,
   "metadata": {
    "colab": {},
    "colab_type": "code",
    "id": "0jefDaaBXLQd"
   },
   "outputs": [],
   "source": [
    "out=re.findall(pattern,txt)"
   ]
  },
  {
   "cell_type": "code",
   "execution_count": null,
   "metadata": {
    "colab": {},
    "colab_type": "code",
    "id": "V6R2xBSLXLQf",
    "outputId": "b1b031a3-43ca-4d50-bf2c-6f7d32009b1e",
    "scrolled": true
   },
   "outputs": [
    {
     "name": "stdout",
     "output_type": "stream",
     "text": [
      "('Aeromexico', '800-237-6639')\n",
      "('Air Canada', '888-247-2262')\n",
      "('Air Canada Rouge', '888-247-2262')\n",
      "('Air Creebec', '800-567-6567')\n",
      "('Air Inuit', '800-361-2965')\n",
      "('Air North', '800-661-0407')\n",
      "('Air Tindi', '888-545-6794')\n",
      "('Air Transat', '866-847-1112')\n",
      "('Alaska Airlines', '800-426-0333, 866-516-1685')\n",
      "('Allegiant Air', '702-505-8888')\n",
      "('American Airlines', '800-433-7300')\n",
      "('Bearskin Airlines', '807-577-1141')\n",
      "('Buffalo Airways', '867-874-3333')\n",
      "('Calm Air', '800-839-2256')\n",
      "('Cape Air', '800-227-3247')\n",
      "('Delta Air Lines', '800-455-2720')\n",
      "('First Air', '800-267-1247')\n",
      "('Flair Airlines', '204-888-2665')\n",
      "('Frontier Airlines', '801-401-9000')\n",
      "('Harbor Air', '800-665-0212')\n",
      "('Hawaiian Airlines', '877-426-4537')\n",
      "('Horizon Air', '800-547-9308')\n",
      "('InterJet', '866-285-8307')\n",
      "('Island Air', '800-388-1105')\n",
      "('JetBlue', '800-538-2583')\n",
      "('Porter Airlines', '888-619-8622')\n",
      "('Silver Airways', '801-401-9100')\n",
      "('Southwest Airlines', '800-435-9792')\n",
      "('Spirit Airlines', '801-401-2222')\n",
      "('Sun Country Airlines', '800-359-6786')\n",
      "('Sunwing', '877-SUN-WING')\n",
      "('Thunder Airlines', '800-803-9943')\n",
      "('United Airlines', '800-864-8331')\n",
      "('Virgin America', '877-359-8474')\n",
      "('VivaAerobus', '888-935-9848 ')\n",
      "('Volaris', '855-865-2747')\n",
      "('WestJet Airlines', '888-937-8538')\n"
     ]
    }
   ],
   "source": [
    "for i in out:\n",
    "    print(i)"
   ]
  },
  {
   "cell_type": "code",
   "execution_count": null,
   "metadata": {
    "colab": {},
    "colab_type": "code",
    "id": "Xf8mGEhNXLQg"
   },
   "outputs": [],
   "source": [
    "out=re.finditer(pattern,txt)"
   ]
  },
  {
   "cell_type": "code",
   "execution_count": null,
   "metadata": {
    "colab": {},
    "colab_type": "code",
    "collapsed": true,
    "id": "LngSmUM3XLQi",
    "outputId": "23672f02-8a47-4605-dff3-063fda91a0df"
   },
   "outputs": [
    {
     "name": "stdout",
     "output_type": "stream",
     "text": [
      "800-237-6639\n",
      "888-247-2262\n",
      "888-247-2262\n",
      "800-567-6567\n",
      "800-361-2965\n",
      "800-661-0407\n",
      "888-545-6794\n",
      "866-847-1112\n",
      "800-426-0333, 866-516-1685\n",
      "702-505-8888\n",
      "800-433-7300\n",
      "807-577-1141\n",
      "867-874-3333\n",
      "800-839-2256\n",
      "800-227-3247\n",
      "800-455-2720\n",
      "800-267-1247\n",
      "204-888-2665\n",
      "801-401-9000\n",
      "800-665-0212\n",
      "877-426-4537\n",
      "800-547-9308\n",
      "866-285-8307\n",
      "800-388-1105\n",
      "800-538-2583\n",
      "888-619-8622\n",
      "801-401-9100\n",
      "800-435-9792\n",
      "801-401-2222\n",
      "800-359-6786\n",
      "877-SUN-WING\n",
      "800-803-9943\n",
      "800-864-8331\n",
      "877-359-8474\n",
      "888-935-9848 \n",
      "855-865-2747\n",
      "888-937-8538\n"
     ]
    }
   ],
   "source": [
    "for i in out:\n",
    "    print(i.group(2))"
   ]
  },
  {
   "cell_type": "code",
   "execution_count": null,
   "metadata": {
    "colab": {},
    "colab_type": "code",
    "id": "2vJhr5z2XLQj"
   },
   "outputs": [],
   "source": []
  }
 ],
 "metadata": {
  "colab": {
   "name": "1.1.3.ipynb",
   "provenance": []
  },
  "kernelspec": {
   "display_name": "Python 3",
   "language": "python",
   "name": "python3"
  },
  "language_info": {
   "codemirror_mode": {
    "name": "ipython",
    "version": 3
   },
   "file_extension": ".py",
   "mimetype": "text/x-python",
   "name": "python",
   "nbconvert_exporter": "python",
   "pygments_lexer": "ipython3",
   "version": "3.8.5"
  },
  "toc": {
   "base_numbering": 1,
   "nav_menu": {},
   "number_sections": true,
   "sideBar": true,
   "skip_h1_title": false,
   "title_cell": "Table of Contents",
   "title_sidebar": "Contents",
   "toc_cell": true,
   "toc_position": {},
   "toc_section_display": true,
   "toc_window_display": false
  }
 },
 "nbformat": 4,
 "nbformat_minor": 1
}
